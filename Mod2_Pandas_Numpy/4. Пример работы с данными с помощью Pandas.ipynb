{
 "cells": [
  {
   "cell_type": "markdown",
   "source": [
    "1) Загрузим исходные данные"
   ],
   "metadata": {
    "collapsed": false
   }
  },
  {
   "cell_type": "code",
   "execution_count": null,
   "outputs": [],
   "source": [
    "!pip install pandas\n",
    "!pip install numpy\n",
    "import pandas as pd\n",
    "import numpy as np"
   ],
   "metadata": {
    "collapsed": false
   }
  },
  {
   "cell_type": "code",
   "execution_count": 11,
   "outputs": [
    {
     "data": {
      "text/plain": "                order_date       rider_assigned       food_picked_up  \\\n47844  2021-07-30 11:59:46  2021-07-30 12:00:27  2021-07-30 12:26:38   \n47845  2021-07-30 14:55:13  2021-07-30 14:55:29  2021-07-30 15:15:48   \n47846  2021-07-30 13:14:59  2021-07-30 13:18:14  2021-07-30 13:27:23   \n47847  2021-07-30 14:46:12  2021-07-30 14:47:01  2021-07-30 14:51:37   \n47848  2021-07-30 12:26:44  2021-07-30 12:26:58  2021-07-30 12:44:34   \n...                    ...                  ...                  ...   \n47939  2021-07-30 06:55:05  2021-07-30 06:55:38  2021-07-30 07:12:39   \n47940  2021-07-30 17:01:13  2021-07-30 17:01:23  2021-07-30 17:24:30   \n47941  2021-07-30 16:57:59  2021-07-30 16:59:21  2021-07-30 17:09:21   \n47942  2021-07-30 11:33:57  2021-07-30 11:34:08  2021-07-30 11:44:22   \n47943  2021-07-30 17:05:13  2021-07-30 17:05:20                  NaN   \n\n            food_delivered  successful_order  failed_order  \\\n47844  2021-07-30 12:37:03                 1             0   \n47845  2021-07-30 15:22:12                 1             0   \n47846  2021-07-30 13:33:50                 1             0   \n47847  2021-07-30 14:54:17                 1             0   \n47848  2021-07-30 12:50:47                 1             0   \n...                    ...               ...           ...   \n47939  2021-07-30 07:21:34                 1             0   \n47940  2021-07-30 17:27:21                 1             0   \n47941  2021-07-30 17:25:56                 1             0   \n47942  2021-07-30 11:47:40                 1             0   \n47943                  NaN                 0             1   \n\n                               rider_id                         vendor_id  \\\n47844  87e53e6930e71d76447f59bef3ec55d9  97d715113d3bcd227118085f15b9f275   \n47845  d4565cd934f50efaaba8708a5e3b6cd1  1e5a3430c04ac929682ad74e0b44b1fb   \n47846  a9501e68b2447908880b08a09eec529a  5500814d675d2602864d51312b4a61c3   \n47847  57f86b33539dcf03e876de787098ade0  41b2e247945ba4d923d8e0ecc4a3454a   \n47848  e46bfb686b9ff1d9de75f8d9ac604311  1e5a3430c04ac929682ad74e0b44b1fb   \n...                                 ...                               ...   \n47939  105cf28f9cdcc006302b83605e9a4d32  915dff0f301281f975d4aac54026a576   \n47940  05d30c6ccb433a5f39b879fcd579f873  40552e31feef1704dcca105f9fb6fef2   \n47941  1bf043ad9d32e841e479f739644a224e  460a0d84d9c1d460baf974def0d23117   \n47942  05d30c6ccb433a5f39b879fcd579f873  fc08409966f5f5a27ad9b9846c6fe7e4   \n47943  4976acea6c2e2811328dc336c9e96fe3  297d3df24261709ff7cb6f04135e9caf   \n\n        price  \n47844  1696.0  \n47845   836.0  \n47846   775.0  \n47847   844.0  \n47848   378.0  \n...       ...  \n47939  1163.0  \n47940   492.0  \n47941  1595.0  \n47942   558.0  \n47943  1447.0  \n\n[100 rows x 9 columns]",
      "text/html": "<div>\n<style scoped>\n    .dataframe tbody tr th:only-of-type {\n        vertical-align: middle;\n    }\n\n    .dataframe tbody tr th {\n        vertical-align: top;\n    }\n\n    .dataframe thead th {\n        text-align: right;\n    }\n</style>\n<table border=\"1\" class=\"dataframe\">\n  <thead>\n    <tr style=\"text-align: right;\">\n      <th></th>\n      <th>order_date</th>\n      <th>rider_assigned</th>\n      <th>food_picked_up</th>\n      <th>food_delivered</th>\n      <th>successful_order</th>\n      <th>failed_order</th>\n      <th>rider_id</th>\n      <th>vendor_id</th>\n      <th>price</th>\n    </tr>\n  </thead>\n  <tbody>\n    <tr>\n      <th>47844</th>\n      <td>2021-07-30 11:59:46</td>\n      <td>2021-07-30 12:00:27</td>\n      <td>2021-07-30 12:26:38</td>\n      <td>2021-07-30 12:37:03</td>\n      <td>1</td>\n      <td>0</td>\n      <td>87e53e6930e71d76447f59bef3ec55d9</td>\n      <td>97d715113d3bcd227118085f15b9f275</td>\n      <td>1696.0</td>\n    </tr>\n    <tr>\n      <th>47845</th>\n      <td>2021-07-30 14:55:13</td>\n      <td>2021-07-30 14:55:29</td>\n      <td>2021-07-30 15:15:48</td>\n      <td>2021-07-30 15:22:12</td>\n      <td>1</td>\n      <td>0</td>\n      <td>d4565cd934f50efaaba8708a5e3b6cd1</td>\n      <td>1e5a3430c04ac929682ad74e0b44b1fb</td>\n      <td>836.0</td>\n    </tr>\n    <tr>\n      <th>47846</th>\n      <td>2021-07-30 13:14:59</td>\n      <td>2021-07-30 13:18:14</td>\n      <td>2021-07-30 13:27:23</td>\n      <td>2021-07-30 13:33:50</td>\n      <td>1</td>\n      <td>0</td>\n      <td>a9501e68b2447908880b08a09eec529a</td>\n      <td>5500814d675d2602864d51312b4a61c3</td>\n      <td>775.0</td>\n    </tr>\n    <tr>\n      <th>47847</th>\n      <td>2021-07-30 14:46:12</td>\n      <td>2021-07-30 14:47:01</td>\n      <td>2021-07-30 14:51:37</td>\n      <td>2021-07-30 14:54:17</td>\n      <td>1</td>\n      <td>0</td>\n      <td>57f86b33539dcf03e876de787098ade0</td>\n      <td>41b2e247945ba4d923d8e0ecc4a3454a</td>\n      <td>844.0</td>\n    </tr>\n    <tr>\n      <th>47848</th>\n      <td>2021-07-30 12:26:44</td>\n      <td>2021-07-30 12:26:58</td>\n      <td>2021-07-30 12:44:34</td>\n      <td>2021-07-30 12:50:47</td>\n      <td>1</td>\n      <td>0</td>\n      <td>e46bfb686b9ff1d9de75f8d9ac604311</td>\n      <td>1e5a3430c04ac929682ad74e0b44b1fb</td>\n      <td>378.0</td>\n    </tr>\n    <tr>\n      <th>...</th>\n      <td>...</td>\n      <td>...</td>\n      <td>...</td>\n      <td>...</td>\n      <td>...</td>\n      <td>...</td>\n      <td>...</td>\n      <td>...</td>\n      <td>...</td>\n    </tr>\n    <tr>\n      <th>47939</th>\n      <td>2021-07-30 06:55:05</td>\n      <td>2021-07-30 06:55:38</td>\n      <td>2021-07-30 07:12:39</td>\n      <td>2021-07-30 07:21:34</td>\n      <td>1</td>\n      <td>0</td>\n      <td>105cf28f9cdcc006302b83605e9a4d32</td>\n      <td>915dff0f301281f975d4aac54026a576</td>\n      <td>1163.0</td>\n    </tr>\n    <tr>\n      <th>47940</th>\n      <td>2021-07-30 17:01:13</td>\n      <td>2021-07-30 17:01:23</td>\n      <td>2021-07-30 17:24:30</td>\n      <td>2021-07-30 17:27:21</td>\n      <td>1</td>\n      <td>0</td>\n      <td>05d30c6ccb433a5f39b879fcd579f873</td>\n      <td>40552e31feef1704dcca105f9fb6fef2</td>\n      <td>492.0</td>\n    </tr>\n    <tr>\n      <th>47941</th>\n      <td>2021-07-30 16:57:59</td>\n      <td>2021-07-30 16:59:21</td>\n      <td>2021-07-30 17:09:21</td>\n      <td>2021-07-30 17:25:56</td>\n      <td>1</td>\n      <td>0</td>\n      <td>1bf043ad9d32e841e479f739644a224e</td>\n      <td>460a0d84d9c1d460baf974def0d23117</td>\n      <td>1595.0</td>\n    </tr>\n    <tr>\n      <th>47942</th>\n      <td>2021-07-30 11:33:57</td>\n      <td>2021-07-30 11:34:08</td>\n      <td>2021-07-30 11:44:22</td>\n      <td>2021-07-30 11:47:40</td>\n      <td>1</td>\n      <td>0</td>\n      <td>05d30c6ccb433a5f39b879fcd579f873</td>\n      <td>fc08409966f5f5a27ad9b9846c6fe7e4</td>\n      <td>558.0</td>\n    </tr>\n    <tr>\n      <th>47943</th>\n      <td>2021-07-30 17:05:13</td>\n      <td>2021-07-30 17:05:20</td>\n      <td>NaN</td>\n      <td>NaN</td>\n      <td>0</td>\n      <td>1</td>\n      <td>4976acea6c2e2811328dc336c9e96fe3</td>\n      <td>297d3df24261709ff7cb6f04135e9caf</td>\n      <td>1447.0</td>\n    </tr>\n  </tbody>\n</table>\n<p>100 rows × 9 columns</p>\n</div>"
     },
     "execution_count": 11,
     "metadata": {},
     "output_type": "execute_result"
    }
   ],
   "source": [
    "df = pd.read_csv('orders_history.csv', sep = ',')\n",
    "df.head(5)\n",
    "# df.tail()"
   ],
   "metadata": {
    "collapsed": false,
    "ExecuteTime": {
     "end_time": "2023-10-22T06:51:01.354766500Z",
     "start_time": "2023-10-22T06:51:01.117574Z"
    }
   }
  },
  {
   "cell_type": "code",
   "execution_count": null,
   "outputs": [],
   "source": [
    "#по умолчанию выводится 20 столбцов и 60 строк. Можно изменить, воспользовавшись следующей командой:\n",
    "pd.set_option('display.max_columns', 100)\n",
    "pd.set_option('display.max_raws', 100)\n",
    "#еще очень полезная опция\n",
    "pd.set_option('display.precision', 100)"
   ],
   "metadata": {
    "collapsed": false
   }
  },
  {
   "cell_type": "markdown",
   "source": [
    "3) Посмотрим на размер данных, названия признаков и их типы"
   ],
   "metadata": {
    "collapsed": false
   }
  },
  {
   "cell_type": "code",
   "execution_count": 12,
   "outputs": [
    {
     "data": {
      "text/plain": "(47944, 9)"
     },
     "execution_count": 12,
     "metadata": {},
     "output_type": "execute_result"
    }
   ],
   "source": [
    "df.shape"
   ],
   "metadata": {
    "collapsed": false,
    "ExecuteTime": {
     "end_time": "2023-10-22T06:55:46.578799800Z",
     "start_time": "2023-10-22T06:55:46.555071400Z"
    }
   }
  },
  {
   "cell_type": "code",
   "execution_count": 13,
   "outputs": [
    {
     "data": {
      "text/plain": "47944"
     },
     "execution_count": 13,
     "metadata": {},
     "output_type": "execute_result"
    }
   ],
   "source": [
    "df.shape[0]"
   ],
   "metadata": {
    "collapsed": false,
    "ExecuteTime": {
     "end_time": "2023-10-22T06:56:09.514611400Z",
     "start_time": "2023-10-22T06:56:09.483390600Z"
    }
   }
  },
  {
   "cell_type": "code",
   "execution_count": 14,
   "outputs": [
    {
     "data": {
      "text/plain": "Index(['order_date', 'rider_assigned', 'food_picked_up', 'food_delivered',\n       'successful_order', 'failed_order', 'rider_id', 'vendor_id', 'price'],\n      dtype='object')"
     },
     "execution_count": 14,
     "metadata": {},
     "output_type": "execute_result"
    }
   ],
   "source": [
    "df.columns"
   ],
   "metadata": {
    "collapsed": false,
    "ExecuteTime": {
     "end_time": "2023-10-22T06:56:29.866041700Z",
     "start_time": "2023-10-22T06:56:29.817850700Z"
    }
   }
  },
  {
   "cell_type": "markdown",
   "source": [
    "4)Посмотрим общую информацию по датафрейму.\n",
    "Для просмотра числовых статистик можно воспользоваться методом describe:"
   ],
   "metadata": {
    "collapsed": false
   }
  },
  {
   "cell_type": "code",
   "execution_count": 15,
   "outputs": [
    {
     "data": {
      "text/plain": "       successful_order  failed_order         price\ncount      47944.000000  47944.000000  47944.000000\nmean           0.963541      0.015894    957.195749\nstd            0.187432      0.125065    427.112479\nmin            0.000000      0.000000    223.000000\n25%            1.000000      0.000000    586.000000\n50%            1.000000      0.000000    956.000000\n75%            1.000000      0.000000   1327.000000\nmax            1.000000      1.000000   1700.000000",
      "text/html": "<div>\n<style scoped>\n    .dataframe tbody tr th:only-of-type {\n        vertical-align: middle;\n    }\n\n    .dataframe tbody tr th {\n        vertical-align: top;\n    }\n\n    .dataframe thead th {\n        text-align: right;\n    }\n</style>\n<table border=\"1\" class=\"dataframe\">\n  <thead>\n    <tr style=\"text-align: right;\">\n      <th></th>\n      <th>successful_order</th>\n      <th>failed_order</th>\n      <th>price</th>\n    </tr>\n  </thead>\n  <tbody>\n    <tr>\n      <th>count</th>\n      <td>47944.000000</td>\n      <td>47944.000000</td>\n      <td>47944.000000</td>\n    </tr>\n    <tr>\n      <th>mean</th>\n      <td>0.963541</td>\n      <td>0.015894</td>\n      <td>957.195749</td>\n    </tr>\n    <tr>\n      <th>std</th>\n      <td>0.187432</td>\n      <td>0.125065</td>\n      <td>427.112479</td>\n    </tr>\n    <tr>\n      <th>min</th>\n      <td>0.000000</td>\n      <td>0.000000</td>\n      <td>223.000000</td>\n    </tr>\n    <tr>\n      <th>25%</th>\n      <td>1.000000</td>\n      <td>0.000000</td>\n      <td>586.000000</td>\n    </tr>\n    <tr>\n      <th>50%</th>\n      <td>1.000000</td>\n      <td>0.000000</td>\n      <td>956.000000</td>\n    </tr>\n    <tr>\n      <th>75%</th>\n      <td>1.000000</td>\n      <td>0.000000</td>\n      <td>1327.000000</td>\n    </tr>\n    <tr>\n      <th>max</th>\n      <td>1.000000</td>\n      <td>1.000000</td>\n      <td>1700.000000</td>\n    </tr>\n  </tbody>\n</table>\n</div>"
     },
     "execution_count": 15,
     "metadata": {},
     "output_type": "execute_result"
    }
   ],
   "source": [
    "df.describe()"
   ],
   "metadata": {
    "collapsed": false,
    "ExecuteTime": {
     "end_time": "2023-10-22T06:57:39.911273800Z",
     "start_time": "2023-10-22T06:57:39.839579700Z"
    }
   }
  },
  {
   "cell_type": "code",
   "execution_count": 16,
   "outputs": [
    {
     "data": {
      "text/plain": "                 order_date       rider_assigned       food_picked_up  \\\ncount                 47944                47883                46364   \nunique                47082                45276                45525   \ntop     2021-07-19 09:07:03  2021-07-16 12:42:08  2021-07-13 10:27:16   \nfreq                      3                    8                    3   \n\n             food_delivered                          rider_id  \\\ncount                 46260                             47883   \nunique                45421                               447   \ntop     2021-07-14 15:22:34  b7f93e38b59f20af3456fb85d827c0d3   \nfreq                      3                               594   \n\n                               vendor_id  \ncount                              47944  \nunique                               406  \ntop     9d3c4307b57777be1d4923d89fe1856d  \nfreq                                1945  ",
      "text/html": "<div>\n<style scoped>\n    .dataframe tbody tr th:only-of-type {\n        vertical-align: middle;\n    }\n\n    .dataframe tbody tr th {\n        vertical-align: top;\n    }\n\n    .dataframe thead th {\n        text-align: right;\n    }\n</style>\n<table border=\"1\" class=\"dataframe\">\n  <thead>\n    <tr style=\"text-align: right;\">\n      <th></th>\n      <th>order_date</th>\n      <th>rider_assigned</th>\n      <th>food_picked_up</th>\n      <th>food_delivered</th>\n      <th>rider_id</th>\n      <th>vendor_id</th>\n    </tr>\n  </thead>\n  <tbody>\n    <tr>\n      <th>count</th>\n      <td>47944</td>\n      <td>47883</td>\n      <td>46364</td>\n      <td>46260</td>\n      <td>47883</td>\n      <td>47944</td>\n    </tr>\n    <tr>\n      <th>unique</th>\n      <td>47082</td>\n      <td>45276</td>\n      <td>45525</td>\n      <td>45421</td>\n      <td>447</td>\n      <td>406</td>\n    </tr>\n    <tr>\n      <th>top</th>\n      <td>2021-07-19 09:07:03</td>\n      <td>2021-07-16 12:42:08</td>\n      <td>2021-07-13 10:27:16</td>\n      <td>2021-07-14 15:22:34</td>\n      <td>b7f93e38b59f20af3456fb85d827c0d3</td>\n      <td>9d3c4307b57777be1d4923d89fe1856d</td>\n    </tr>\n    <tr>\n      <th>freq</th>\n      <td>3</td>\n      <td>8</td>\n      <td>3</td>\n      <td>3</td>\n      <td>594</td>\n      <td>1945</td>\n    </tr>\n  </tbody>\n</table>\n</div>"
     },
     "execution_count": 16,
     "metadata": {},
     "output_type": "execute_result"
    }
   ],
   "source": [
    "df.describe(include=['object'])\n",
    "#получили частоты, самые часто встречаемые элементы и количество ненулевых значений"
   ],
   "metadata": {
    "collapsed": false,
    "ExecuteTime": {
     "end_time": "2023-10-22T06:57:42.676949800Z",
     "start_time": "2023-10-22T06:57:42.496548100Z"
    }
   }
  },
  {
   "cell_type": "markdown",
   "source": [
    "Также по нечисловым признакам можно изучить распределение:"
   ],
   "metadata": {
    "collapsed": false
   }
  },
  {
   "cell_type": "code",
   "execution_count": 17,
   "outputs": [
    {
     "data": {
      "text/plain": "vendor_id\n9d3c4307b57777be1d4923d89fe1856d    1945\n664f822c55bccff52b742f26000dde4b    1232\nf14a6286c9a5d2813c91f6c7d4864a39    1207\n554aa4cfb03c2cee2301f11518d27ed4    1180\neb8fb38c9c319130400ea46fe70e4b87     935\n08fcff35984652544c1fced8d7890442     931\n834c264af3fdc2dba2fa77fa48b8788c     853\n3220d5811c5b78640facd3c2d37b9223     853\n4880f8a21aa5d0087f7aba4340b9d46a     771\naaa3d0d3301d2467ea1597b831de7ee6     751\nName: count, dtype: int64"
     },
     "execution_count": 17,
     "metadata": {},
     "output_type": "execute_result"
    }
   ],
   "source": [
    "df.vendor_id.value_counts(dropna=False)[:10]"
   ],
   "metadata": {
    "collapsed": false,
    "ExecuteTime": {
     "end_time": "2023-10-22T06:58:01.111914700Z",
     "start_time": "2023-10-22T06:58:00.994035600Z"
    }
   }
  },
  {
   "cell_type": "code",
   "execution_count": 19,
   "outputs": [
    {
     "name": "stdout",
     "output_type": "stream",
     "text": [
      "<class 'pandas.core.frame.DataFrame'>\n",
      "RangeIndex: 47944 entries, 0 to 47943\n",
      "Data columns (total 9 columns):\n",
      " #   Column            Non-Null Count  Dtype  \n",
      "---  ------            --------------  -----  \n",
      " 0   order_date        47944 non-null  object \n",
      " 1   rider_assigned    47883 non-null  object \n",
      " 2   food_picked_up    46364 non-null  object \n",
      " 3   food_delivered    46260 non-null  object \n",
      " 4   successful_order  47944 non-null  int64  \n",
      " 5   failed_order      47944 non-null  int64  \n",
      " 6   rider_id          47883 non-null  object \n",
      " 7   vendor_id         47944 non-null  object \n",
      " 8   price             47944 non-null  float64\n",
      "dtypes: float64(1), int64(2), object(6)\n",
      "memory usage: 3.3+ MB\n"
     ]
    }
   ],
   "source": [
    "#нформация о колонках датафрейма:\n",
    "df.info()"
   ],
   "metadata": {
    "collapsed": false,
    "ExecuteTime": {
     "end_time": "2023-10-22T06:58:36.825285400Z",
     "start_time": "2023-10-22T06:58:36.727431100Z"
    }
   }
  },
  {
   "cell_type": "markdown",
   "source": [
    "В случае работы с большими датасетами занимаемая память - критичной фактор:"
   ],
   "metadata": {
    "collapsed": false
   }
  },
  {
   "cell_type": "code",
   "execution_count": 29,
   "outputs": [
    {
     "name": "stdout",
     "output_type": "stream",
     "text": [
      "Average memory usage for float columns: 0.18 MB\n",
      "Average memory usage for int columns: 0.24 MB\n",
      "Average memory usage for object columns: 3.13 MB\n"
     ]
    }
   ],
   "source": [
    "for dtype in ['float','int','object']:\n",
    "    selected_dtype = df.select_dtypes(include=[dtype])\n",
    "    mean_usage_b = selected_dtype.memory_usage(deep = True).mean()\n",
    "    mean_usage_mb = mean_usage_b / 1024 ** 2\n",
    "    print(\"Average memory usage for {} columns: {:03.2f} MB\".format(dtype,mean_usage_mb))"
   ],
   "metadata": {
    "collapsed": false,
    "ExecuteTime": {
     "end_time": "2023-10-22T07:14:36.516341400Z",
     "start_time": "2023-10-22T07:14:36.403484800Z"
    }
   }
  },
  {
   "cell_type": "markdown",
   "source": [
    "Не забываем, что мы можем закодировать колонки типа object в числовые эквиваленты, например с помощью pd.factorize.\n",
    "5) Изменим тип колонок в том случае, если это необходимо."
   ],
   "metadata": {
    "collapsed": false
   }
  },
  {
   "cell_type": "code",
   "execution_count": 30,
   "outputs": [],
   "source": [
    "In [14]: df['price'] = df['price'].astype('float32')"
   ],
   "metadata": {
    "collapsed": false,
    "ExecuteTime": {
     "end_time": "2023-10-22T07:16:52.844978700Z",
     "start_time": "2023-10-22T07:16:52.773335200Z"
    }
   }
  },
  {
   "cell_type": "code",
   "execution_count": 32,
   "outputs": [
    {
     "name": "stdout",
     "output_type": "stream",
     "text": [
      "<class 'pandas.core.frame.DataFrame'>\n",
      "RangeIndex: 47944 entries, 0 to 47943\n",
      "Data columns (total 9 columns):\n",
      " #   Column            Non-Null Count  Dtype  \n",
      "---  ------            --------------  -----  \n",
      " 0   order_date        47944 non-null  object \n",
      " 1   rider_assigned    47883 non-null  object \n",
      " 2   food_picked_up    46364 non-null  object \n",
      " 3   food_delivered    46260 non-null  object \n",
      " 4   successful_order  47944 non-null  int64  \n",
      " 5   failed_order      47944 non-null  int64  \n",
      " 6   rider_id          47883 non-null  object \n",
      " 7   vendor_id         47944 non-null  object \n",
      " 8   price             47944 non-null  float32\n",
      "dtypes: float32(1), int64(2), object(6)\n",
      "memory usage: 3.1+ MB\n",
      "None\n"
     ]
    }
   ],
   "source": [
    "#Обратить внимание, как изменился размер занимаемой памяти\n",
    "print(df.info())"
   ],
   "metadata": {
    "collapsed": false,
    "ExecuteTime": {
     "end_time": "2023-10-22T07:18:03.761832900Z",
     "start_time": "2023-10-22T07:18:03.705231800Z"
    }
   }
  },
  {
   "cell_type": "markdown",
   "source": [
    "**Тип данных КАТЕГОРИЯ**\n",
    "Отдельный тип данных в Pandas, которому стоит уделить внимание, так как он позволяет более эффективно работать с категориальными\n",
    "признаками.\n",
    "Что такое категориальные признаки?"
   ],
   "metadata": {
    "collapsed": false
   }
  },
  {
   "cell_type": "code",
   "execution_count": 37,
   "outputs": [
    {
     "data": {
      "text/plain": "[('order_date', 47082),\n ('rider_assigned', 45276),\n ('food_picked_up', 45525),\n ('food_delivered', 45421),\n ('successful_order', 2),\n ('failed_order', 2),\n ('rider_id', 447),\n ('vendor_id', 406),\n ('price', 1478)]"
     },
     "execution_count": 37,
     "metadata": {},
     "output_type": "execute_result"
    }
   ],
   "source": [
    "[(col, df[col].nunique()) for col in df.columns]"
   ],
   "metadata": {
    "collapsed": false,
    "ExecuteTime": {
     "end_time": "2023-10-22T07:21:01.131394300Z",
     "start_time": "2023-10-22T07:21:01.037537400Z"
    }
   }
  },
  {
   "cell_type": "code",
   "execution_count": 50,
   "outputs": [
    {
     "data": {
      "text/plain": "        Column_Name  Num_Unique\n4  successful_order           2\n5      failed_order           2\n7         vendor_id         406\n6          rider_id         447\n8             price        1478\n1    rider_assigned       45276\n3    food_delivered       45421\n2    food_picked_up       45525\n0        order_date       47082",
      "text/html": "<div>\n<style scoped>\n    .dataframe tbody tr th:only-of-type {\n        vertical-align: middle;\n    }\n\n    .dataframe tbody tr th {\n        vertical-align: top;\n    }\n\n    .dataframe thead th {\n        text-align: right;\n    }\n</style>\n<table border=\"1\" class=\"dataframe\">\n  <thead>\n    <tr style=\"text-align: right;\">\n      <th></th>\n      <th>Column_Name</th>\n      <th>Num_Unique</th>\n    </tr>\n  </thead>\n  <tbody>\n    <tr>\n      <th>4</th>\n      <td>successful_order</td>\n      <td>2</td>\n    </tr>\n    <tr>\n      <th>5</th>\n      <td>failed_order</td>\n      <td>2</td>\n    </tr>\n    <tr>\n      <th>7</th>\n      <td>vendor_id</td>\n      <td>406</td>\n    </tr>\n    <tr>\n      <th>6</th>\n      <td>rider_id</td>\n      <td>447</td>\n    </tr>\n    <tr>\n      <th>8</th>\n      <td>price</td>\n      <td>1478</td>\n    </tr>\n    <tr>\n      <th>1</th>\n      <td>rider_assigned</td>\n      <td>45276</td>\n    </tr>\n    <tr>\n      <th>3</th>\n      <td>food_delivered</td>\n      <td>45421</td>\n    </tr>\n    <tr>\n      <th>2</th>\n      <td>food_picked_up</td>\n      <td>45525</td>\n    </tr>\n    <tr>\n      <th>0</th>\n      <td>order_date</td>\n      <td>47082</td>\n    </tr>\n  </tbody>\n</table>\n</div>"
     },
     "execution_count": 50,
     "metadata": {},
     "output_type": "execute_result"
    }
   ],
   "source": [
    "#все уникальные значения в столбце\n",
    "unique_counts = pd.DataFrame.from_records([(col, df[col].nunique()) for col in df.columns], columns=['Column_Name', 'Num_Unique']).sort_values(by=['Num_Unique'])\n",
    "unique_counts"
   ],
   "metadata": {
    "collapsed": false,
    "ExecuteTime": {
     "end_time": "2023-10-22T07:26:04.021343Z",
     "start_time": "2023-10-22T07:26:03.916042900Z"
    }
   }
  },
  {
   "cell_type": "markdown",
   "source": [
    "Вендор (ресторан) - отличный кандидат для категориального признака."
   ],
   "metadata": {
    "collapsed": false
   }
  },
  {
   "cell_type": "code",
   "execution_count": 51,
   "outputs": [],
   "source": [
    "df_with_cat = df.copy()"
   ],
   "metadata": {
    "collapsed": false,
    "ExecuteTime": {
     "end_time": "2023-10-22T07:27:55.393263Z",
     "start_time": "2023-10-22T07:27:55.323171100Z"
    }
   }
  },
  {
   "cell_type": "code",
   "execution_count": 54,
   "outputs": [],
   "source": [
    "#заменим колонку в новом датафрейме на колонку с типом данных категория\n",
    "df_with_cat['vendor_id'] = df_with_cat['vendor_id'].astype('category')"
   ],
   "metadata": {
    "collapsed": false,
    "ExecuteTime": {
     "end_time": "2023-10-22T07:28:29.530589200Z",
     "start_time": "2023-10-22T07:28:29.510518600Z"
    }
   }
  },
  {
   "cell_type": "markdown",
   "source": [
    "Зачем нужны категориальные признаки в Pandas:\n",
    "- позволяют более эффективно обрабатывать категориальные признаки;\n",
    "- многие питоновские библиотеки имеют встроенные методы по работе с категориальными признаками;\n",
    "- такие признаки занимают меньше места и также положительно сказываются на производительности."
   ],
   "metadata": {
    "collapsed": false
   }
  },
  {
   "cell_type": "code",
   "execution_count": 55,
   "outputs": [
    {
     "name": "stdout",
     "output_type": "stream",
     "text": [
      "<class 'pandas.core.frame.DataFrame'>\n",
      "RangeIndex: 47944 entries, 0 to 47943\n",
      "Data columns (total 9 columns):\n",
      " #   Column            Non-Null Count  Dtype   \n",
      "---  ------            --------------  -----   \n",
      " 0   order_date        47944 non-null  object  \n",
      " 1   rider_assigned    47883 non-null  object  \n",
      " 2   food_picked_up    46364 non-null  object  \n",
      " 3   food_delivered    46260 non-null  object  \n",
      " 4   successful_order  47944 non-null  int64   \n",
      " 5   failed_order      47944 non-null  int64   \n",
      " 6   rider_id          47883 non-null  object  \n",
      " 7   vendor_id         47944 non-null  category\n",
      " 8   price             47944 non-null  float32 \n",
      "dtypes: category(1), float32(1), int64(2), object(5)\n",
      "memory usage: 2.9+ MB\n"
     ]
    }
   ],
   "source": [
    " df_with_cat.info()"
   ],
   "metadata": {
    "collapsed": false,
    "ExecuteTime": {
     "end_time": "2023-10-22T07:30:11.433937900Z",
     "start_time": "2023-10-22T07:30:11.370558700Z"
    }
   }
  },
  {
   "cell_type": "markdown",
   "source": [
    "Оптимизировали память на 0,5 Мб, это очень много.\n",
    "Посмотрим, насколько изменилось время операций."
   ],
   "metadata": {
    "collapsed": false
   }
  },
  {
   "cell_type": "code",
   "execution_count": 57,
   "outputs": [
    {
     "name": "stdout",
     "output_type": "stream",
     "text": [
      "11.2 ms ± 2.44 ms per loop (mean ± std. dev. of 7 runs, 100 loops each)\n"
     ]
    }
   ],
   "source": [
    "%%timeit\n",
    "df.groupby('vendor_id')['price'].mean().to_frame()"
   ],
   "metadata": {
    "collapsed": false,
    "ExecuteTime": {
     "end_time": "2023-10-22T07:32:25.450525Z",
     "start_time": "2023-10-22T07:32:15.824629300Z"
    }
   }
  },
  {
   "cell_type": "code",
   "execution_count": 59,
   "outputs": [
    {
     "name": "stdout",
     "output_type": "stream",
     "text": [
      "1.33 ms ± 453 µs per loop (mean ± std. dev. of 7 runs, 1,000 loops each)\n"
     ]
    },
    {
     "name": "stderr",
     "output_type": "stream",
     "text": [
      "<magic-timeit>:1: FutureWarning: The default of observed=False is deprecated and will be changed to True in a future version of pandas. Pass observed=False to retain current behavior or observed=True to adopt the future default and silence this warning.\n"
     ]
    },
    {
     "name": "stdout",
     "output_type": "stream",
     "text": [
      "1.16 ms ± 446 µs per loop (mean ± std. dev. of 7 runs, 1,000 loops each)\n"
     ]
    }
   ],
   "source": [
    "%%timeit\n",
    "df_with_cat.groupby('vendor_id')['price'].mean().to_frame()"
   ],
   "metadata": {
    "collapsed": false,
    "ExecuteTime": {
     "end_time": "2023-10-22T07:32:55.977552200Z",
     "start_time": "2023-10-22T07:32:46.349908300Z"
    }
   }
  },
  {
   "cell_type": "markdown",
   "source": [
    "Заметный прирост производительности!\n",
    "Используйте данный тип с осторожностью, всегда выполняя необходимую предобработку данных."
   ],
   "metadata": {
    "collapsed": false
   }
  },
  {
   "cell_type": "code",
   "execution_count": null,
   "outputs": [],
   "source": [
    "6) Применить к данным требуемые операции"
   ],
   "metadata": {
    "collapsed": false
   }
  },
  {
   "cell_type": "code",
   "execution_count": 60,
   "outputs": [
    {
     "data": {
      "text/plain": "                order_date       rider_assigned       food_picked_up  \\\n11454  2021-07-08 15:30:40  2021-07-08 15:31:34  2021-07-08 15:42:18   \n27278  2021-07-18 13:46:31  2021-07-18 13:46:59  2021-07-18 13:58:20   \n\n            food_delivered  successful_order  failed_order  \\\n11454  2021-07-08 15:52:01                 1             0   \n27278  2021-07-18 14:04:21                 1             0   \n\n                               rider_id                         vendor_id  \\\n11454  8a9ad87687aedb90c09dad90499a3fb8  014a1b8ef4b3e615893258d810b88a96   \n27278  3892d37cbb9196714a3c6cc9ca8d936a  014a1b8ef4b3e615893258d810b88a96   \n\n        price  \n11454  1007.0  \n27278   803.0  ",
      "text/html": "<div>\n<style scoped>\n    .dataframe tbody tr th:only-of-type {\n        vertical-align: middle;\n    }\n\n    .dataframe tbody tr th {\n        vertical-align: top;\n    }\n\n    .dataframe thead th {\n        text-align: right;\n    }\n</style>\n<table border=\"1\" class=\"dataframe\">\n  <thead>\n    <tr style=\"text-align: right;\">\n      <th></th>\n      <th>order_date</th>\n      <th>rider_assigned</th>\n      <th>food_picked_up</th>\n      <th>food_delivered</th>\n      <th>successful_order</th>\n      <th>failed_order</th>\n      <th>rider_id</th>\n      <th>vendor_id</th>\n      <th>price</th>\n    </tr>\n  </thead>\n  <tbody>\n    <tr>\n      <th>11454</th>\n      <td>2021-07-08 15:30:40</td>\n      <td>2021-07-08 15:31:34</td>\n      <td>2021-07-08 15:42:18</td>\n      <td>2021-07-08 15:52:01</td>\n      <td>1</td>\n      <td>0</td>\n      <td>8a9ad87687aedb90c09dad90499a3fb8</td>\n      <td>014a1b8ef4b3e615893258d810b88a96</td>\n      <td>1007.0</td>\n    </tr>\n    <tr>\n      <th>27278</th>\n      <td>2021-07-18 13:46:31</td>\n      <td>2021-07-18 13:46:59</td>\n      <td>2021-07-18 13:58:20</td>\n      <td>2021-07-18 14:04:21</td>\n      <td>1</td>\n      <td>0</td>\n      <td>3892d37cbb9196714a3c6cc9ca8d936a</td>\n      <td>014a1b8ef4b3e615893258d810b88a96</td>\n      <td>803.0</td>\n    </tr>\n  </tbody>\n</table>\n</div>"
     },
     "execution_count": 60,
     "metadata": {},
     "output_type": "execute_result"
    }
   ],
   "source": [
    "#Сортировка\n",
    "df.sort_values(by=['vendor_id', 'price'],\n",
    "ascending=[True, False]).head(2)"
   ],
   "metadata": {
    "collapsed": false,
    "ExecuteTime": {
     "end_time": "2023-10-22T07:34:06.167857500Z",
     "start_time": "2023-10-22T07:34:06.051048600Z"
    }
   }
  },
  {
   "cell_type": "code",
   "execution_count": 61,
   "outputs": [
    {
     "data": {
      "text/plain": "                order_date       rider_assigned       food_picked_up  \\\n0      2021-07-01 08:56:13  2021-07-01 09:04:09  2021-07-01 09:17:01   \n1      2021-07-01 10:16:07  2021-07-01 10:16:36  2021-07-01 10:49:33   \n2      2021-07-01 13:31:18  2021-07-01 13:31:37  2021-07-01 13:50:12   \n3      2021-07-01 10:40:13  2021-07-01 10:40:42  2021-07-01 10:57:57   \n4      2021-07-01 15:57:40  2021-07-01 16:02:01  2021-07-01 16:18:34   \n...                    ...                  ...                  ...   \n47939  2021-07-30 06:55:05  2021-07-30 06:55:38  2021-07-30 07:12:39   \n47940  2021-07-30 17:01:13  2021-07-30 17:01:23  2021-07-30 17:24:30   \n47941  2021-07-30 16:57:59  2021-07-30 16:59:21  2021-07-30 17:09:21   \n47942  2021-07-30 11:33:57  2021-07-30 11:34:08  2021-07-30 11:44:22   \n47943  2021-07-30 17:05:13  2021-07-30 17:05:20                  NaN   \n\n            food_delivered  \n0      2021-07-01 09:29:58  \n1      2021-07-01 11:04:07  \n2      2021-07-01 14:08:42  \n3      2021-07-01 11:16:26  \n4      2021-07-01 16:24:45  \n...                    ...  \n47939  2021-07-30 07:21:34  \n47940  2021-07-30 17:27:21  \n47941  2021-07-30 17:25:56  \n47942  2021-07-30 11:47:40  \n47943                  NaN  \n\n[47944 rows x 4 columns]",
      "text/html": "<div>\n<style scoped>\n    .dataframe tbody tr th:only-of-type {\n        vertical-align: middle;\n    }\n\n    .dataframe tbody tr th {\n        vertical-align: top;\n    }\n\n    .dataframe thead th {\n        text-align: right;\n    }\n</style>\n<table border=\"1\" class=\"dataframe\">\n  <thead>\n    <tr style=\"text-align: right;\">\n      <th></th>\n      <th>order_date</th>\n      <th>rider_assigned</th>\n      <th>food_picked_up</th>\n      <th>food_delivered</th>\n    </tr>\n  </thead>\n  <tbody>\n    <tr>\n      <th>0</th>\n      <td>2021-07-01 08:56:13</td>\n      <td>2021-07-01 09:04:09</td>\n      <td>2021-07-01 09:17:01</td>\n      <td>2021-07-01 09:29:58</td>\n    </tr>\n    <tr>\n      <th>1</th>\n      <td>2021-07-01 10:16:07</td>\n      <td>2021-07-01 10:16:36</td>\n      <td>2021-07-01 10:49:33</td>\n      <td>2021-07-01 11:04:07</td>\n    </tr>\n    <tr>\n      <th>2</th>\n      <td>2021-07-01 13:31:18</td>\n      <td>2021-07-01 13:31:37</td>\n      <td>2021-07-01 13:50:12</td>\n      <td>2021-07-01 14:08:42</td>\n    </tr>\n    <tr>\n      <th>3</th>\n      <td>2021-07-01 10:40:13</td>\n      <td>2021-07-01 10:40:42</td>\n      <td>2021-07-01 10:57:57</td>\n      <td>2021-07-01 11:16:26</td>\n    </tr>\n    <tr>\n      <th>4</th>\n      <td>2021-07-01 15:57:40</td>\n      <td>2021-07-01 16:02:01</td>\n      <td>2021-07-01 16:18:34</td>\n      <td>2021-07-01 16:24:45</td>\n    </tr>\n    <tr>\n      <th>...</th>\n      <td>...</td>\n      <td>...</td>\n      <td>...</td>\n      <td>...</td>\n    </tr>\n    <tr>\n      <th>47939</th>\n      <td>2021-07-30 06:55:05</td>\n      <td>2021-07-30 06:55:38</td>\n      <td>2021-07-30 07:12:39</td>\n      <td>2021-07-30 07:21:34</td>\n    </tr>\n    <tr>\n      <th>47940</th>\n      <td>2021-07-30 17:01:13</td>\n      <td>2021-07-30 17:01:23</td>\n      <td>2021-07-30 17:24:30</td>\n      <td>2021-07-30 17:27:21</td>\n    </tr>\n    <tr>\n      <th>47941</th>\n      <td>2021-07-30 16:57:59</td>\n      <td>2021-07-30 16:59:21</td>\n      <td>2021-07-30 17:09:21</td>\n      <td>2021-07-30 17:25:56</td>\n    </tr>\n    <tr>\n      <th>47942</th>\n      <td>2021-07-30 11:33:57</td>\n      <td>2021-07-30 11:34:08</td>\n      <td>2021-07-30 11:44:22</td>\n      <td>2021-07-30 11:47:40</td>\n    </tr>\n    <tr>\n      <th>47943</th>\n      <td>2021-07-30 17:05:13</td>\n      <td>2021-07-30 17:05:20</td>\n      <td>NaN</td>\n      <td>NaN</td>\n    </tr>\n  </tbody>\n</table>\n<p>47944 rows × 4 columns</p>\n</div>"
     },
     "execution_count": 61,
     "metadata": {},
     "output_type": "execute_result"
    }
   ],
   "source": [
    "#Извлечение данных, при помощи метода iloc сначала обращаемся к строкам, затем к столбцам\n",
    "df.iloc[:,0:4]"
   ],
   "metadata": {
    "collapsed": false,
    "ExecuteTime": {
     "end_time": "2023-10-22T07:34:15.745373500Z",
     "start_time": "2023-10-22T07:34:15.695005400Z"
    }
   }
  },
  {
   "cell_type": "code",
   "execution_count": 62,
   "outputs": [
    {
     "data": {
      "text/plain": "643.75"
     },
     "execution_count": 62,
     "metadata": {},
     "output_type": "execute_result"
    }
   ],
   "source": [
    "#выбрали все значение, равные идентификатору, оставили только колонку price, получили следубщие результаты\n",
    "df[df['vendor_id'] == '014a1b8ef4b3e615893258d810b88a96']['price'].mean()"
   ],
   "metadata": {
    "collapsed": false,
    "ExecuteTime": {
     "end_time": "2023-10-22T07:34:24.041247100Z",
     "start_time": "2023-10-22T07:34:23.952188800Z"
    }
   }
  },
  {
   "cell_type": "code",
   "execution_count": 63,
   "outputs": [
    {
     "data": {
      "text/plain": "367.0"
     },
     "execution_count": 63,
     "metadata": {},
     "output_type": "execute_result"
    }
   ],
   "source": [
    "df[df['vendor_id'] == '014a1b8ef4b3e615893258d810b88a96']['price'].min()"
   ],
   "metadata": {
    "collapsed": false,
    "ExecuteTime": {
     "end_time": "2023-10-22T07:35:53.509824100Z",
     "start_time": "2023-10-22T07:35:53.388741300Z"
    }
   }
  },
  {
   "cell_type": "markdown",
   "source": [
    "Группировка данных"
   ],
   "metadata": {
    "collapsed": false
   }
  },
  {
   "cell_type": "code",
   "execution_count": 65,
   "outputs": [
    {
     "data": {
      "text/plain": "vendor_id\n014a1b8ef4b3e615893258d810b88a96    1007.0\n014ca478889f2f66363eb8cbdf832516    1371.0\n0172ff8832b405b53761303d86df2a86    1689.0\n01b0bef321650ae048605b203c8efa1f    1686.0\n020ed7abb2b318c3d7aa98f50e7185fb     603.0\n                                     ...  \nfc08409966f5f5a27ad9b9846c6fe7e4    1690.0\nfd0da4aea5306c25014761df6c475db9    1699.0\nfd4dc3cc70d25a8ed11303eae34ca89f    1479.0\nfde4b2502012e38506485ecfad48aa02    1697.0\nff6609fc0bf8b3824811a4ae7d431fd6    1684.0\nName: price, Length: 406, dtype: float32"
     },
     "execution_count": 65,
     "metadata": {},
     "output_type": "execute_result"
    }
   ],
   "source": [
    "#синтаксис df.groupby(by=grouping_columns)[columns_to_show].function()\n",
    "df.groupby(by = 'vendor_id')['price'].max()"
   ],
   "metadata": {
    "collapsed": false,
    "ExecuteTime": {
     "end_time": "2023-10-22T07:38:59.188944100Z",
     "start_time": "2023-10-22T07:38:59.119711600Z"
    }
   }
  },
  {
   "cell_type": "code",
   "execution_count": null,
   "outputs": [],
   "source": [
    "#убираем варнинги\n",
    "#import warnings\n",
    "#warnings.filterwarnings('ignore')"
   ],
   "metadata": {
    "collapsed": false
   }
  },
  {
   "cell_type": "code",
   "execution_count": 94,
   "outputs": [
    {
     "data": {
      "text/plain": "                                         mean         std    min     max\nvendor_id                                                               \n014a1b8ef4b3e615893258d810b88a96   643.750000  313.206390  367.0  1007.0\n014ca478889f2f66363eb8cbdf832516   865.777771  344.374359  521.0  1371.0\n0172ff8832b405b53761303d86df2a86   880.500000  440.032593  276.0  1689.0\n01b0bef321650ae048605b203c8efa1f   902.191467  428.783508  238.0  1686.0\n020ed7abb2b318c3d7aa98f50e7185fb   603.000000         NaN  603.0   603.0\n...                                       ...         ...    ...     ...\nfc08409966f5f5a27ad9b9846c6fe7e4   970.136597  414.358154  227.0  1690.0\nfd0da4aea5306c25014761df6c475db9   953.233154  438.215942  225.0  1699.0\nfd4dc3cc70d25a8ed11303eae34ca89f   802.333313  506.463287  258.0  1479.0\nfde4b2502012e38506485ecfad48aa02  1001.421692  422.657410  231.0  1697.0\nff6609fc0bf8b3824811a4ae7d431fd6   974.931274  427.393616  244.0  1684.0\n\n[406 rows x 4 columns]",
      "text/html": "<div>\n<style scoped>\n    .dataframe tbody tr th:only-of-type {\n        vertical-align: middle;\n    }\n\n    .dataframe tbody tr th {\n        vertical-align: top;\n    }\n\n    .dataframe thead th {\n        text-align: right;\n    }\n</style>\n<table border=\"1\" class=\"dataframe\">\n  <thead>\n    <tr style=\"text-align: right;\">\n      <th></th>\n      <th>mean</th>\n      <th>std</th>\n      <th>min</th>\n      <th>max</th>\n    </tr>\n    <tr>\n      <th>vendor_id</th>\n      <th></th>\n      <th></th>\n      <th></th>\n      <th></th>\n    </tr>\n  </thead>\n  <tbody>\n    <tr>\n      <th>014a1b8ef4b3e615893258d810b88a96</th>\n      <td>643.750000</td>\n      <td>313.206390</td>\n      <td>367.0</td>\n      <td>1007.0</td>\n    </tr>\n    <tr>\n      <th>014ca478889f2f66363eb8cbdf832516</th>\n      <td>865.777771</td>\n      <td>344.374359</td>\n      <td>521.0</td>\n      <td>1371.0</td>\n    </tr>\n    <tr>\n      <th>0172ff8832b405b53761303d86df2a86</th>\n      <td>880.500000</td>\n      <td>440.032593</td>\n      <td>276.0</td>\n      <td>1689.0</td>\n    </tr>\n    <tr>\n      <th>01b0bef321650ae048605b203c8efa1f</th>\n      <td>902.191467</td>\n      <td>428.783508</td>\n      <td>238.0</td>\n      <td>1686.0</td>\n    </tr>\n    <tr>\n      <th>020ed7abb2b318c3d7aa98f50e7185fb</th>\n      <td>603.000000</td>\n      <td>NaN</td>\n      <td>603.0</td>\n      <td>603.0</td>\n    </tr>\n    <tr>\n      <th>...</th>\n      <td>...</td>\n      <td>...</td>\n      <td>...</td>\n      <td>...</td>\n    </tr>\n    <tr>\n      <th>fc08409966f5f5a27ad9b9846c6fe7e4</th>\n      <td>970.136597</td>\n      <td>414.358154</td>\n      <td>227.0</td>\n      <td>1690.0</td>\n    </tr>\n    <tr>\n      <th>fd0da4aea5306c25014761df6c475db9</th>\n      <td>953.233154</td>\n      <td>438.215942</td>\n      <td>225.0</td>\n      <td>1699.0</td>\n    </tr>\n    <tr>\n      <th>fd4dc3cc70d25a8ed11303eae34ca89f</th>\n      <td>802.333313</td>\n      <td>506.463287</td>\n      <td>258.0</td>\n      <td>1479.0</td>\n    </tr>\n    <tr>\n      <th>fde4b2502012e38506485ecfad48aa02</th>\n      <td>1001.421692</td>\n      <td>422.657410</td>\n      <td>231.0</td>\n      <td>1697.0</td>\n    </tr>\n    <tr>\n      <th>ff6609fc0bf8b3824811a4ae7d431fd6</th>\n      <td>974.931274</td>\n      <td>427.393616</td>\n      <td>244.0</td>\n      <td>1684.0</td>\n    </tr>\n  </tbody>\n</table>\n<p>406 rows × 4 columns</p>\n</div>"
     },
     "execution_count": 94,
     "metadata": {},
     "output_type": "execute_result"
    }
   ],
   "source": [
    "#df.groupby(['vendor_id'])['price'].agg([np.mean, np.std, np.min, np.max])\n",
    "\n",
    "df.groupby(['vendor_id'])['price'].agg(['mean', 'std', 'min', 'max'])"
   ],
   "metadata": {
    "collapsed": false,
    "ExecuteTime": {
     "end_time": "2023-10-22T08:06:48.333629200Z",
     "start_time": "2023-10-22T08:06:48.226171400Z"
    }
   }
  },
  {
   "cell_type": "code",
   "execution_count": 95,
   "outputs": [
    {
     "data": {
      "text/plain": "                            vendor_id        price\n0    014a1b8ef4b3e615893258d810b88a96   643.750000\n1    014ca478889f2f66363eb8cbdf832516   865.777771\n2    0172ff8832b405b53761303d86df2a86   880.500000\n3    01b0bef321650ae048605b203c8efa1f   902.191467\n4    020ed7abb2b318c3d7aa98f50e7185fb   603.000000\n..                                ...          ...\n401  fc08409966f5f5a27ad9b9846c6fe7e4   970.136597\n402  fd0da4aea5306c25014761df6c475db9   953.233154\n403  fd4dc3cc70d25a8ed11303eae34ca89f   802.333313\n404  fde4b2502012e38506485ecfad48aa02  1001.421692\n405  ff6609fc0bf8b3824811a4ae7d431fd6   974.931274\n\n[406 rows x 2 columns]",
      "text/html": "<div>\n<style scoped>\n    .dataframe tbody tr th:only-of-type {\n        vertical-align: middle;\n    }\n\n    .dataframe tbody tr th {\n        vertical-align: top;\n    }\n\n    .dataframe thead th {\n        text-align: right;\n    }\n</style>\n<table border=\"1\" class=\"dataframe\">\n  <thead>\n    <tr style=\"text-align: right;\">\n      <th></th>\n      <th>vendor_id</th>\n      <th>price</th>\n    </tr>\n  </thead>\n  <tbody>\n    <tr>\n      <th>0</th>\n      <td>014a1b8ef4b3e615893258d810b88a96</td>\n      <td>643.750000</td>\n    </tr>\n    <tr>\n      <th>1</th>\n      <td>014ca478889f2f66363eb8cbdf832516</td>\n      <td>865.777771</td>\n    </tr>\n    <tr>\n      <th>2</th>\n      <td>0172ff8832b405b53761303d86df2a86</td>\n      <td>880.500000</td>\n    </tr>\n    <tr>\n      <th>3</th>\n      <td>01b0bef321650ae048605b203c8efa1f</td>\n      <td>902.191467</td>\n    </tr>\n    <tr>\n      <th>4</th>\n      <td>020ed7abb2b318c3d7aa98f50e7185fb</td>\n      <td>603.000000</td>\n    </tr>\n    <tr>\n      <th>...</th>\n      <td>...</td>\n      <td>...</td>\n    </tr>\n    <tr>\n      <th>401</th>\n      <td>fc08409966f5f5a27ad9b9846c6fe7e4</td>\n      <td>970.136597</td>\n    </tr>\n    <tr>\n      <th>402</th>\n      <td>fd0da4aea5306c25014761df6c475db9</td>\n      <td>953.233154</td>\n    </tr>\n    <tr>\n      <th>403</th>\n      <td>fd4dc3cc70d25a8ed11303eae34ca89f</td>\n      <td>802.333313</td>\n    </tr>\n    <tr>\n      <th>404</th>\n      <td>fde4b2502012e38506485ecfad48aa02</td>\n      <td>1001.421692</td>\n    </tr>\n    <tr>\n      <th>405</th>\n      <td>ff6609fc0bf8b3824811a4ae7d431fd6</td>\n      <td>974.931274</td>\n    </tr>\n  </tbody>\n</table>\n<p>406 rows × 2 columns</p>\n</div>"
     },
     "execution_count": 95,
     "metadata": {},
     "output_type": "execute_result"
    }
   ],
   "source": [
    "#Получить из Серии - Датафрейм\n",
    "df.groupby(by = 'vendor_id')['price'].mean().reset_index()"
   ],
   "metadata": {
    "collapsed": false,
    "ExecuteTime": {
     "end_time": "2023-10-22T08:07:08.437412Z",
     "start_time": "2023-10-22T08:07:08.329244900Z"
    }
   }
  }
 ],
 "metadata": {
  "kernelspec": {
   "display_name": "Python 3",
   "language": "python",
   "name": "python3"
  },
  "language_info": {
   "codemirror_mode": {
    "name": "ipython",
    "version": 2
   },
   "file_extension": ".py",
   "mimetype": "text/x-python",
   "name": "python",
   "nbconvert_exporter": "python",
   "pygments_lexer": "ipython2",
   "version": "2.7.6"
  }
 },
 "nbformat": 4,
 "nbformat_minor": 0
}

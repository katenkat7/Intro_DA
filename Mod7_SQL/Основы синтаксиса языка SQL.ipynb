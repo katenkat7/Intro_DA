{
 "cells": [
  {
   "cell_type": "markdown",
   "metadata": {},
   "source": [
    "### Работа с БД из Python"
   ]
  },
  {
   "cell_type": "code",
   "execution_count": 2,
   "metadata": {
    "ExecuteTime": {
     "end_time": "2023-11-30T00:00:38.453641200Z",
     "start_time": "2023-11-30T00:00:38.409061100Z"
    }
   },
   "outputs": [],
   "source": [
    "import sqlite3\n",
    "import pandas as pd"
   ]
  },
  {
   "cell_type": "code",
   "execution_count": 3,
   "metadata": {
    "ExecuteTime": {
     "end_time": "2023-11-30T00:00:38.467684300Z",
     "start_time": "2023-11-30T00:00:38.418381600Z"
    }
   },
   "outputs": [
    {
     "name": "stdout",
     "output_type": "stream",
     "text": [
      "2.6.0\n"
     ]
    }
   ],
   "source": [
    "print(sqlite3.version)"
   ]
  },
  {
   "cell_type": "markdown",
   "source": [
    "Подключение к БД"
   ],
   "metadata": {
    "collapsed": false
   }
  },
  {
   "cell_type": "code",
   "execution_count": 4,
   "metadata": {
    "ExecuteTime": {
     "end_time": "2023-11-30T00:00:38.467684300Z",
     "start_time": "2023-11-30T00:00:38.431978900Z"
    }
   },
   "outputs": [],
   "source": [
    "connection = sqlite3.connect(\"chinook.db\")"
   ]
  },
  {
   "cell_type": "markdown",
   "source": [
    "Создаем один или несколько курсоров (текущий набор записей)"
   ],
   "metadata": {
    "collapsed": false
   }
  },
  {
   "cell_type": "code",
   "execution_count": 5,
   "metadata": {
    "ExecuteTime": {
     "end_time": "2023-11-30T00:00:38.468691Z",
     "start_time": "2023-11-30T00:00:38.439675800Z"
    }
   },
   "outputs": [],
   "source": [
    "cursor = connection.cursor()"
   ]
  },
  {
   "cell_type": "code",
   "execution_count": 6,
   "metadata": {
    "ExecuteTime": {
     "end_time": "2023-11-30T00:00:38.869318300Z",
     "start_time": "2023-11-30T00:00:38.725787100Z"
    }
   },
   "outputs": [],
   "source": [
    "query = \"\"\"select \"Albumid\", \"Title\", \"Artistid\" from albums order by title limit 3;\"\"\"\n",
    "albums = cursor.execute(query).fetchall()"
   ]
  },
  {
   "cell_type": "code",
   "execution_count": 7,
   "metadata": {
    "ExecuteTime": {
     "end_time": "2023-11-30T00:00:40.632115400Z",
     "start_time": "2023-11-30T00:00:40.540896200Z"
    }
   },
   "outputs": [
    {
     "data": {
      "text/plain": "[(156, '...And Justice For All', 50),\n (257,\n  '20th Century Masters - The Millennium Collection: The Best of Scorpions',\n  179),\n (296, 'A Copland Celebration, Vol. I', 230)]"
     },
     "execution_count": 7,
     "metadata": {},
     "output_type": "execute_result"
    }
   ],
   "source": [
    "albums"
   ]
  },
  {
   "cell_type": "code",
   "execution_count": 8,
   "metadata": {
    "ExecuteTime": {
     "end_time": "2023-11-30T00:00:41.713826100Z",
     "start_time": "2023-11-30T00:00:41.677338700Z"
    }
   },
   "outputs": [
    {
     "data": {
      "text/plain": "     0                                                  1    2\n0  156                             ...And Justice For All   50\n1  257  20th Century Masters - The Millennium Collecti...  179\n2  296                      A Copland Celebration, Vol. I  230",
      "text/html": "<div>\n<style scoped>\n    .dataframe tbody tr th:only-of-type {\n        vertical-align: middle;\n    }\n\n    .dataframe tbody tr th {\n        vertical-align: top;\n    }\n\n    .dataframe thead th {\n        text-align: right;\n    }\n</style>\n<table border=\"1\" class=\"dataframe\">\n  <thead>\n    <tr style=\"text-align: right;\">\n      <th></th>\n      <th>0</th>\n      <th>1</th>\n      <th>2</th>\n    </tr>\n  </thead>\n  <tbody>\n    <tr>\n      <th>0</th>\n      <td>156</td>\n      <td>...And Justice For All</td>\n      <td>50</td>\n    </tr>\n    <tr>\n      <th>1</th>\n      <td>257</td>\n      <td>20th Century Masters - The Millennium Collecti...</td>\n      <td>179</td>\n    </tr>\n    <tr>\n      <th>2</th>\n      <td>296</td>\n      <td>A Copland Celebration, Vol. I</td>\n      <td>230</td>\n    </tr>\n  </tbody>\n</table>\n</div>"
     },
     "execution_count": 8,
     "metadata": {},
     "output_type": "execute_result"
    }
   ],
   "source": [
    "pd.DataFrame(albums)"
   ]
  },
  {
   "cell_type": "code",
   "execution_count": 9,
   "metadata": {
    "ExecuteTime": {
     "end_time": "2023-11-30T00:00:42.289262300Z",
     "start_time": "2023-11-30T00:00:42.269770400Z"
    }
   },
   "outputs": [],
   "source": [
    "cursor.close()\n",
    "\n",
    "# connection.commit()\n",
    "connection.close()"
   ]
  },
  {
   "cell_type": "markdown",
   "metadata": {},
   "source": [
    "Проще воспользоваться методом pandas - **read_sql_query**."
   ]
  },
  {
   "cell_type": "code",
   "execution_count": 10,
   "metadata": {
    "ExecuteTime": {
     "end_time": "2023-11-30T00:00:42.703784100Z",
     "start_time": "2023-11-30T00:00:42.687735700Z"
    }
   },
   "outputs": [],
   "source": [
    "connection = sqlite3.connect(\"chinook.db\")\n",
    "cursor = connection.cursor()"
   ]
  },
  {
   "cell_type": "code",
   "execution_count": 11,
   "metadata": {
    "ExecuteTime": {
     "end_time": "2023-11-30T00:00:42.881703700Z",
     "start_time": "2023-11-30T00:00:42.841681Z"
    }
   },
   "outputs": [
    {
     "data": {
      "text/plain": "   AlbumId                                              Title  ArtistId\n0      156                             ...And Justice For All        50\n1      257  20th Century Masters - The Millennium Collecti...       179\n2      296                      A Copland Celebration, Vol. I       230",
      "text/html": "<div>\n<style scoped>\n    .dataframe tbody tr th:only-of-type {\n        vertical-align: middle;\n    }\n\n    .dataframe tbody tr th {\n        vertical-align: top;\n    }\n\n    .dataframe thead th {\n        text-align: right;\n    }\n</style>\n<table border=\"1\" class=\"dataframe\">\n  <thead>\n    <tr style=\"text-align: right;\">\n      <th></th>\n      <th>AlbumId</th>\n      <th>Title</th>\n      <th>ArtistId</th>\n    </tr>\n  </thead>\n  <tbody>\n    <tr>\n      <th>0</th>\n      <td>156</td>\n      <td>...And Justice For All</td>\n      <td>50</td>\n    </tr>\n    <tr>\n      <th>1</th>\n      <td>257</td>\n      <td>20th Century Masters - The Millennium Collecti...</td>\n      <td>179</td>\n    </tr>\n    <tr>\n      <th>2</th>\n      <td>296</td>\n      <td>A Copland Celebration, Vol. I</td>\n      <td>230</td>\n    </tr>\n  </tbody>\n</table>\n</div>"
     },
     "execution_count": 11,
     "metadata": {},
     "output_type": "execute_result"
    }
   ],
   "source": [
    "dfalbum = pd.read_sql_query(query, connection)\n",
    "dfalbum"
   ]
  },
  {
   "cell_type": "code",
   "execution_count": 12,
   "metadata": {
    "ExecuteTime": {
     "end_time": "2023-11-30T00:00:43.114658200Z",
     "start_time": "2023-11-30T00:00:43.006279100Z"
    }
   },
   "outputs": [],
   "source": [
    "cursor.close()\n",
    "\n",
    "# connection.commit()\n",
    "connection.close()"
   ]
  },
  {
   "cell_type": "markdown",
   "metadata": {},
   "source": [
    "### Синтаксис языка SQL"
   ]
  },
  {
   "cell_type": "markdown",
   "metadata": {},
   "source": [
    "#### CREATE TABLE"
   ]
  },
  {
   "cell_type": "markdown",
   "metadata": {},
   "source": [
    "`CREATE TABLE [IF NOT EXISTS] \n",
    "[schema_name].table_name (\n",
    "column_1 data_type PRIMARY KEY,\n",
    "column_2 data_type NOT NULL,\n",
    "column_3 data_type DEFAULT 0,\n",
    "\ttable_constraints\n",
    " ) [WITHOUT ROWID]; \n",
    "`"
   ]
  },
  {
   "cell_type": "code",
   "execution_count": 11,
   "metadata": {
    "ExecuteTime": {
     "end_time": "2023-11-29T23:23:06.681650100Z",
     "start_time": "2023-11-29T23:23:06.664834100Z"
    }
   },
   "outputs": [],
   "source": [
    "connection = sqlite3.connect(\"chinook.db\")\n",
    "cursor = connection.cursor()\n",
    "\n",
    "\n",
    "query = \"\"\"CREATE TABLE managers (\n",
    "            contact_id INTEGER PRIMARY KEY,\n",
    "            first_name TEXT NOT NULL,\n",
    "            last_name TEXT NOT NULL,\n",
    "            email TEXT NOT NULL UNIQUE,\n",
    "            phone TEXT NOT NULL UNIQUE \n",
    "        );\"\"\"\n",
    "_ = cursor.execute(query).fetchall()\n",
    "\n",
    "connection.commit()\n",
    "connection.close()"
   ]
  },
  {
   "cell_type": "markdown",
   "metadata": {},
   "source": [
    "Для обеспечения категорной целостности в языке SQL существуют спецификации **PRIMARY KEY** (первичный ключ) и **UNIQUE** (уникальный ключ). "
   ]
  },
  {
   "cell_type": "markdown",
   "metadata": {},
   "source": [
    " - PRIMARY KEY не может быть NULL\n",
    " - PRIMARY KEY может быть только один"
   ]
  },
  {
   "cell_type": "code",
   "execution_count": 12,
   "metadata": {
    "ExecuteTime": {
     "end_time": "2023-11-29T23:23:15.979528300Z",
     "start_time": "2023-11-29T23:23:15.969884Z"
    }
   },
   "outputs": [],
   "source": [
    "connection = sqlite3.connect(\"chinook.db\")\n",
    "query = \"\"\"SELECT  * FROM managers\"\"\"\n",
    "managers = pd.read_sql_query(query, connection)\n",
    "connection.close()"
   ]
  },
  {
   "cell_type": "code",
   "execution_count": 13,
   "metadata": {
    "ExecuteTime": {
     "end_time": "2023-11-29T23:23:18.509410800Z",
     "start_time": "2023-11-29T23:23:18.489417500Z"
    }
   },
   "outputs": [
    {
     "data": {
      "text/plain": "Empty DataFrame\nColumns: [contact_id, first_name, last_name, email, phone]\nIndex: []",
      "text/html": "<div>\n<style scoped>\n    .dataframe tbody tr th:only-of-type {\n        vertical-align: middle;\n    }\n\n    .dataframe tbody tr th {\n        vertical-align: top;\n    }\n\n    .dataframe thead th {\n        text-align: right;\n    }\n</style>\n<table border=\"1\" class=\"dataframe\">\n  <thead>\n    <tr style=\"text-align: right;\">\n      <th></th>\n      <th>contact_id</th>\n      <th>first_name</th>\n      <th>last_name</th>\n      <th>email</th>\n      <th>phone</th>\n    </tr>\n  </thead>\n  <tbody>\n  </tbody>\n</table>\n</div>"
     },
     "execution_count": 13,
     "metadata": {},
     "output_type": "execute_result"
    }
   ],
   "source": [
    "managers"
   ]
  },
  {
   "cell_type": "markdown",
   "metadata": {},
   "source": [
    "#### INSERT"
   ]
  },
  {
   "cell_type": "markdown",
   "metadata": {},
   "source": [
    "Вставка новых записей в таблицу."
   ]
  },
  {
   "cell_type": "markdown",
   "metadata": {},
   "source": [
    "`\n",
    "INSERT INTO table1 (column1,column2 ,..)\n",
    "VALUES \n",
    "   (value1,value2 ,...),\n",
    "   (value1,value2 ,...),\n",
    "    ...\n",
    "   (value1,value2 ,...);`"
   ]
  },
  {
   "cell_type": "code",
   "execution_count": 14,
   "metadata": {
    "ExecuteTime": {
     "end_time": "2023-11-29T23:24:04.534136200Z",
     "start_time": "2023-11-29T23:24:04.524750400Z"
    }
   },
   "outputs": [],
   "source": [
    "connection = sqlite3.connect(\"chinook.db\")\n",
    "cursor = connection.cursor()"
   ]
  },
  {
   "cell_type": "code",
   "execution_count": 15,
   "metadata": {
    "ExecuteTime": {
     "end_time": "2023-11-29T23:24:11.779496400Z",
     "start_time": "2023-11-29T23:24:11.767544100Z"
    }
   },
   "outputs": [],
   "source": [
    "query = \"\"\"INSERT INTO managers (first_name, last_name, email, phone)\n",
    "            VALUES\n",
    "                ('Buddy', 'Rich', 'buddyrich@gmail.com', '79671950123'),\n",
    "                -- ('Sam', 'Johnes', 'sam@gmail.com', NULL)\n",
    "                -- ('Sam', 'Johnes', 'sam@gmail.com', '79671950123')\n",
    "                ('Sam', 'Johnes', 'sam@gmail.com', '79671950125')\n",
    "                ;\"\"\"\n",
    "_ = cursor.execute(query).fetchall()\n",
    "\n",
    "connection.commit()"
   ]
  },
  {
   "cell_type": "code",
   "execution_count": 16,
   "metadata": {
    "ExecuteTime": {
     "end_time": "2023-11-29T23:24:31.618684100Z",
     "start_time": "2023-11-29T23:24:31.609390Z"
    }
   },
   "outputs": [],
   "source": [
    "query = \"\"\"SELECT  * FROM managers\"\"\"\n",
    "managers = pd.read_sql_query(query, connection)"
   ]
  },
  {
   "cell_type": "code",
   "execution_count": 17,
   "metadata": {
    "ExecuteTime": {
     "end_time": "2023-11-29T23:24:32.790495600Z",
     "start_time": "2023-11-29T23:24:32.768804500Z"
    }
   },
   "outputs": [
    {
     "data": {
      "text/plain": "   contact_id first_name last_name                email        phone\n0           1      Buddy      Rich  buddyrich@gmail.com  79671950123\n1           2        Sam    Johnes        sam@gmail.com  79671950125",
      "text/html": "<div>\n<style scoped>\n    .dataframe tbody tr th:only-of-type {\n        vertical-align: middle;\n    }\n\n    .dataframe tbody tr th {\n        vertical-align: top;\n    }\n\n    .dataframe thead th {\n        text-align: right;\n    }\n</style>\n<table border=\"1\" class=\"dataframe\">\n  <thead>\n    <tr style=\"text-align: right;\">\n      <th></th>\n      <th>contact_id</th>\n      <th>first_name</th>\n      <th>last_name</th>\n      <th>email</th>\n      <th>phone</th>\n    </tr>\n  </thead>\n  <tbody>\n    <tr>\n      <th>0</th>\n      <td>1</td>\n      <td>Buddy</td>\n      <td>Rich</td>\n      <td>buddyrich@gmail.com</td>\n      <td>79671950123</td>\n    </tr>\n    <tr>\n      <th>1</th>\n      <td>2</td>\n      <td>Sam</td>\n      <td>Johnes</td>\n      <td>sam@gmail.com</td>\n      <td>79671950125</td>\n    </tr>\n  </tbody>\n</table>\n</div>"
     },
     "execution_count": 17,
     "metadata": {},
     "output_type": "execute_result"
    }
   ],
   "source": [
    "managers"
   ]
  },
  {
   "cell_type": "markdown",
   "metadata": {},
   "source": [
    "Если отсутствует список столбцов, то список вставляемых значений должен быть полный, то есть обеспечивать значения для всех столбцов таблицы. При этом порядок значений должен соответствовать порядку, заданному оператором CREATE TABLE для таблицы, в которую вставляются строки."
   ]
  },
  {
   "cell_type": "markdown",
   "metadata": {},
   "source": [
    "#### UPDATE"
   ]
  },
  {
   "cell_type": "markdown",
   "metadata": {},
   "source": [
    "`\n",
    "UPDATE table\n",
    "SET column_1 = new_value_1,\n",
    "    column_2 = new_value_2\n",
    "WHERE\n",
    "    search_condition \n",
    "ORDER column_or_expression\n",
    "LIMIT row_count OFFSET offset;`"
   ]
  },
  {
   "cell_type": "code",
   "execution_count": 18,
   "metadata": {
    "ExecuteTime": {
     "end_time": "2023-11-29T23:24:53.888462300Z",
     "start_time": "2023-11-29T23:24:53.867623200Z"
    }
   },
   "outputs": [],
   "source": [
    "query = \"\"\"UPDATE managers SET first_name = 'Ivan' WHERE phone = '79671950125';\"\"\"\n",
    "_ = cursor.execute(query).fetchall()\n",
    "\n",
    "connection.commit()"
   ]
  },
  {
   "cell_type": "code",
   "execution_count": 19,
   "metadata": {
    "ExecuteTime": {
     "end_time": "2023-11-29T23:25:14.117481800Z",
     "start_time": "2023-11-29T23:25:14.108787300Z"
    }
   },
   "outputs": [],
   "source": [
    "query = \"\"\"SELECT  * FROM managers\"\"\"\n",
    "managers = pd.read_sql_query(query, connection)"
   ]
  },
  {
   "cell_type": "code",
   "execution_count": 20,
   "metadata": {
    "ExecuteTime": {
     "end_time": "2023-11-29T23:25:20.022394400Z",
     "start_time": "2023-11-29T23:25:20.010750Z"
    }
   },
   "outputs": [
    {
     "data": {
      "text/plain": "   contact_id first_name last_name                email        phone\n0           1      Buddy      Rich  buddyrich@gmail.com  79671950123\n1           2       Ivan    Johnes        sam@gmail.com  79671950125",
      "text/html": "<div>\n<style scoped>\n    .dataframe tbody tr th:only-of-type {\n        vertical-align: middle;\n    }\n\n    .dataframe tbody tr th {\n        vertical-align: top;\n    }\n\n    .dataframe thead th {\n        text-align: right;\n    }\n</style>\n<table border=\"1\" class=\"dataframe\">\n  <thead>\n    <tr style=\"text-align: right;\">\n      <th></th>\n      <th>contact_id</th>\n      <th>first_name</th>\n      <th>last_name</th>\n      <th>email</th>\n      <th>phone</th>\n    </tr>\n  </thead>\n  <tbody>\n    <tr>\n      <th>0</th>\n      <td>1</td>\n      <td>Buddy</td>\n      <td>Rich</td>\n      <td>buddyrich@gmail.com</td>\n      <td>79671950123</td>\n    </tr>\n    <tr>\n      <th>1</th>\n      <td>2</td>\n      <td>Ivan</td>\n      <td>Johnes</td>\n      <td>sam@gmail.com</td>\n      <td>79671950125</td>\n    </tr>\n  </tbody>\n</table>\n</div>"
     },
     "execution_count": 20,
     "metadata": {},
     "output_type": "execute_result"
    }
   ],
   "source": [
    "managers"
   ]
  },
  {
   "cell_type": "markdown",
   "metadata": {},
   "source": [
    "#### DELETE"
   ]
  },
  {
   "cell_type": "code",
   "execution_count": 21,
   "metadata": {
    "ExecuteTime": {
     "end_time": "2023-11-29T23:25:32.823703400Z",
     "start_time": "2023-11-29T23:25:32.803214700Z"
    }
   },
   "outputs": [],
   "source": [
    "query = \"\"\"DELETE FROM managers WHERE phone = '79671950123';\"\"\"\n",
    "_ = cursor.execute(query).fetchall()\n",
    "\n",
    "connection.commit()"
   ]
  },
  {
   "cell_type": "code",
   "execution_count": 22,
   "metadata": {
    "ExecuteTime": {
     "end_time": "2023-11-29T23:25:33.686991100Z",
     "start_time": "2023-11-29T23:25:33.679381500Z"
    }
   },
   "outputs": [],
   "source": [
    "query = \"\"\"SELECT  * FROM managers\"\"\"\n",
    "managers = pd.read_sql_query(query, connection)"
   ]
  },
  {
   "cell_type": "code",
   "execution_count": 23,
   "metadata": {
    "ExecuteTime": {
     "end_time": "2023-11-29T23:25:34.418956900Z",
     "start_time": "2023-11-29T23:25:34.410042100Z"
    }
   },
   "outputs": [
    {
     "data": {
      "text/plain": "   contact_id first_name last_name          email        phone\n0           2       Ivan    Johnes  sam@gmail.com  79671950125",
      "text/html": "<div>\n<style scoped>\n    .dataframe tbody tr th:only-of-type {\n        vertical-align: middle;\n    }\n\n    .dataframe tbody tr th {\n        vertical-align: top;\n    }\n\n    .dataframe thead th {\n        text-align: right;\n    }\n</style>\n<table border=\"1\" class=\"dataframe\">\n  <thead>\n    <tr style=\"text-align: right;\">\n      <th></th>\n      <th>contact_id</th>\n      <th>first_name</th>\n      <th>last_name</th>\n      <th>email</th>\n      <th>phone</th>\n    </tr>\n  </thead>\n  <tbody>\n    <tr>\n      <th>0</th>\n      <td>2</td>\n      <td>Ivan</td>\n      <td>Johnes</td>\n      <td>sam@gmail.com</td>\n      <td>79671950125</td>\n    </tr>\n  </tbody>\n</table>\n</div>"
     },
     "execution_count": 23,
     "metadata": {},
     "output_type": "execute_result"
    }
   ],
   "source": [
    "managers"
   ]
  },
  {
   "cell_type": "markdown",
   "metadata": {},
   "source": [
    "#### DROP"
   ]
  },
  {
   "cell_type": "markdown",
   "metadata": {},
   "source": [
    "`\n",
    "DROP TABLE [IF EXISTS] [schema_name.]table_name;`"
   ]
  },
  {
   "cell_type": "code",
   "execution_count": 24,
   "metadata": {
    "ExecuteTime": {
     "end_time": "2023-11-29T23:25:43.917572300Z",
     "start_time": "2023-11-29T23:25:43.894044300Z"
    }
   },
   "outputs": [],
   "source": [
    "query = \"\"\"DROP TABLE IF EXISTS managers;\"\"\"\n",
    "_ = cursor.execute(query).fetchall()\n",
    "\n",
    "connection.commit()"
   ]
  },
  {
   "cell_type": "code",
   "execution_count": 25,
   "metadata": {
    "ExecuteTime": {
     "end_time": "2023-11-29T23:25:44.567987100Z",
     "start_time": "2023-11-29T23:25:44.560369800Z"
    }
   },
   "outputs": [],
   "source": [
    "connection.close()"
   ]
  },
  {
   "cell_type": "markdown",
   "metadata": {},
   "source": [
    "#### SELECT"
   ]
  },
  {
   "cell_type": "markdown",
   "metadata": {},
   "source": [
    "Оператор SELECT осуществляет выборку из базы данных."
   ]
  },
  {
   "cell_type": "code",
   "execution_count": 15,
   "metadata": {
    "ExecuteTime": {
     "end_time": "2023-11-30T00:01:06.283225700Z",
     "start_time": "2023-11-30T00:01:06.258060200Z"
    }
   },
   "outputs": [],
   "source": [
    "connection = sqlite3.connect(\"chinook.db\")\n",
    "cursor = connection.cursor()"
   ]
  },
  {
   "cell_type": "code",
   "execution_count": 17,
   "metadata": {
    "ExecuteTime": {
     "end_time": "2023-11-30T00:01:25.193097300Z",
     "start_time": "2023-11-30T00:01:25.178521900Z"
    }
   },
   "outputs": [
    {
     "data": {
      "text/plain": "   EmployeeId LastName FirstName                Title  ReportsTo  \\\n0           1    Adams    Andrew      General Manager        NaN   \n1           2  Edwards     Nancy        Sales Manager        1.0   \n2           3  Peacock      Jane  Sales Support Agent        2.0   \n\n             BirthDate             HireDate              Address      City  \\\n0  1962-02-18 00:00:00  2002-08-14 00:00:00  11120 Jasper Ave NW  Edmonton   \n1  1958-12-08 00:00:00  2002-05-01 00:00:00         825 8 Ave SW   Calgary   \n2  1973-08-29 00:00:00  2002-04-01 00:00:00        1111 6 Ave SW   Calgary   \n\n  State Country PostalCode              Phone                Fax  \\\n0    AB  Canada    T5K 2N1  +1 (780) 428-9482  +1 (780) 428-3457   \n1    AB  Canada    T2P 2T3  +1 (403) 262-3443  +1 (403) 262-3322   \n2    AB  Canada    T2P 5M5  +1 (403) 262-3443  +1 (403) 262-6712   \n\n                    Email  \n0  andrew@chinookcorp.com  \n1   nancy@chinookcorp.com  \n2    jane@chinookcorp.com  ",
      "text/html": "<div>\n<style scoped>\n    .dataframe tbody tr th:only-of-type {\n        vertical-align: middle;\n    }\n\n    .dataframe tbody tr th {\n        vertical-align: top;\n    }\n\n    .dataframe thead th {\n        text-align: right;\n    }\n</style>\n<table border=\"1\" class=\"dataframe\">\n  <thead>\n    <tr style=\"text-align: right;\">\n      <th></th>\n      <th>EmployeeId</th>\n      <th>LastName</th>\n      <th>FirstName</th>\n      <th>Title</th>\n      <th>ReportsTo</th>\n      <th>BirthDate</th>\n      <th>HireDate</th>\n      <th>Address</th>\n      <th>City</th>\n      <th>State</th>\n      <th>Country</th>\n      <th>PostalCode</th>\n      <th>Phone</th>\n      <th>Fax</th>\n      <th>Email</th>\n    </tr>\n  </thead>\n  <tbody>\n    <tr>\n      <th>0</th>\n      <td>1</td>\n      <td>Adams</td>\n      <td>Andrew</td>\n      <td>General Manager</td>\n      <td>NaN</td>\n      <td>1962-02-18 00:00:00</td>\n      <td>2002-08-14 00:00:00</td>\n      <td>11120 Jasper Ave NW</td>\n      <td>Edmonton</td>\n      <td>AB</td>\n      <td>Canada</td>\n      <td>T5K 2N1</td>\n      <td>+1 (780) 428-9482</td>\n      <td>+1 (780) 428-3457</td>\n      <td>andrew@chinookcorp.com</td>\n    </tr>\n    <tr>\n      <th>1</th>\n      <td>2</td>\n      <td>Edwards</td>\n      <td>Nancy</td>\n      <td>Sales Manager</td>\n      <td>1.0</td>\n      <td>1958-12-08 00:00:00</td>\n      <td>2002-05-01 00:00:00</td>\n      <td>825 8 Ave SW</td>\n      <td>Calgary</td>\n      <td>AB</td>\n      <td>Canada</td>\n      <td>T2P 2T3</td>\n      <td>+1 (403) 262-3443</td>\n      <td>+1 (403) 262-3322</td>\n      <td>nancy@chinookcorp.com</td>\n    </tr>\n    <tr>\n      <th>2</th>\n      <td>3</td>\n      <td>Peacock</td>\n      <td>Jane</td>\n      <td>Sales Support Agent</td>\n      <td>2.0</td>\n      <td>1973-08-29 00:00:00</td>\n      <td>2002-04-01 00:00:00</td>\n      <td>1111 6 Ave SW</td>\n      <td>Calgary</td>\n      <td>AB</td>\n      <td>Canada</td>\n      <td>T2P 5M5</td>\n      <td>+1 (403) 262-3443</td>\n      <td>+1 (403) 262-6712</td>\n      <td>jane@chinookcorp.com</td>\n    </tr>\n  </tbody>\n</table>\n</div>"
     },
     "execution_count": 17,
     "metadata": {},
     "output_type": "execute_result"
    }
   ],
   "source": [
    "query = \"\"\"SELECT  * FROM employees\"\"\"\n",
    "df = pd.read_sql_query(query, connection)\n",
    "df.head(3)"
   ]
  },
  {
   "cell_type": "code",
   "execution_count": 18,
   "metadata": {
    "ExecuteTime": {
     "end_time": "2023-11-30T00:01:27.682909500Z",
     "start_time": "2023-11-30T00:01:27.666271700Z"
    }
   },
   "outputs": [
    {
     "data": {
      "text/plain": "  LastName FirstName            BirthDate\n0    Adams    Andrew  1962-02-18 00:00:00\n1  Edwards     Nancy  1958-12-08 00:00:00\n2  Peacock      Jane  1973-08-29 00:00:00",
      "text/html": "<div>\n<style scoped>\n    .dataframe tbody tr th:only-of-type {\n        vertical-align: middle;\n    }\n\n    .dataframe tbody tr th {\n        vertical-align: top;\n    }\n\n    .dataframe thead th {\n        text-align: right;\n    }\n</style>\n<table border=\"1\" class=\"dataframe\">\n  <thead>\n    <tr style=\"text-align: right;\">\n      <th></th>\n      <th>LastName</th>\n      <th>FirstName</th>\n      <th>BirthDate</th>\n    </tr>\n  </thead>\n  <tbody>\n    <tr>\n      <th>0</th>\n      <td>Adams</td>\n      <td>Andrew</td>\n      <td>1962-02-18 00:00:00</td>\n    </tr>\n    <tr>\n      <th>1</th>\n      <td>Edwards</td>\n      <td>Nancy</td>\n      <td>1958-12-08 00:00:00</td>\n    </tr>\n    <tr>\n      <th>2</th>\n      <td>Peacock</td>\n      <td>Jane</td>\n      <td>1973-08-29 00:00:00</td>\n    </tr>\n  </tbody>\n</table>\n</div>"
     },
     "execution_count": 18,
     "metadata": {},
     "output_type": "execute_result"
    }
   ],
   "source": [
    "query = \"\"\"SELECT LastName, FirstName, BirthDate FROM employees\"\"\"\n",
    "df = pd.read_sql_query(query, connection)\n",
    "df.head(3)"
   ]
  },
  {
   "cell_type": "markdown",
   "metadata": {},
   "source": [
    "#### DISTINCT"
   ]
  },
  {
   "cell_type": "markdown",
   "metadata": {},
   "source": [
    "Только уникальные значения."
   ]
  },
  {
   "cell_type": "code",
   "execution_count": 19,
   "metadata": {
    "ExecuteTime": {
     "end_time": "2023-11-30T00:01:34.326715700Z",
     "start_time": "2023-11-30T00:01:34.314732900Z"
    }
   },
   "outputs": [
    {
     "data": {
      "text/plain": "(8, 1)"
     },
     "execution_count": 19,
     "metadata": {},
     "output_type": "execute_result"
    }
   ],
   "source": [
    "query = \"\"\"SELECT City FROM employees\"\"\"\n",
    "df = pd.read_sql_query(query, connection)\n",
    "df.shape"
   ]
  },
  {
   "cell_type": "code",
   "execution_count": 20,
   "metadata": {
    "ExecuteTime": {
     "end_time": "2023-11-30T00:01:35.493736600Z",
     "start_time": "2023-11-30T00:01:35.469471300Z"
    }
   },
   "outputs": [
    {
     "data": {
      "text/plain": "         City\n0    Edmonton\n1     Calgary\n2     Calgary\n3     Calgary\n4     Calgary\n5     Calgary\n6  Lethbridge\n7  Lethbridge",
      "text/html": "<div>\n<style scoped>\n    .dataframe tbody tr th:only-of-type {\n        vertical-align: middle;\n    }\n\n    .dataframe tbody tr th {\n        vertical-align: top;\n    }\n\n    .dataframe thead th {\n        text-align: right;\n    }\n</style>\n<table border=\"1\" class=\"dataframe\">\n  <thead>\n    <tr style=\"text-align: right;\">\n      <th></th>\n      <th>City</th>\n    </tr>\n  </thead>\n  <tbody>\n    <tr>\n      <th>0</th>\n      <td>Edmonton</td>\n    </tr>\n    <tr>\n      <th>1</th>\n      <td>Calgary</td>\n    </tr>\n    <tr>\n      <th>2</th>\n      <td>Calgary</td>\n    </tr>\n    <tr>\n      <th>3</th>\n      <td>Calgary</td>\n    </tr>\n    <tr>\n      <th>4</th>\n      <td>Calgary</td>\n    </tr>\n    <tr>\n      <th>5</th>\n      <td>Calgary</td>\n    </tr>\n    <tr>\n      <th>6</th>\n      <td>Lethbridge</td>\n    </tr>\n    <tr>\n      <th>7</th>\n      <td>Lethbridge</td>\n    </tr>\n  </tbody>\n</table>\n</div>"
     },
     "execution_count": 20,
     "metadata": {},
     "output_type": "execute_result"
    }
   ],
   "source": [
    "df"
   ]
  },
  {
   "cell_type": "code",
   "execution_count": 21,
   "metadata": {
    "ExecuteTime": {
     "end_time": "2023-11-30T00:01:36.413241100Z",
     "start_time": "2023-11-30T00:01:36.365403100Z"
    }
   },
   "outputs": [
    {
     "data": {
      "text/plain": "(3, 1)"
     },
     "execution_count": 21,
     "metadata": {},
     "output_type": "execute_result"
    }
   ],
   "source": [
    "query = \"\"\"SELECT DISTINCT City FROM employees\"\"\"\n",
    "df = pd.read_sql_query(query, connection)\n",
    "df.shape"
   ]
  },
  {
   "cell_type": "code",
   "execution_count": 22,
   "metadata": {
    "ExecuteTime": {
     "end_time": "2023-11-30T00:01:37.367159Z",
     "start_time": "2023-11-30T00:01:37.357713300Z"
    }
   },
   "outputs": [
    {
     "data": {
      "text/plain": "         City\n0    Edmonton\n1     Calgary\n2  Lethbridge",
      "text/html": "<div>\n<style scoped>\n    .dataframe tbody tr th:only-of-type {\n        vertical-align: middle;\n    }\n\n    .dataframe tbody tr th {\n        vertical-align: top;\n    }\n\n    .dataframe thead th {\n        text-align: right;\n    }\n</style>\n<table border=\"1\" class=\"dataframe\">\n  <thead>\n    <tr style=\"text-align: right;\">\n      <th></th>\n      <th>City</th>\n    </tr>\n  </thead>\n  <tbody>\n    <tr>\n      <th>0</th>\n      <td>Edmonton</td>\n    </tr>\n    <tr>\n      <th>1</th>\n      <td>Calgary</td>\n    </tr>\n    <tr>\n      <th>2</th>\n      <td>Lethbridge</td>\n    </tr>\n  </tbody>\n</table>\n</div>"
     },
     "execution_count": 22,
     "metadata": {},
     "output_type": "execute_result"
    }
   ],
   "source": [
    "df"
   ]
  },
  {
   "cell_type": "markdown",
   "metadata": {},
   "source": [
    "#### ORDER BY"
   ]
  },
  {
   "cell_type": "markdown",
   "metadata": {},
   "source": [
    "Cортировка запроса по полю."
   ]
  },
  {
   "cell_type": "code",
   "execution_count": 23,
   "metadata": {
    "ExecuteTime": {
     "end_time": "2023-11-30T00:01:40.238747Z",
     "start_time": "2023-11-30T00:01:40.225380Z"
    }
   },
   "outputs": [
    {
     "data": {
      "text/plain": "         City            BirthDate\n0     Calgary  1947-09-19 00:00:00\n1     Calgary  1958-12-08 00:00:00\n2    Edmonton  1962-02-18 00:00:00\n3     Calgary  1965-03-03 00:00:00\n4  Lethbridge  1968-01-09 00:00:00\n5  Lethbridge  1970-05-29 00:00:00\n6     Calgary  1973-07-01 00:00:00\n7     Calgary  1973-08-29 00:00:00",
      "text/html": "<div>\n<style scoped>\n    .dataframe tbody tr th:only-of-type {\n        vertical-align: middle;\n    }\n\n    .dataframe tbody tr th {\n        vertical-align: top;\n    }\n\n    .dataframe thead th {\n        text-align: right;\n    }\n</style>\n<table border=\"1\" class=\"dataframe\">\n  <thead>\n    <tr style=\"text-align: right;\">\n      <th></th>\n      <th>City</th>\n      <th>BirthDate</th>\n    </tr>\n  </thead>\n  <tbody>\n    <tr>\n      <th>0</th>\n      <td>Calgary</td>\n      <td>1947-09-19 00:00:00</td>\n    </tr>\n    <tr>\n      <th>1</th>\n      <td>Calgary</td>\n      <td>1958-12-08 00:00:00</td>\n    </tr>\n    <tr>\n      <th>2</th>\n      <td>Edmonton</td>\n      <td>1962-02-18 00:00:00</td>\n    </tr>\n    <tr>\n      <th>3</th>\n      <td>Calgary</td>\n      <td>1965-03-03 00:00:00</td>\n    </tr>\n    <tr>\n      <th>4</th>\n      <td>Lethbridge</td>\n      <td>1968-01-09 00:00:00</td>\n    </tr>\n    <tr>\n      <th>5</th>\n      <td>Lethbridge</td>\n      <td>1970-05-29 00:00:00</td>\n    </tr>\n    <tr>\n      <th>6</th>\n      <td>Calgary</td>\n      <td>1973-07-01 00:00:00</td>\n    </tr>\n    <tr>\n      <th>7</th>\n      <td>Calgary</td>\n      <td>1973-08-29 00:00:00</td>\n    </tr>\n  </tbody>\n</table>\n</div>"
     },
     "execution_count": 23,
     "metadata": {},
     "output_type": "execute_result"
    }
   ],
   "source": [
    "query = \"\"\"SELECT City, BirthDate FROM employees ORDER BY BirthDate\"\"\"\n",
    "df = pd.read_sql_query(query, connection)\n",
    "df"
   ]
  },
  {
   "cell_type": "code",
   "execution_count": 24,
   "metadata": {
    "ExecuteTime": {
     "end_time": "2023-11-30T00:01:41.134964800Z",
     "start_time": "2023-11-30T00:01:41.042653300Z"
    }
   },
   "outputs": [
    {
     "data": {
      "text/plain": "         City            BirthDate\n0     Calgary  1973-08-29 00:00:00\n1     Calgary  1973-07-01 00:00:00\n2  Lethbridge  1970-05-29 00:00:00\n3  Lethbridge  1968-01-09 00:00:00\n4     Calgary  1965-03-03 00:00:00\n5    Edmonton  1962-02-18 00:00:00\n6     Calgary  1958-12-08 00:00:00\n7     Calgary  1947-09-19 00:00:00",
      "text/html": "<div>\n<style scoped>\n    .dataframe tbody tr th:only-of-type {\n        vertical-align: middle;\n    }\n\n    .dataframe tbody tr th {\n        vertical-align: top;\n    }\n\n    .dataframe thead th {\n        text-align: right;\n    }\n</style>\n<table border=\"1\" class=\"dataframe\">\n  <thead>\n    <tr style=\"text-align: right;\">\n      <th></th>\n      <th>City</th>\n      <th>BirthDate</th>\n    </tr>\n  </thead>\n  <tbody>\n    <tr>\n      <th>0</th>\n      <td>Calgary</td>\n      <td>1973-08-29 00:00:00</td>\n    </tr>\n    <tr>\n      <th>1</th>\n      <td>Calgary</td>\n      <td>1973-07-01 00:00:00</td>\n    </tr>\n    <tr>\n      <th>2</th>\n      <td>Lethbridge</td>\n      <td>1970-05-29 00:00:00</td>\n    </tr>\n    <tr>\n      <th>3</th>\n      <td>Lethbridge</td>\n      <td>1968-01-09 00:00:00</td>\n    </tr>\n    <tr>\n      <th>4</th>\n      <td>Calgary</td>\n      <td>1965-03-03 00:00:00</td>\n    </tr>\n    <tr>\n      <th>5</th>\n      <td>Edmonton</td>\n      <td>1962-02-18 00:00:00</td>\n    </tr>\n    <tr>\n      <th>6</th>\n      <td>Calgary</td>\n      <td>1958-12-08 00:00:00</td>\n    </tr>\n    <tr>\n      <th>7</th>\n      <td>Calgary</td>\n      <td>1947-09-19 00:00:00</td>\n    </tr>\n  </tbody>\n</table>\n</div>"
     },
     "execution_count": 24,
     "metadata": {},
     "output_type": "execute_result"
    }
   ],
   "source": [
    "query = \"\"\"SELECT City, BirthDate FROM employees ORDER BY 2 DESC\"\"\"\n",
    "df = pd.read_sql_query(query, connection)\n",
    "df"
   ]
  },
  {
   "cell_type": "markdown",
   "metadata": {},
   "source": [
    "#### WHERE"
   ]
  },
  {
   "cell_type": "markdown",
   "metadata": {},
   "source": [
    "Задает условие на горизонтальную выборку."
   ]
  },
  {
   "cell_type": "code",
   "execution_count": 25,
   "metadata": {
    "ExecuteTime": {
     "end_time": "2023-11-30T00:01:41.828136300Z",
     "start_time": "2023-11-30T00:01:41.758027700Z"
    }
   },
   "outputs": [
    {
     "data": {
      "text/plain": "   TrackId                                    Name  AlbumId  MediaTypeId  \\\n0     2819  Battlestar Galactica: The Story So Far      226            3   \n1     2820                  Occupation / Precipice      227            3   \n\n   GenreId Composer  Milliseconds       Bytes  UnitPrice  \n0       18     None       2622250   490750393       1.99  \n1       19     None       5286953  1054423946       1.99  ",
      "text/html": "<div>\n<style scoped>\n    .dataframe tbody tr th:only-of-type {\n        vertical-align: middle;\n    }\n\n    .dataframe tbody tr th {\n        vertical-align: top;\n    }\n\n    .dataframe thead th {\n        text-align: right;\n    }\n</style>\n<table border=\"1\" class=\"dataframe\">\n  <thead>\n    <tr style=\"text-align: right;\">\n      <th></th>\n      <th>TrackId</th>\n      <th>Name</th>\n      <th>AlbumId</th>\n      <th>MediaTypeId</th>\n      <th>GenreId</th>\n      <th>Composer</th>\n      <th>Milliseconds</th>\n      <th>Bytes</th>\n      <th>UnitPrice</th>\n    </tr>\n  </thead>\n  <tbody>\n    <tr>\n      <th>0</th>\n      <td>2819</td>\n      <td>Battlestar Galactica: The Story So Far</td>\n      <td>226</td>\n      <td>3</td>\n      <td>18</td>\n      <td>None</td>\n      <td>2622250</td>\n      <td>490750393</td>\n      <td>1.99</td>\n    </tr>\n    <tr>\n      <th>1</th>\n      <td>2820</td>\n      <td>Occupation / Precipice</td>\n      <td>227</td>\n      <td>3</td>\n      <td>19</td>\n      <td>None</td>\n      <td>5286953</td>\n      <td>1054423946</td>\n      <td>1.99</td>\n    </tr>\n  </tbody>\n</table>\n</div>"
     },
     "execution_count": 25,
     "metadata": {},
     "output_type": "execute_result"
    }
   ],
   "source": [
    "query = \"\"\"SELECT * FROM tracks WHERE UnitPrice > 0.99\"\"\"\n",
    "df = pd.read_sql_query(query, connection)\n",
    "df.head(2)"
   ]
  },
  {
   "cell_type": "markdown",
   "metadata": {},
   "source": [
    "#### AND, OR, NOT"
   ]
  },
  {
   "cell_type": "code",
   "execution_count": 26,
   "metadata": {
    "ExecuteTime": {
     "end_time": "2023-11-30T00:01:42.241395900Z",
     "start_time": "2023-11-30T00:01:42.214513600Z"
    }
   },
   "outputs": [
    {
     "data": {
      "text/plain": "   TrackId                                    Name  AlbumId  MediaTypeId  \\\n0     2819  Battlestar Galactica: The Story So Far      226            3   \n1     2825                  A Measure of Salvation      227            3   \n\n   GenreId Composer  Milliseconds      Bytes  UnitPrice  \n0       18     None       2622250  490750393       1.99  \n1       18     None       2563938  489715554       1.99  ",
      "text/html": "<div>\n<style scoped>\n    .dataframe tbody tr th:only-of-type {\n        vertical-align: middle;\n    }\n\n    .dataframe tbody tr th {\n        vertical-align: top;\n    }\n\n    .dataframe thead th {\n        text-align: right;\n    }\n</style>\n<table border=\"1\" class=\"dataframe\">\n  <thead>\n    <tr style=\"text-align: right;\">\n      <th></th>\n      <th>TrackId</th>\n      <th>Name</th>\n      <th>AlbumId</th>\n      <th>MediaTypeId</th>\n      <th>GenreId</th>\n      <th>Composer</th>\n      <th>Milliseconds</th>\n      <th>Bytes</th>\n      <th>UnitPrice</th>\n    </tr>\n  </thead>\n  <tbody>\n    <tr>\n      <th>0</th>\n      <td>2819</td>\n      <td>Battlestar Galactica: The Story So Far</td>\n      <td>226</td>\n      <td>3</td>\n      <td>18</td>\n      <td>None</td>\n      <td>2622250</td>\n      <td>490750393</td>\n      <td>1.99</td>\n    </tr>\n    <tr>\n      <th>1</th>\n      <td>2825</td>\n      <td>A Measure of Salvation</td>\n      <td>227</td>\n      <td>3</td>\n      <td>18</td>\n      <td>None</td>\n      <td>2563938</td>\n      <td>489715554</td>\n      <td>1.99</td>\n    </tr>\n  </tbody>\n</table>\n</div>"
     },
     "execution_count": 26,
     "metadata": {},
     "output_type": "execute_result"
    }
   ],
   "source": [
    "query = \"\"\"SELECT * FROM tracks WHERE UnitPrice > 0.99 \n",
    "                                AND (Composer is NOT NULL OR GenreId = 18) \n",
    "                                AND NOT Name = 'Occupation / Precipice' \"\"\"\n",
    "df = pd.read_sql_query(query, connection)\n",
    "df.head(2)"
   ]
  },
  {
   "cell_type": "markdown",
   "metadata": {},
   "source": [
    "#### BETWEEN, IN "
   ]
  },
  {
   "cell_type": "code",
   "execution_count": 27,
   "metadata": {
    "ExecuteTime": {
     "end_time": "2023-11-30T00:01:42.682832700Z",
     "start_time": "2023-11-30T00:01:42.650109800Z"
    }
   },
   "outputs": [
    {
     "data": {
      "text/plain": "   TrackId          Name  AlbumId  MediaTypeId  GenreId Composer  \\\n0      360  Vai-Vai 2001       32            1       10     None   \n1      361      X-9 2001       32            1       10     None   \n\n   Milliseconds    Bytes  UnitPrice  \n0        276349  9402241       0.99  \n1        273920  9310370       0.99  ",
      "text/html": "<div>\n<style scoped>\n    .dataframe tbody tr th:only-of-type {\n        vertical-align: middle;\n    }\n\n    .dataframe tbody tr th {\n        vertical-align: top;\n    }\n\n    .dataframe thead th {\n        text-align: right;\n    }\n</style>\n<table border=\"1\" class=\"dataframe\">\n  <thead>\n    <tr style=\"text-align: right;\">\n      <th></th>\n      <th>TrackId</th>\n      <th>Name</th>\n      <th>AlbumId</th>\n      <th>MediaTypeId</th>\n      <th>GenreId</th>\n      <th>Composer</th>\n      <th>Milliseconds</th>\n      <th>Bytes</th>\n      <th>UnitPrice</th>\n    </tr>\n  </thead>\n  <tbody>\n    <tr>\n      <th>0</th>\n      <td>360</td>\n      <td>Vai-Vai 2001</td>\n      <td>32</td>\n      <td>1</td>\n      <td>10</td>\n      <td>None</td>\n      <td>276349</td>\n      <td>9402241</td>\n      <td>0.99</td>\n    </tr>\n    <tr>\n      <th>1</th>\n      <td>361</td>\n      <td>X-9 2001</td>\n      <td>32</td>\n      <td>1</td>\n      <td>10</td>\n      <td>None</td>\n      <td>273920</td>\n      <td>9310370</td>\n      <td>0.99</td>\n    </tr>\n  </tbody>\n</table>\n</div>"
     },
     "execution_count": 27,
     "metadata": {},
     "output_type": "execute_result"
    }
   ],
   "source": [
    "query = \"\"\"SELECT * FROM tracks WHERE UnitPrice BETWEEN 0.99 AND 1.5 \n",
    "                                AND GenreId IN (10, 24)\n",
    "                                ; \"\"\"\n",
    "df = pd.read_sql_query(query, connection)\n",
    "df.head(2)"
   ]
  },
  {
   "cell_type": "markdown",
   "metadata": {},
   "source": [
    "#### Подвыборки"
   ]
  },
  {
   "cell_type": "code",
   "execution_count": 28,
   "metadata": {
    "ExecuteTime": {
     "end_time": "2023-11-30T00:01:43.150607Z",
     "start_time": "2023-11-30T00:01:43.073137200Z"
    }
   },
   "outputs": [
    {
     "data": {
      "text/plain": "   TrackId                                               Name  AlbumId  \\\n0     3451  Die Zauberflöte, K.620: \"Der Hölle Rache Kocht...      317   \n\n   MediaTypeId  GenreId                 Composer  Milliseconds    Bytes  \\\n0            2       25  Wolfgang Amadeus Mozart        174813  2861468   \n\n   UnitPrice  \n0       0.99  ",
      "text/html": "<div>\n<style scoped>\n    .dataframe tbody tr th:only-of-type {\n        vertical-align: middle;\n    }\n\n    .dataframe tbody tr th {\n        vertical-align: top;\n    }\n\n    .dataframe thead th {\n        text-align: right;\n    }\n</style>\n<table border=\"1\" class=\"dataframe\">\n  <thead>\n    <tr style=\"text-align: right;\">\n      <th></th>\n      <th>TrackId</th>\n      <th>Name</th>\n      <th>AlbumId</th>\n      <th>MediaTypeId</th>\n      <th>GenreId</th>\n      <th>Composer</th>\n      <th>Milliseconds</th>\n      <th>Bytes</th>\n      <th>UnitPrice</th>\n    </tr>\n  </thead>\n  <tbody>\n    <tr>\n      <th>0</th>\n      <td>3451</td>\n      <td>Die Zauberflöte, K.620: \"Der Hölle Rache Kocht...</td>\n      <td>317</td>\n      <td>2</td>\n      <td>25</td>\n      <td>Wolfgang Amadeus Mozart</td>\n      <td>174813</td>\n      <td>2861468</td>\n      <td>0.99</td>\n    </tr>\n  </tbody>\n</table>\n</div>"
     },
     "execution_count": 28,
     "metadata": {},
     "output_type": "execute_result"
    }
   ],
   "source": [
    "query = \"\"\" SELECT *\n",
    "            FROM tracks \n",
    "            WHERE GenreId IN (SELECT GenreId \n",
    "                                FROM genres\n",
    "                                WHERE Name = 'Opera') \"\"\"\n",
    "df = pd.read_sql_query(query, connection)\n",
    "df"
   ]
  },
  {
   "cell_type": "markdown",
   "metadata": {},
   "source": [
    "#### LIKE"
   ]
  },
  {
   "cell_type": "markdown",
   "metadata": {},
   "source": [
    "- **_**  вместо любого единичного символа в проверяемом значении;\n",
    "\n",
    "- **%** заменяет последовательность любых символов (число символов в последовательности может быть от 0 и более) в проверяемом значении."
   ]
  },
  {
   "cell_type": "code",
   "execution_count": 29,
   "metadata": {
    "ExecuteTime": {
     "end_time": "2023-11-30T00:01:43.750054400Z",
     "start_time": "2023-11-30T00:01:43.702349500Z"
    }
   },
   "outputs": [
    {
     "data": {
      "text/plain": "  Composer\n0       U2",
      "text/html": "<div>\n<style scoped>\n    .dataframe tbody tr th:only-of-type {\n        vertical-align: middle;\n    }\n\n    .dataframe tbody tr th {\n        vertical-align: top;\n    }\n\n    .dataframe thead th {\n        text-align: right;\n    }\n</style>\n<table border=\"1\" class=\"dataframe\">\n  <thead>\n    <tr style=\"text-align: right;\">\n      <th></th>\n      <th>Composer</th>\n    </tr>\n  </thead>\n  <tbody>\n    <tr>\n      <th>0</th>\n      <td>U2</td>\n    </tr>\n  </tbody>\n</table>\n</div>"
     },
     "execution_count": 29,
     "metadata": {},
     "output_type": "execute_result"
    }
   ],
   "source": [
    "query = \"\"\" SELECT DISTINCT Composer\n",
    "            FROM tracks \n",
    "            WHERE Composer LIKE 'U_' \"\"\"\n",
    "df = pd.read_sql_query(query, connection)\n",
    "df"
   ]
  },
  {
   "cell_type": "code",
   "execution_count": 30,
   "metadata": {
    "ExecuteTime": {
     "end_time": "2023-11-30T00:01:44.014312700Z",
     "start_time": "2023-11-30T00:01:43.970489400Z"
    }
   },
   "outputs": [
    {
     "data": {
      "text/plain": "               Composer\n0                Ulrich\n1                    U2\n2   U2 & Daragh O'Toole\n3   U2 & Van Dyke Parks\n4              U2; Bono\n5         U2; Edge, The\n6  U2; Bono & Edge, The",
      "text/html": "<div>\n<style scoped>\n    .dataframe tbody tr th:only-of-type {\n        vertical-align: middle;\n    }\n\n    .dataframe tbody tr th {\n        vertical-align: top;\n    }\n\n    .dataframe thead th {\n        text-align: right;\n    }\n</style>\n<table border=\"1\" class=\"dataframe\">\n  <thead>\n    <tr style=\"text-align: right;\">\n      <th></th>\n      <th>Composer</th>\n    </tr>\n  </thead>\n  <tbody>\n    <tr>\n      <th>0</th>\n      <td>Ulrich</td>\n    </tr>\n    <tr>\n      <th>1</th>\n      <td>U2</td>\n    </tr>\n    <tr>\n      <th>2</th>\n      <td>U2 &amp; Daragh O'Toole</td>\n    </tr>\n    <tr>\n      <th>3</th>\n      <td>U2 &amp; Van Dyke Parks</td>\n    </tr>\n    <tr>\n      <th>4</th>\n      <td>U2; Bono</td>\n    </tr>\n    <tr>\n      <th>5</th>\n      <td>U2; Edge, The</td>\n    </tr>\n    <tr>\n      <th>6</th>\n      <td>U2; Bono &amp; Edge, The</td>\n    </tr>\n  </tbody>\n</table>\n</div>"
     },
     "execution_count": 30,
     "metadata": {},
     "output_type": "execute_result"
    }
   ],
   "source": [
    "query = \"\"\" SELECT DISTINCT Composer\n",
    "            FROM tracks \n",
    "            WHERE Composer LIKE 'U%' \"\"\"\n",
    "df = pd.read_sql_query(query, connection)\n",
    "df"
   ]
  },
  {
   "cell_type": "code",
   "execution_count": 31,
   "metadata": {
    "ExecuteTime": {
     "end_time": "2023-11-30T00:01:44.218198500Z",
     "start_time": "2023-11-30T00:01:44.176810900Z"
    }
   },
   "outputs": [
    {
     "data": {
      "text/plain": "                                              Composer\n0            Angus Young, Malcolm Young, Brian Johnson\n1    F. Baltes, S. Kaufman, U. Dirkscneider & W. Ho...\n2    F. Baltes, R.A. Smith-Diesel, S. Kaufman, U. D...\n3                            Steven Tyler, Richie Supa\n4                 Steven Tyler, Joe Perry, Mark Hudson\n..                                                 ...\n339  Delroy \"Chris\" Cooper, Donovan Jackson, Earl C...\n340  Astor Campbell, Delroy \"Chris\" Cooper, Donovan...\n341                                      Henry Purcell\n342                                         Kurt Weill\n343                                 Claudio Monteverdi\n\n[344 rows x 1 columns]",
      "text/html": "<div>\n<style scoped>\n    .dataframe tbody tr th:only-of-type {\n        vertical-align: middle;\n    }\n\n    .dataframe tbody tr th {\n        vertical-align: top;\n    }\n\n    .dataframe thead th {\n        text-align: right;\n    }\n</style>\n<table border=\"1\" class=\"dataframe\">\n  <thead>\n    <tr style=\"text-align: right;\">\n      <th></th>\n      <th>Composer</th>\n    </tr>\n  </thead>\n  <tbody>\n    <tr>\n      <th>0</th>\n      <td>Angus Young, Malcolm Young, Brian Johnson</td>\n    </tr>\n    <tr>\n      <th>1</th>\n      <td>F. Baltes, S. Kaufman, U. Dirkscneider &amp; W. Ho...</td>\n    </tr>\n    <tr>\n      <th>2</th>\n      <td>F. Baltes, R.A. Smith-Diesel, S. Kaufman, U. D...</td>\n    </tr>\n    <tr>\n      <th>3</th>\n      <td>Steven Tyler, Richie Supa</td>\n    </tr>\n    <tr>\n      <th>4</th>\n      <td>Steven Tyler, Joe Perry, Mark Hudson</td>\n    </tr>\n    <tr>\n      <th>...</th>\n      <td>...</td>\n    </tr>\n    <tr>\n      <th>339</th>\n      <td>Delroy \"Chris\" Cooper, Donovan Jackson, Earl C...</td>\n    </tr>\n    <tr>\n      <th>340</th>\n      <td>Astor Campbell, Delroy \"Chris\" Cooper, Donovan...</td>\n    </tr>\n    <tr>\n      <th>341</th>\n      <td>Henry Purcell</td>\n    </tr>\n    <tr>\n      <th>342</th>\n      <td>Kurt Weill</td>\n    </tr>\n    <tr>\n      <th>343</th>\n      <td>Claudio Monteverdi</td>\n    </tr>\n  </tbody>\n</table>\n<p>344 rows × 1 columns</p>\n</div>"
     },
     "execution_count": 31,
     "metadata": {},
     "output_type": "execute_result"
    }
   ],
   "source": [
    "query = \"\"\" SELECT DISTINCT Composer\n",
    "            FROM tracks \n",
    "            WHERE Composer LIKE '%U%' \"\"\"\n",
    "df = pd.read_sql_query(query, connection)\n",
    "df"
   ]
  },
  {
   "cell_type": "markdown",
   "metadata": {},
   "source": [
    "#### Агрегаты SUM, MIN, MAX, AVG, COUNT"
   ]
  },
  {
   "cell_type": "code",
   "execution_count": 32,
   "metadata": {
    "ExecuteTime": {
     "end_time": "2023-11-30T00:01:44.520163800Z",
     "start_time": "2023-11-30T00:01:44.505374200Z"
    }
   },
   "outputs": [
    {
     "data": {
      "text/plain": "   COUNT (DISTINCT Composer)\n0                        344",
      "text/html": "<div>\n<style scoped>\n    .dataframe tbody tr th:only-of-type {\n        vertical-align: middle;\n    }\n\n    .dataframe tbody tr th {\n        vertical-align: top;\n    }\n\n    .dataframe thead th {\n        text-align: right;\n    }\n</style>\n<table border=\"1\" class=\"dataframe\">\n  <thead>\n    <tr style=\"text-align: right;\">\n      <th></th>\n      <th>COUNT (DISTINCT Composer)</th>\n    </tr>\n  </thead>\n  <tbody>\n    <tr>\n      <th>0</th>\n      <td>344</td>\n    </tr>\n  </tbody>\n</table>\n</div>"
     },
     "execution_count": 32,
     "metadata": {},
     "output_type": "execute_result"
    }
   ],
   "source": [
    "query = \"\"\" SELECT COUNT (DISTINCT Composer)\n",
    "            FROM tracks \n",
    "            WHERE Composer LIKE '%U%' \"\"\"\n",
    "df = pd.read_sql_query(query, connection)\n",
    "df"
   ]
  },
  {
   "cell_type": "code",
   "execution_count": 33,
   "metadata": {
    "ExecuteTime": {
     "end_time": "2023-11-30T00:01:44.752073200Z",
     "start_time": "2023-11-30T00:01:44.720360900Z"
    }
   },
   "outputs": [
    {
     "data": {
      "text/plain": "   AVG(Milliseconds)\n0      393599.212104",
      "text/html": "<div>\n<style scoped>\n    .dataframe tbody tr th:only-of-type {\n        vertical-align: middle;\n    }\n\n    .dataframe tbody tr th {\n        vertical-align: top;\n    }\n\n    .dataframe thead th {\n        text-align: right;\n    }\n</style>\n<table border=\"1\" class=\"dataframe\">\n  <thead>\n    <tr style=\"text-align: right;\">\n      <th></th>\n      <th>AVG(Milliseconds)</th>\n    </tr>\n  </thead>\n  <tbody>\n    <tr>\n      <th>0</th>\n      <td>393599.212104</td>\n    </tr>\n  </tbody>\n</table>\n</div>"
     },
     "execution_count": 33,
     "metadata": {},
     "output_type": "execute_result"
    }
   ],
   "source": [
    "query = \"\"\"SELECT AVG(Milliseconds) \n",
    "            FROM tracks \n",
    "                                ; \"\"\"\n",
    "df = pd.read_sql_query(query, connection)\n",
    "df.head(2)"
   ]
  },
  {
   "cell_type": "markdown",
   "metadata": {},
   "source": [
    "#### GROUP BY/HAVING"
   ]
  },
  {
   "cell_type": "markdown",
   "metadata": {},
   "source": [
    "**GROUP BY** используется для объединения результатов выборки по одному или нескольким столбцам."
   ]
  },
  {
   "cell_type": "code",
   "execution_count": 34,
   "metadata": {
    "ExecuteTime": {
     "end_time": "2023-11-30T00:01:45.330946400Z",
     "start_time": "2023-11-30T00:01:45.295850700Z"
    }
   },
   "outputs": [
    {
     "data": {
      "text/plain": "   TrackId                     Name  AlbumId  MediaTypeId  GenreId Composer  \\\n0     3224  Through a Looking Glass      229            3       21     None   \n\n   Milliseconds       Bytes  UnitPrice  \n0       5088838  1059546140       1.99  ",
      "text/html": "<div>\n<style scoped>\n    .dataframe tbody tr th:only-of-type {\n        vertical-align: middle;\n    }\n\n    .dataframe tbody tr th {\n        vertical-align: top;\n    }\n\n    .dataframe thead th {\n        text-align: right;\n    }\n</style>\n<table border=\"1\" class=\"dataframe\">\n  <thead>\n    <tr style=\"text-align: right;\">\n      <th></th>\n      <th>TrackId</th>\n      <th>Name</th>\n      <th>AlbumId</th>\n      <th>MediaTypeId</th>\n      <th>GenreId</th>\n      <th>Composer</th>\n      <th>Milliseconds</th>\n      <th>Bytes</th>\n      <th>UnitPrice</th>\n    </tr>\n  </thead>\n  <tbody>\n    <tr>\n      <th>0</th>\n      <td>3224</td>\n      <td>Through a Looking Glass</td>\n      <td>229</td>\n      <td>3</td>\n      <td>21</td>\n      <td>None</td>\n      <td>5088838</td>\n      <td>1059546140</td>\n      <td>1.99</td>\n    </tr>\n  </tbody>\n</table>\n</div>"
     },
     "execution_count": 34,
     "metadata": {},
     "output_type": "execute_result"
    }
   ],
   "source": [
    "query = \"\"\" SELECT *\n",
    "            FROM tracks \n",
    "            WHERE Bytes = (SELECT MAX(Bytes)  \n",
    "                                FROM tracks) \"\"\"\n",
    "df = pd.read_sql_query(query, connection)\n",
    "df"
   ]
  },
  {
   "cell_type": "code",
   "execution_count": 35,
   "metadata": {
    "ExecuteTime": {
     "end_time": "2023-11-30T00:01:45.538715Z",
     "start_time": "2023-11-30T00:01:45.512648700Z"
    }
   },
   "outputs": [
    {
     "data": {
      "text/plain": "    GenreId     length\n0        20  48.529717\n1        18  43.759151\n2        21  42.921396\n3        19  35.750684\n4        22  26.421062\n5         3   5.162491\n6        15   5.049763\n7        13   4.957549\n8        24   4.897793\n9         2   4.862590\n10        1   4.731834\n11        6   4.505996\n12       23   4.400975\n13        8   4.119629\n14       10   4.072848\n15        4   3.905897\n16        7   3.880988\n17        9   3.817235\n18       16   3.748730\n19       14   3.667781\n20       11   3.659833\n21       12   3.152737\n22       17   2.969605\n23       25   2.913550\n24        5   2.244058",
      "text/html": "<div>\n<style scoped>\n    .dataframe tbody tr th:only-of-type {\n        vertical-align: middle;\n    }\n\n    .dataframe tbody tr th {\n        vertical-align: top;\n    }\n\n    .dataframe thead th {\n        text-align: right;\n    }\n</style>\n<table border=\"1\" class=\"dataframe\">\n  <thead>\n    <tr style=\"text-align: right;\">\n      <th></th>\n      <th>GenreId</th>\n      <th>length</th>\n    </tr>\n  </thead>\n  <tbody>\n    <tr>\n      <th>0</th>\n      <td>20</td>\n      <td>48.529717</td>\n    </tr>\n    <tr>\n      <th>1</th>\n      <td>18</td>\n      <td>43.759151</td>\n    </tr>\n    <tr>\n      <th>2</th>\n      <td>21</td>\n      <td>42.921396</td>\n    </tr>\n    <tr>\n      <th>3</th>\n      <td>19</td>\n      <td>35.750684</td>\n    </tr>\n    <tr>\n      <th>4</th>\n      <td>22</td>\n      <td>26.421062</td>\n    </tr>\n    <tr>\n      <th>5</th>\n      <td>3</td>\n      <td>5.162491</td>\n    </tr>\n    <tr>\n      <th>6</th>\n      <td>15</td>\n      <td>5.049763</td>\n    </tr>\n    <tr>\n      <th>7</th>\n      <td>13</td>\n      <td>4.957549</td>\n    </tr>\n    <tr>\n      <th>8</th>\n      <td>24</td>\n      <td>4.897793</td>\n    </tr>\n    <tr>\n      <th>9</th>\n      <td>2</td>\n      <td>4.862590</td>\n    </tr>\n    <tr>\n      <th>10</th>\n      <td>1</td>\n      <td>4.731834</td>\n    </tr>\n    <tr>\n      <th>11</th>\n      <td>6</td>\n      <td>4.505996</td>\n    </tr>\n    <tr>\n      <th>12</th>\n      <td>23</td>\n      <td>4.400975</td>\n    </tr>\n    <tr>\n      <th>13</th>\n      <td>8</td>\n      <td>4.119629</td>\n    </tr>\n    <tr>\n      <th>14</th>\n      <td>10</td>\n      <td>4.072848</td>\n    </tr>\n    <tr>\n      <th>15</th>\n      <td>4</td>\n      <td>3.905897</td>\n    </tr>\n    <tr>\n      <th>16</th>\n      <td>7</td>\n      <td>3.880988</td>\n    </tr>\n    <tr>\n      <th>17</th>\n      <td>9</td>\n      <td>3.817235</td>\n    </tr>\n    <tr>\n      <th>18</th>\n      <td>16</td>\n      <td>3.748730</td>\n    </tr>\n    <tr>\n      <th>19</th>\n      <td>14</td>\n      <td>3.667781</td>\n    </tr>\n    <tr>\n      <th>20</th>\n      <td>11</td>\n      <td>3.659833</td>\n    </tr>\n    <tr>\n      <th>21</th>\n      <td>12</td>\n      <td>3.152737</td>\n    </tr>\n    <tr>\n      <th>22</th>\n      <td>17</td>\n      <td>2.969605</td>\n    </tr>\n    <tr>\n      <th>23</th>\n      <td>25</td>\n      <td>2.913550</td>\n    </tr>\n    <tr>\n      <th>24</th>\n      <td>5</td>\n      <td>2.244058</td>\n    </tr>\n  </tbody>\n</table>\n</div>"
     },
     "execution_count": 35,
     "metadata": {},
     "output_type": "execute_result"
    }
   ],
   "source": [
    "query = \"\"\" SELECT GenreId, AVG(Milliseconds)/60000 as length\n",
    "            FROM tracks \n",
    "            GROUP BY 1\n",
    "            ORDER BY 2 DESC\"\"\"\n",
    "df = pd.read_sql_query(query, connection)\n",
    "df"
   ]
  },
  {
   "cell_type": "markdown",
   "metadata": {},
   "source": [
    "Если предложение **WHERE** определяет предикат для фильтрации строк, то предложение **HAVING** применяется после группировки для определения аналогичного предиката, фильтрующего группы по значениям агрегатных функций."
   ]
  },
  {
   "cell_type": "code",
   "execution_count": 36,
   "metadata": {
    "ExecuteTime": {
     "end_time": "2023-11-30T00:01:45.910913200Z",
     "start_time": "2023-11-30T00:01:45.899100500Z"
    }
   },
   "outputs": [
    {
     "data": {
      "text/plain": "   GenreId     length\n0       20  48.529717\n1       18  43.759151\n2       21  42.921396\n3       19  35.750684\n4       22  26.421062\n5        3   5.162491\n6       15   5.049763",
      "text/html": "<div>\n<style scoped>\n    .dataframe tbody tr th:only-of-type {\n        vertical-align: middle;\n    }\n\n    .dataframe tbody tr th {\n        vertical-align: top;\n    }\n\n    .dataframe thead th {\n        text-align: right;\n    }\n</style>\n<table border=\"1\" class=\"dataframe\">\n  <thead>\n    <tr style=\"text-align: right;\">\n      <th></th>\n      <th>GenreId</th>\n      <th>length</th>\n    </tr>\n  </thead>\n  <tbody>\n    <tr>\n      <th>0</th>\n      <td>20</td>\n      <td>48.529717</td>\n    </tr>\n    <tr>\n      <th>1</th>\n      <td>18</td>\n      <td>43.759151</td>\n    </tr>\n    <tr>\n      <th>2</th>\n      <td>21</td>\n      <td>42.921396</td>\n    </tr>\n    <tr>\n      <th>3</th>\n      <td>19</td>\n      <td>35.750684</td>\n    </tr>\n    <tr>\n      <th>4</th>\n      <td>22</td>\n      <td>26.421062</td>\n    </tr>\n    <tr>\n      <th>5</th>\n      <td>3</td>\n      <td>5.162491</td>\n    </tr>\n    <tr>\n      <th>6</th>\n      <td>15</td>\n      <td>5.049763</td>\n    </tr>\n  </tbody>\n</table>\n</div>"
     },
     "execution_count": 36,
     "metadata": {},
     "output_type": "execute_result"
    }
   ],
   "source": [
    "query = \"\"\" SELECT GenreId, AVG(Milliseconds)/60000 as length\n",
    "            FROM tracks \n",
    "            GROUP BY 1\n",
    "            HAVING length > 5\n",
    "            ORDER BY 2 DESC\"\"\"\n",
    "df = pd.read_sql_query(query, connection)\n",
    "df"
   ]
  },
  {
   "cell_type": "markdown",
   "metadata": {},
   "source": [
    "#### Выбор из нескольких источников"
   ]
  },
  {
   "cell_type": "code",
   "execution_count": 37,
   "metadata": {
    "ExecuteTime": {
     "end_time": "2023-11-30T00:01:46.373001300Z",
     "start_time": "2023-11-30T00:01:46.299900900Z"
    }
   },
   "outputs": [
    {
     "data": {
      "text/plain": "    TrackId                                               Name  AlbumId  \\\n0      3359  Symphony No. 3 in E-flat major, Op. 55, \"Eroic...      268   \n1      3403                             Intoitus: Adorate Deum      272   \n2      3404                                 Miserere mei, Deus      273   \n3      3405               Canon and Gigue in D Major: I. Canon      274   \n4      3406  Concerto No. 1 in E Major, RV 269 \"Spring\": I....      275   \n..      ...                                                ...      ...   \n69     3498  Concerto for Violin, Strings and Continuo in G...      342   \n70     3499  Pini Di Roma (Pinien Von Rom) \\ I Pini Della V...      343   \n71     3500  String Quartet No. 12 in C Minor, D. 703 \"Quar...      344   \n72     3501               L'orfeo, Act 3, Sinfonia (Orchestra)      345   \n73     3502  Quintet for Horn, Violin, 2 Violas, and Cello ...      346   \n\n    MediaTypeId  GenreId                  Composer  Milliseconds     Bytes  \\\n0             5       24      Ludwig van Beethoven        356426   5817216   \n1             2       24                 Anonymous        245317   4123531   \n2             2       24          Gregorio Allegri        501503   8285941   \n3             2       24          Johann Pachelbel        271788   4438393   \n4             2       24           Antonio Vivaldi        199086   3347810   \n..          ...      ...                       ...           ...       ...   \n69            4       24  Pietro Antonio Locatelli        493573  16454937   \n70            2       24                      None        286741   4718950   \n71            2       24            Franz Schubert        139200   2283131   \n72            2       24        Claudio Monteverdi         66639   1189062   \n73            2       24   Wolfgang Amadeus Mozart        221331   3665114   \n\n    UnitPrice  GenreId       Name  \n0        0.99       24  Classical  \n1        0.99       24  Classical  \n2        0.99       24  Classical  \n3        0.99       24  Classical  \n4        0.99       24  Classical  \n..        ...      ...        ...  \n69       0.99       24  Classical  \n70       0.99       24  Classical  \n71       0.99       24  Classical  \n72       0.99       24  Classical  \n73       0.99       24  Classical  \n\n[74 rows x 11 columns]",
      "text/html": "<div>\n<style scoped>\n    .dataframe tbody tr th:only-of-type {\n        vertical-align: middle;\n    }\n\n    .dataframe tbody tr th {\n        vertical-align: top;\n    }\n\n    .dataframe thead th {\n        text-align: right;\n    }\n</style>\n<table border=\"1\" class=\"dataframe\">\n  <thead>\n    <tr style=\"text-align: right;\">\n      <th></th>\n      <th>TrackId</th>\n      <th>Name</th>\n      <th>AlbumId</th>\n      <th>MediaTypeId</th>\n      <th>GenreId</th>\n      <th>Composer</th>\n      <th>Milliseconds</th>\n      <th>Bytes</th>\n      <th>UnitPrice</th>\n      <th>GenreId</th>\n      <th>Name</th>\n    </tr>\n  </thead>\n  <tbody>\n    <tr>\n      <th>0</th>\n      <td>3359</td>\n      <td>Symphony No. 3 in E-flat major, Op. 55, \"Eroic...</td>\n      <td>268</td>\n      <td>5</td>\n      <td>24</td>\n      <td>Ludwig van Beethoven</td>\n      <td>356426</td>\n      <td>5817216</td>\n      <td>0.99</td>\n      <td>24</td>\n      <td>Classical</td>\n    </tr>\n    <tr>\n      <th>1</th>\n      <td>3403</td>\n      <td>Intoitus: Adorate Deum</td>\n      <td>272</td>\n      <td>2</td>\n      <td>24</td>\n      <td>Anonymous</td>\n      <td>245317</td>\n      <td>4123531</td>\n      <td>0.99</td>\n      <td>24</td>\n      <td>Classical</td>\n    </tr>\n    <tr>\n      <th>2</th>\n      <td>3404</td>\n      <td>Miserere mei, Deus</td>\n      <td>273</td>\n      <td>2</td>\n      <td>24</td>\n      <td>Gregorio Allegri</td>\n      <td>501503</td>\n      <td>8285941</td>\n      <td>0.99</td>\n      <td>24</td>\n      <td>Classical</td>\n    </tr>\n    <tr>\n      <th>3</th>\n      <td>3405</td>\n      <td>Canon and Gigue in D Major: I. Canon</td>\n      <td>274</td>\n      <td>2</td>\n      <td>24</td>\n      <td>Johann Pachelbel</td>\n      <td>271788</td>\n      <td>4438393</td>\n      <td>0.99</td>\n      <td>24</td>\n      <td>Classical</td>\n    </tr>\n    <tr>\n      <th>4</th>\n      <td>3406</td>\n      <td>Concerto No. 1 in E Major, RV 269 \"Spring\": I....</td>\n      <td>275</td>\n      <td>2</td>\n      <td>24</td>\n      <td>Antonio Vivaldi</td>\n      <td>199086</td>\n      <td>3347810</td>\n      <td>0.99</td>\n      <td>24</td>\n      <td>Classical</td>\n    </tr>\n    <tr>\n      <th>...</th>\n      <td>...</td>\n      <td>...</td>\n      <td>...</td>\n      <td>...</td>\n      <td>...</td>\n      <td>...</td>\n      <td>...</td>\n      <td>...</td>\n      <td>...</td>\n      <td>...</td>\n      <td>...</td>\n    </tr>\n    <tr>\n      <th>69</th>\n      <td>3498</td>\n      <td>Concerto for Violin, Strings and Continuo in G...</td>\n      <td>342</td>\n      <td>4</td>\n      <td>24</td>\n      <td>Pietro Antonio Locatelli</td>\n      <td>493573</td>\n      <td>16454937</td>\n      <td>0.99</td>\n      <td>24</td>\n      <td>Classical</td>\n    </tr>\n    <tr>\n      <th>70</th>\n      <td>3499</td>\n      <td>Pini Di Roma (Pinien Von Rom) \\ I Pini Della V...</td>\n      <td>343</td>\n      <td>2</td>\n      <td>24</td>\n      <td>None</td>\n      <td>286741</td>\n      <td>4718950</td>\n      <td>0.99</td>\n      <td>24</td>\n      <td>Classical</td>\n    </tr>\n    <tr>\n      <th>71</th>\n      <td>3500</td>\n      <td>String Quartet No. 12 in C Minor, D. 703 \"Quar...</td>\n      <td>344</td>\n      <td>2</td>\n      <td>24</td>\n      <td>Franz Schubert</td>\n      <td>139200</td>\n      <td>2283131</td>\n      <td>0.99</td>\n      <td>24</td>\n      <td>Classical</td>\n    </tr>\n    <tr>\n      <th>72</th>\n      <td>3501</td>\n      <td>L'orfeo, Act 3, Sinfonia (Orchestra)</td>\n      <td>345</td>\n      <td>2</td>\n      <td>24</td>\n      <td>Claudio Monteverdi</td>\n      <td>66639</td>\n      <td>1189062</td>\n      <td>0.99</td>\n      <td>24</td>\n      <td>Classical</td>\n    </tr>\n    <tr>\n      <th>73</th>\n      <td>3502</td>\n      <td>Quintet for Horn, Violin, 2 Violas, and Cello ...</td>\n      <td>346</td>\n      <td>2</td>\n      <td>24</td>\n      <td>Wolfgang Amadeus Mozart</td>\n      <td>221331</td>\n      <td>3665114</td>\n      <td>0.99</td>\n      <td>24</td>\n      <td>Classical</td>\n    </tr>\n  </tbody>\n</table>\n<p>74 rows × 11 columns</p>\n</div>"
     },
     "execution_count": 37,
     "metadata": {},
     "output_type": "execute_result"
    }
   ],
   "source": [
    "query = \"\"\" SELECT tracks.*,\n",
    "                   genres.*\n",
    "            FROM tracks \n",
    "            INNER JOIN genres ON tracks.Genreid = genres.Genreid\n",
    "            WHERE genres.Name = 'Classical'\n",
    "            \"\"\"\n",
    "df = pd.read_sql_query(query, connection)\n",
    "df"
   ]
  },
  {
   "cell_type": "markdown",
   "metadata": {},
   "source": [
    "#### Union"
   ]
  },
  {
   "cell_type": "code",
   "execution_count": 38,
   "metadata": {
    "ExecuteTime": {
     "end_time": "2023-11-30T00:01:46.786020300Z",
     "start_time": "2023-11-30T00:01:46.718880200Z"
    }
   },
   "outputs": [
    {
     "data": {
      "text/plain": "    FirstName    LastName      Type\n0       Aaron    Mitchell  Customer\n1   Alexandre       Rocha  Customer\n2      Andrew       Adams  Employee\n3      Astrid      Gruber  Customer\n4       Bjørn      Hansen  Customer\n..        ...         ...       ...\n62      Steve      Murray  Customer\n63      Terhi  Hämäläinen  Customer\n64        Tim       Goyer  Customer\n65     Victor     Stevens  Customer\n66      Wyatt      Girard  Customer\n\n[67 rows x 3 columns]",
      "text/html": "<div>\n<style scoped>\n    .dataframe tbody tr th:only-of-type {\n        vertical-align: middle;\n    }\n\n    .dataframe tbody tr th {\n        vertical-align: top;\n    }\n\n    .dataframe thead th {\n        text-align: right;\n    }\n</style>\n<table border=\"1\" class=\"dataframe\">\n  <thead>\n    <tr style=\"text-align: right;\">\n      <th></th>\n      <th>FirstName</th>\n      <th>LastName</th>\n      <th>Type</th>\n    </tr>\n  </thead>\n  <tbody>\n    <tr>\n      <th>0</th>\n      <td>Aaron</td>\n      <td>Mitchell</td>\n      <td>Customer</td>\n    </tr>\n    <tr>\n      <th>1</th>\n      <td>Alexandre</td>\n      <td>Rocha</td>\n      <td>Customer</td>\n    </tr>\n    <tr>\n      <th>2</th>\n      <td>Andrew</td>\n      <td>Adams</td>\n      <td>Employee</td>\n    </tr>\n    <tr>\n      <th>3</th>\n      <td>Astrid</td>\n      <td>Gruber</td>\n      <td>Customer</td>\n    </tr>\n    <tr>\n      <th>4</th>\n      <td>Bjørn</td>\n      <td>Hansen</td>\n      <td>Customer</td>\n    </tr>\n    <tr>\n      <th>...</th>\n      <td>...</td>\n      <td>...</td>\n      <td>...</td>\n    </tr>\n    <tr>\n      <th>62</th>\n      <td>Steve</td>\n      <td>Murray</td>\n      <td>Customer</td>\n    </tr>\n    <tr>\n      <th>63</th>\n      <td>Terhi</td>\n      <td>Hämäläinen</td>\n      <td>Customer</td>\n    </tr>\n    <tr>\n      <th>64</th>\n      <td>Tim</td>\n      <td>Goyer</td>\n      <td>Customer</td>\n    </tr>\n    <tr>\n      <th>65</th>\n      <td>Victor</td>\n      <td>Stevens</td>\n      <td>Customer</td>\n    </tr>\n    <tr>\n      <th>66</th>\n      <td>Wyatt</td>\n      <td>Girard</td>\n      <td>Customer</td>\n    </tr>\n  </tbody>\n</table>\n<p>67 rows × 3 columns</p>\n</div>"
     },
     "execution_count": 38,
     "metadata": {},
     "output_type": "execute_result"
    }
   ],
   "source": [
    "query = \"\"\" SELECT FirstName, LastName, 'Employee' AS Type\n",
    "            FROM employees\n",
    "            UNION\n",
    "            SELECT FirstName, LastName, 'Customer'\n",
    "            FROM customers;\n",
    "            \"\"\"\n",
    "df = pd.read_sql_query(query, connection)\n",
    "df"
   ]
  },
  {
   "cell_type": "markdown",
   "source": [
    "Задание\n",
    "Анализируем продажи интернет-магазина с помощью SQL.\n",
    "У нас есть доступ к базе данных онлайн-магазина. В этой базе данных\n",
    "содержатся различные таблицы, в которых хранится информация о\n",
    "продуктах и сделанных заказах.\n",
    "Для решения этой задачи нам потребуются данные из двух таблиц:\n",
    "«orders» (заказы) и «products» (продукты). Все необходимые данные\n",
    "можно загрузить по следующей\n",
    "ссылке: https://cloud.mail.ru/public/n4JN/yozGwKhyA\n",
    "Структура таблиц выглядит следующим образом.Таблица «orders»\n",
    "(заказы) включает следующие колонки:\n",
    "- order_id (уникальный номер, который отличает каждый заказ);\n",
    "- order_date (дата, когда был сделан заказ);\n",
    "- product_id (идентификационный номер продукта, который был\n",
    "заказан);\n",
    "- quantity (количество заказанных единиц каждого продукта);\n",
    "- total_price (общая стоимость, которую покупатель должен заплатить\n",
    "за заказ). Таблица «products» (продукты) состоит из следующих\n",
    "колонок:\n",
    "- product_id (уникальный номер, который отличает каждый продукт);\n",
    "- product_name (название каждого продукта);\n",
    "- category (категория, к которой принадлежит продукт, - например,\n",
    "книги, электроника и т. д.);\n",
    "- price (цена каждого продукта).\n",
    "ВОПРОС:\n",
    "1. У какого продукта наибольшее количество продаж за весь период?"
   ],
   "metadata": {
    "collapsed": false
   }
  },
  {
   "cell_type": "code",
   "execution_count": 39,
   "outputs": [
    {
     "name": "stdout",
     "output_type": "stream",
     "text": [
      "Продукт с наибольшим количеством продаж: HFvpNNVhmAUgDZ, количество: 21\n"
     ]
    }
   ],
   "source": [
    "import sqlite3\n",
    "\n",
    "# Подключение к базе данных\n",
    "conn = sqlite3.connect('my_online_store.db')\n",
    "\n",
    "# Создание курсора\n",
    "c = conn.cursor()\n",
    "\n",
    "# SQL-запрос\n",
    "c.execute(\"\"\"\n",
    "SELECT p.product_name, SUM(o.quantity) as total_quantity\n",
    "FROM orders o\n",
    "JOIN products p ON o.product_id = p.product_id\n",
    "GROUP BY p.product_name\n",
    "ORDER BY total_quantity DESC\n",
    "LIMIT 1;\n",
    "\"\"\")\n",
    "\n",
    "# Получение результата\n",
    "result = c.fetchone()\n",
    "\n",
    "# Вывод результата\n",
    "print(f\"Продукт с наибольшим количеством продаж: {result[0]}, количество: {result[1]}\")\n",
    "\n",
    "# Закрытие соединения\n",
    "conn.close()"
   ],
   "metadata": {
    "collapsed": false,
    "ExecuteTime": {
     "end_time": "2023-11-30T00:01:47.087626400Z",
     "start_time": "2023-11-30T00:01:47.074215100Z"
    }
   }
  },
  {
   "cell_type": "markdown",
   "source": [
    "Чему равна общая выручка с точностью до одного знака после запятой?"
   ],
   "metadata": {
    "collapsed": false
   }
  },
  {
   "cell_type": "markdown",
   "source": [],
   "metadata": {
    "collapsed": false
   }
  },
  {
   "cell_type": "code",
   "execution_count": 40,
   "outputs": [
    {
     "name": "stdout",
     "output_type": "stream",
     "text": [
      "Общая выручка: 145545.4\n"
     ]
    }
   ],
   "source": [
    "import sqlite3\n",
    "\n",
    "# Подключение к базе данных\n",
    "conn = sqlite3.connect('my_online_store.db')\n",
    "\n",
    "# Создание курсора\n",
    "c = conn.cursor()\n",
    "\n",
    "# SQL-запрос\n",
    "c.execute(\"\"\"\n",
    "SELECT ROUND(SUM(total_price), 1) as total_revenue\n",
    "FROM orders;\n",
    "\"\"\")\n",
    "\n",
    "# Получение результата\n",
    "result = c.fetchone()\n",
    "\n",
    "# Вывод результата\n",
    "print(f\"Общая выручка: {result[0]}\")\n",
    "\n",
    "# Закрытие соединения\n",
    "conn.close()"
   ],
   "metadata": {
    "collapsed": false,
    "ExecuteTime": {
     "end_time": "2023-11-30T00:01:47.725280600Z",
     "start_time": "2023-11-30T00:01:47.694329300Z"
    }
   }
  }
 ],
 "metadata": {
  "celltoolbar": "Hide code",
  "kernelspec": {
   "name": "python3",
   "language": "python",
   "display_name": "Python 3 (ipykernel)"
  },
  "language_info": {
   "codemirror_mode": {
    "name": "ipython",
    "version": 3
   },
   "file_extension": ".py",
   "mimetype": "text/x-python",
   "name": "python",
   "nbconvert_exporter": "python",
   "pygments_lexer": "ipython3",
   "version": "3.8.15"
  }
 },
 "nbformat": 4,
 "nbformat_minor": 2
}

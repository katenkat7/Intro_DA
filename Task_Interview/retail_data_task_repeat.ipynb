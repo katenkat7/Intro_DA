{
 "cells": [
  {
   "cell_type": "code",
   "execution_count": null,
   "id": "336bf77d",
   "metadata": {},
   "outputs": [],
   "source": [
    "!pip install pandas\n",
    "!pip install numpy\n",
    "!pip install matplotlib\n",
    "!pip install openpyxl\n",
    "\n",
    "import pandas as pd\n",
    "import numpy as np\n",
    "from matplotlib import pyplot as plt"
   ]
  },
  {
   "cell_type": "code",
   "execution_count": 28,
   "id": "9b002dd9",
   "metadata": {
    "ExecuteTime": {
     "end_time": "2023-10-22T10:56:44.886343500Z",
     "start_time": "2023-10-22T10:56:42.205679900Z"
    }
   },
   "outputs": [],
   "source": [
    "incomes = pd.read_excel(\"table1.xlsx\")"
   ]
  },
  {
   "cell_type": "code",
   "execution_count": 5,
   "id": "41382d07",
   "metadata": {
    "ExecuteTime": {
     "end_time": "2023-10-22T08:19:18.573182400Z",
     "start_time": "2023-10-22T08:19:18.432744200Z"
    }
   },
   "outputs": [
    {
     "data": {
      "text/plain": "   operation_id   user_id    volume currency       operation_date\n0       6935122  29282488   25000.0      RUR  2023-02-07 11:17:28\n1       5201349  82189896  600000.0      RUR  2023-02-06 14:39:08\n2       6935148   9959035   51596.0      USD  2023-02-08 16:07:21\n3       1733794  30118944       2.5      USD  2023-02-06 15:22:53\n4       3467597  26949080     346.7      RUR  2023-02-09 13:31:38",
      "text/html": "<div>\n<style scoped>\n    .dataframe tbody tr th:only-of-type {\n        vertical-align: middle;\n    }\n\n    .dataframe tbody tr th {\n        vertical-align: top;\n    }\n\n    .dataframe thead th {\n        text-align: right;\n    }\n</style>\n<table border=\"1\" class=\"dataframe\">\n  <thead>\n    <tr style=\"text-align: right;\">\n      <th></th>\n      <th>operation_id</th>\n      <th>user_id</th>\n      <th>volume</th>\n      <th>currency</th>\n      <th>operation_date</th>\n    </tr>\n  </thead>\n  <tbody>\n    <tr>\n      <th>0</th>\n      <td>6935122</td>\n      <td>29282488</td>\n      <td>25000.0</td>\n      <td>RUR</td>\n      <td>2023-02-07 11:17:28</td>\n    </tr>\n    <tr>\n      <th>1</th>\n      <td>5201349</td>\n      <td>82189896</td>\n      <td>600000.0</td>\n      <td>RUR</td>\n      <td>2023-02-06 14:39:08</td>\n    </tr>\n    <tr>\n      <th>2</th>\n      <td>6935148</td>\n      <td>9959035</td>\n      <td>51596.0</td>\n      <td>USD</td>\n      <td>2023-02-08 16:07:21</td>\n    </tr>\n    <tr>\n      <th>3</th>\n      <td>1733794</td>\n      <td>30118944</td>\n      <td>2.5</td>\n      <td>USD</td>\n      <td>2023-02-06 15:22:53</td>\n    </tr>\n    <tr>\n      <th>4</th>\n      <td>3467597</td>\n      <td>26949080</td>\n      <td>346.7</td>\n      <td>RUR</td>\n      <td>2023-02-09 13:31:38</td>\n    </tr>\n  </tbody>\n</table>\n</div>"
     },
     "execution_count": 5,
     "metadata": {},
     "output_type": "execute_result"
    }
   ],
   "source": [
    "#смотрим на данные: таблица 1 - пополнения на счет\n",
    "incomes.head()"
   ]
  },
  {
   "cell_type": "code",
   "execution_count": 6,
   "id": "95f528bd",
   "metadata": {
    "ExecuteTime": {
     "end_time": "2023-10-22T08:19:31.629091400Z",
     "start_time": "2023-10-22T08:19:31.541938900Z"
    }
   },
   "outputs": [
    {
     "data": {
      "text/plain": "(26021, 5)"
     },
     "execution_count": 6,
     "metadata": {},
     "output_type": "execute_result"
    }
   ],
   "source": [
    "incomes.shape"
   ]
  },
  {
   "cell_type": "code",
   "execution_count": 72,
   "id": "60110492",
   "metadata": {
    "ExecuteTime": {
     "end_time": "2023-10-22T11:59:34.624691Z",
     "start_time": "2023-10-22T11:59:34.556529500Z"
    }
   },
   "outputs": [
    {
     "data": {
      "text/plain": "   rate_currency rate_countercurrency           rate_value  rate_date\n0            CNY                  RUB  4217-10-01 00:00:00 2023-02-06\n1            EUR                  RUB              76.7344 2023-02-06\n2            GEL                  RUB              26.5863 2023-02-06\n3            USD                  RUB              70.3847 2023-02-06\n4            CNY                  RUB  3815-10-01 00:00:00 2023-02-07\n5            EUR                  RUB              76.0347 2023-02-07\n6            GEL                  RUB              26.7006 2023-02-07\n7            USD                  RUB              70.5991 2023-02-07\n8            CNY                  RUB  4331-10-01 00:00:00 2023-02-08\n9            EUR                  RUB              75.9087 2023-02-08\n10           GEL                  RUB              26.8288 2023-02-08\n11           USD                  RUB              70.8924 2023-02-08\n12           CNY                  RUB  5391-10-01 00:00:00 2023-02-09\n13           EUR                  RUB              76.8344 2023-02-09\n14           GEL                  RUB              27.0518 2023-02-09\n15           USD                  RUB              71.5763 2023-02-09\n16           CNY                  RUB  7524-10-01 00:00:00 2023-02-10\n17           EUR                  RUB              78.3223 2023-02-10\n18           GEL                  RUB              27.4474 2023-02-10\n19           USD                  RUB              72.8949 2023-02-10\n20           CNY                  RUB  6916-10-01 00:00:00 2023-02-11\n21           EUR                  RUB              78.0542 2023-02-11\n22           GEL                  RUB               27.261 2023-02-11\n23           USD                  RUB              72.7923 2023-02-11\n24           CNY                  RUB  6916-10-01 00:00:00 2023-02-12\n25           EUR                  RUB              78.0542 2023-02-12\n26           GEL                  RUB               27.261 2023-02-12\n27           USD                  RUB              72.7923 2023-02-12",
      "text/html": "<div>\n<style scoped>\n    .dataframe tbody tr th:only-of-type {\n        vertical-align: middle;\n    }\n\n    .dataframe tbody tr th {\n        vertical-align: top;\n    }\n\n    .dataframe thead th {\n        text-align: right;\n    }\n</style>\n<table border=\"1\" class=\"dataframe\">\n  <thead>\n    <tr style=\"text-align: right;\">\n      <th></th>\n      <th>rate_currency</th>\n      <th>rate_countercurrency</th>\n      <th>rate_value</th>\n      <th>rate_date</th>\n    </tr>\n  </thead>\n  <tbody>\n    <tr>\n      <th>0</th>\n      <td>CNY</td>\n      <td>RUB</td>\n      <td>4217-10-01 00:00:00</td>\n      <td>2023-02-06</td>\n    </tr>\n    <tr>\n      <th>1</th>\n      <td>EUR</td>\n      <td>RUB</td>\n      <td>76.7344</td>\n      <td>2023-02-06</td>\n    </tr>\n    <tr>\n      <th>2</th>\n      <td>GEL</td>\n      <td>RUB</td>\n      <td>26.5863</td>\n      <td>2023-02-06</td>\n    </tr>\n    <tr>\n      <th>3</th>\n      <td>USD</td>\n      <td>RUB</td>\n      <td>70.3847</td>\n      <td>2023-02-06</td>\n    </tr>\n    <tr>\n      <th>4</th>\n      <td>CNY</td>\n      <td>RUB</td>\n      <td>3815-10-01 00:00:00</td>\n      <td>2023-02-07</td>\n    </tr>\n    <tr>\n      <th>5</th>\n      <td>EUR</td>\n      <td>RUB</td>\n      <td>76.0347</td>\n      <td>2023-02-07</td>\n    </tr>\n    <tr>\n      <th>6</th>\n      <td>GEL</td>\n      <td>RUB</td>\n      <td>26.7006</td>\n      <td>2023-02-07</td>\n    </tr>\n    <tr>\n      <th>7</th>\n      <td>USD</td>\n      <td>RUB</td>\n      <td>70.5991</td>\n      <td>2023-02-07</td>\n    </tr>\n    <tr>\n      <th>8</th>\n      <td>CNY</td>\n      <td>RUB</td>\n      <td>4331-10-01 00:00:00</td>\n      <td>2023-02-08</td>\n    </tr>\n    <tr>\n      <th>9</th>\n      <td>EUR</td>\n      <td>RUB</td>\n      <td>75.9087</td>\n      <td>2023-02-08</td>\n    </tr>\n    <tr>\n      <th>10</th>\n      <td>GEL</td>\n      <td>RUB</td>\n      <td>26.8288</td>\n      <td>2023-02-08</td>\n    </tr>\n    <tr>\n      <th>11</th>\n      <td>USD</td>\n      <td>RUB</td>\n      <td>70.8924</td>\n      <td>2023-02-08</td>\n    </tr>\n    <tr>\n      <th>12</th>\n      <td>CNY</td>\n      <td>RUB</td>\n      <td>5391-10-01 00:00:00</td>\n      <td>2023-02-09</td>\n    </tr>\n    <tr>\n      <th>13</th>\n      <td>EUR</td>\n      <td>RUB</td>\n      <td>76.8344</td>\n      <td>2023-02-09</td>\n    </tr>\n    <tr>\n      <th>14</th>\n      <td>GEL</td>\n      <td>RUB</td>\n      <td>27.0518</td>\n      <td>2023-02-09</td>\n    </tr>\n    <tr>\n      <th>15</th>\n      <td>USD</td>\n      <td>RUB</td>\n      <td>71.5763</td>\n      <td>2023-02-09</td>\n    </tr>\n    <tr>\n      <th>16</th>\n      <td>CNY</td>\n      <td>RUB</td>\n      <td>7524-10-01 00:00:00</td>\n      <td>2023-02-10</td>\n    </tr>\n    <tr>\n      <th>17</th>\n      <td>EUR</td>\n      <td>RUB</td>\n      <td>78.3223</td>\n      <td>2023-02-10</td>\n    </tr>\n    <tr>\n      <th>18</th>\n      <td>GEL</td>\n      <td>RUB</td>\n      <td>27.4474</td>\n      <td>2023-02-10</td>\n    </tr>\n    <tr>\n      <th>19</th>\n      <td>USD</td>\n      <td>RUB</td>\n      <td>72.8949</td>\n      <td>2023-02-10</td>\n    </tr>\n    <tr>\n      <th>20</th>\n      <td>CNY</td>\n      <td>RUB</td>\n      <td>6916-10-01 00:00:00</td>\n      <td>2023-02-11</td>\n    </tr>\n    <tr>\n      <th>21</th>\n      <td>EUR</td>\n      <td>RUB</td>\n      <td>78.0542</td>\n      <td>2023-02-11</td>\n    </tr>\n    <tr>\n      <th>22</th>\n      <td>GEL</td>\n      <td>RUB</td>\n      <td>27.261</td>\n      <td>2023-02-11</td>\n    </tr>\n    <tr>\n      <th>23</th>\n      <td>USD</td>\n      <td>RUB</td>\n      <td>72.7923</td>\n      <td>2023-02-11</td>\n    </tr>\n    <tr>\n      <th>24</th>\n      <td>CNY</td>\n      <td>RUB</td>\n      <td>6916-10-01 00:00:00</td>\n      <td>2023-02-12</td>\n    </tr>\n    <tr>\n      <th>25</th>\n      <td>EUR</td>\n      <td>RUB</td>\n      <td>78.0542</td>\n      <td>2023-02-12</td>\n    </tr>\n    <tr>\n      <th>26</th>\n      <td>GEL</td>\n      <td>RUB</td>\n      <td>27.261</td>\n      <td>2023-02-12</td>\n    </tr>\n    <tr>\n      <th>27</th>\n      <td>USD</td>\n      <td>RUB</td>\n      <td>72.7923</td>\n      <td>2023-02-12</td>\n    </tr>\n  </tbody>\n</table>\n</div>"
     },
     "execution_count": 72,
     "metadata": {},
     "output_type": "execute_result"
    }
   ],
   "source": [
    "currencies = pd.read_excel(\"table2.xlsx\") #смотрим на данные: таблица 2 - конвертация валюты\n",
    "currencies"
   ]
  },
  {
   "cell_type": "code",
   "execution_count": 9,
   "id": "64452497",
   "metadata": {
    "ExecuteTime": {
     "end_time": "2023-10-22T10:27:57.667241400Z",
     "start_time": "2023-10-22T10:27:57.620296600Z"
    }
   },
   "outputs": [
    {
     "data": {
      "text/plain": "(28, 4)"
     },
     "execution_count": 9,
     "metadata": {},
     "output_type": "execute_result"
    }
   ],
   "source": [
    "currencies.shape"
   ]
  },
  {
   "cell_type": "markdown",
   "id": "04560b5a",
   "metadata": {},
   "source": [
    "# 1) Выведите максимальный размер пополнения в долларах за неделю, начинающуюся с 8 февраля\n",
    "Шаги:\n",
    "1 - отфильтровать данные с 8 февраля\n",
    "2 - взять все пополнения в долларах\n",
    "3 - вывести максимальный размер"
   ]
  },
  {
   "cell_type": "code",
   "execution_count": 29,
   "id": "0d2435c8",
   "metadata": {
    "ExecuteTime": {
     "end_time": "2023-10-22T10:56:46.032545300Z",
     "start_time": "2023-10-22T10:56:45.984433200Z"
    }
   },
   "outputs": [
    {
     "data": {
      "text/plain": "0       2023-02-07 11:17:28\n1       2023-02-06 14:39:08\n2       2023-02-08 16:07:21\n3       2023-02-06 15:22:53\n4       2023-02-09 13:31:38\n                ...        \n26016   2023-02-10 23:23:23\n26017   2023-02-07 15:31:19\n26018   2023-02-09 15:36:53\n26019   2023-02-08 17:24:21\n26020   2023-02-06 10:48:22\nName: operation_date, Length: 26021, dtype: datetime64[ns]"
     },
     "execution_count": 29,
     "metadata": {},
     "output_type": "execute_result"
    }
   ],
   "source": [
    "# переводим дату и время во временной тип\n",
    "incomes['operation_date'] = pd.to_datetime(incomes['operation_date'])\n",
    "incomes['operation_date']"
   ]
  },
  {
   "cell_type": "code",
   "execution_count": 30,
   "outputs": [
    {
     "data": {
      "text/plain": "       operation_id   user_id    volume currency  operation_datetime\n0           6935122  29282488   25000.0      RUR 2023-02-07 11:17:28\n1           5201349  82189896  600000.0      RUR 2023-02-06 14:39:08\n2           6935148   9959035   51596.0      USD 2023-02-08 16:07:21\n3           1733794  30118944       2.5      USD 2023-02-06 15:22:53\n4           3467597  26949080     346.7      RUR 2023-02-09 13:31:38\n...             ...       ...       ...      ...                 ...\n26016       1764422  28342244    2666.7      RUR 2023-02-10 23:23:23\n26017       2646644  14987932    6000.0      USD 2023-02-07 15:31:19\n26018       3528874  10041206      75.0      RUR 2023-02-09 15:36:53\n26019        882225  30761181  200000.0      RUR 2023-02-08 17:24:21\n26020       4705291   5499669     200.0      RUR 2023-02-06 10:48:22\n\n[26021 rows x 5 columns]",
      "text/html": "<div>\n<style scoped>\n    .dataframe tbody tr th:only-of-type {\n        vertical-align: middle;\n    }\n\n    .dataframe tbody tr th {\n        vertical-align: top;\n    }\n\n    .dataframe thead th {\n        text-align: right;\n    }\n</style>\n<table border=\"1\" class=\"dataframe\">\n  <thead>\n    <tr style=\"text-align: right;\">\n      <th></th>\n      <th>operation_id</th>\n      <th>user_id</th>\n      <th>volume</th>\n      <th>currency</th>\n      <th>operation_datetime</th>\n    </tr>\n  </thead>\n  <tbody>\n    <tr>\n      <th>0</th>\n      <td>6935122</td>\n      <td>29282488</td>\n      <td>25000.0</td>\n      <td>RUR</td>\n      <td>2023-02-07 11:17:28</td>\n    </tr>\n    <tr>\n      <th>1</th>\n      <td>5201349</td>\n      <td>82189896</td>\n      <td>600000.0</td>\n      <td>RUR</td>\n      <td>2023-02-06 14:39:08</td>\n    </tr>\n    <tr>\n      <th>2</th>\n      <td>6935148</td>\n      <td>9959035</td>\n      <td>51596.0</td>\n      <td>USD</td>\n      <td>2023-02-08 16:07:21</td>\n    </tr>\n    <tr>\n      <th>3</th>\n      <td>1733794</td>\n      <td>30118944</td>\n      <td>2.5</td>\n      <td>USD</td>\n      <td>2023-02-06 15:22:53</td>\n    </tr>\n    <tr>\n      <th>4</th>\n      <td>3467597</td>\n      <td>26949080</td>\n      <td>346.7</td>\n      <td>RUR</td>\n      <td>2023-02-09 13:31:38</td>\n    </tr>\n    <tr>\n      <th>...</th>\n      <td>...</td>\n      <td>...</td>\n      <td>...</td>\n      <td>...</td>\n      <td>...</td>\n    </tr>\n    <tr>\n      <th>26016</th>\n      <td>1764422</td>\n      <td>28342244</td>\n      <td>2666.7</td>\n      <td>RUR</td>\n      <td>2023-02-10 23:23:23</td>\n    </tr>\n    <tr>\n      <th>26017</th>\n      <td>2646644</td>\n      <td>14987932</td>\n      <td>6000.0</td>\n      <td>USD</td>\n      <td>2023-02-07 15:31:19</td>\n    </tr>\n    <tr>\n      <th>26018</th>\n      <td>3528874</td>\n      <td>10041206</td>\n      <td>75.0</td>\n      <td>RUR</td>\n      <td>2023-02-09 15:36:53</td>\n    </tr>\n    <tr>\n      <th>26019</th>\n      <td>882225</td>\n      <td>30761181</td>\n      <td>200000.0</td>\n      <td>RUR</td>\n      <td>2023-02-08 17:24:21</td>\n    </tr>\n    <tr>\n      <th>26020</th>\n      <td>4705291</td>\n      <td>5499669</td>\n      <td>200.0</td>\n      <td>RUR</td>\n      <td>2023-02-06 10:48:22</td>\n    </tr>\n  </tbody>\n</table>\n<p>26021 rows × 5 columns</p>\n</div>"
     },
     "execution_count": 30,
     "metadata": {},
     "output_type": "execute_result"
    }
   ],
   "source": [
    "incomes = incomes.rename(columns={'operation_date': 'operation_datetime'})\n",
    "incomes"
   ],
   "metadata": {
    "collapsed": false,
    "ExecuteTime": {
     "end_time": "2023-10-22T10:57:02.544720800Z",
     "start_time": "2023-10-22T10:57:02.521074400Z"
    }
   }
  },
  {
   "cell_type": "code",
   "execution_count": 31,
   "id": "000abf40",
   "metadata": {
    "ExecuteTime": {
     "end_time": "2023-10-22T10:57:19.939402300Z",
     "start_time": "2023-10-22T10:57:19.920863Z"
    }
   },
   "outputs": [],
   "source": [
    "# получим новую колонку \"дата\" ез времени\n",
    "incomes['operation_date'] = incomes['operation_datetime'].dt.floor('d')"
   ]
  },
  {
   "cell_type": "code",
   "execution_count": 32,
   "outputs": [
    {
     "data": {
      "text/plain": "       operation_id   user_id    volume currency  operation_datetime  \\\n0           6935122  29282488   25000.0      RUR 2023-02-07 11:17:28   \n1           5201349  82189896  600000.0      RUR 2023-02-06 14:39:08   \n2           6935148   9959035   51596.0      USD 2023-02-08 16:07:21   \n3           1733794  30118944       2.5      USD 2023-02-06 15:22:53   \n4           3467597  26949080     346.7      RUR 2023-02-09 13:31:38   \n...             ...       ...       ...      ...                 ...   \n26016       1764422  28342244    2666.7      RUR 2023-02-10 23:23:23   \n26017       2646644  14987932    6000.0      USD 2023-02-07 15:31:19   \n26018       3528874  10041206      75.0      RUR 2023-02-09 15:36:53   \n26019        882225  30761181  200000.0      RUR 2023-02-08 17:24:21   \n26020       4705291   5499669     200.0      RUR 2023-02-06 10:48:22   \n\n      operation_date  \n0         2023-02-07  \n1         2023-02-06  \n2         2023-02-08  \n3         2023-02-06  \n4         2023-02-09  \n...              ...  \n26016     2023-02-10  \n26017     2023-02-07  \n26018     2023-02-09  \n26019     2023-02-08  \n26020     2023-02-06  \n\n[26021 rows x 6 columns]",
      "text/html": "<div>\n<style scoped>\n    .dataframe tbody tr th:only-of-type {\n        vertical-align: middle;\n    }\n\n    .dataframe tbody tr th {\n        vertical-align: top;\n    }\n\n    .dataframe thead th {\n        text-align: right;\n    }\n</style>\n<table border=\"1\" class=\"dataframe\">\n  <thead>\n    <tr style=\"text-align: right;\">\n      <th></th>\n      <th>operation_id</th>\n      <th>user_id</th>\n      <th>volume</th>\n      <th>currency</th>\n      <th>operation_datetime</th>\n      <th>operation_date</th>\n    </tr>\n  </thead>\n  <tbody>\n    <tr>\n      <th>0</th>\n      <td>6935122</td>\n      <td>29282488</td>\n      <td>25000.0</td>\n      <td>RUR</td>\n      <td>2023-02-07 11:17:28</td>\n      <td>2023-02-07</td>\n    </tr>\n    <tr>\n      <th>1</th>\n      <td>5201349</td>\n      <td>82189896</td>\n      <td>600000.0</td>\n      <td>RUR</td>\n      <td>2023-02-06 14:39:08</td>\n      <td>2023-02-06</td>\n    </tr>\n    <tr>\n      <th>2</th>\n      <td>6935148</td>\n      <td>9959035</td>\n      <td>51596.0</td>\n      <td>USD</td>\n      <td>2023-02-08 16:07:21</td>\n      <td>2023-02-08</td>\n    </tr>\n    <tr>\n      <th>3</th>\n      <td>1733794</td>\n      <td>30118944</td>\n      <td>2.5</td>\n      <td>USD</td>\n      <td>2023-02-06 15:22:53</td>\n      <td>2023-02-06</td>\n    </tr>\n    <tr>\n      <th>4</th>\n      <td>3467597</td>\n      <td>26949080</td>\n      <td>346.7</td>\n      <td>RUR</td>\n      <td>2023-02-09 13:31:38</td>\n      <td>2023-02-09</td>\n    </tr>\n    <tr>\n      <th>...</th>\n      <td>...</td>\n      <td>...</td>\n      <td>...</td>\n      <td>...</td>\n      <td>...</td>\n      <td>...</td>\n    </tr>\n    <tr>\n      <th>26016</th>\n      <td>1764422</td>\n      <td>28342244</td>\n      <td>2666.7</td>\n      <td>RUR</td>\n      <td>2023-02-10 23:23:23</td>\n      <td>2023-02-10</td>\n    </tr>\n    <tr>\n      <th>26017</th>\n      <td>2646644</td>\n      <td>14987932</td>\n      <td>6000.0</td>\n      <td>USD</td>\n      <td>2023-02-07 15:31:19</td>\n      <td>2023-02-07</td>\n    </tr>\n    <tr>\n      <th>26018</th>\n      <td>3528874</td>\n      <td>10041206</td>\n      <td>75.0</td>\n      <td>RUR</td>\n      <td>2023-02-09 15:36:53</td>\n      <td>2023-02-09</td>\n    </tr>\n    <tr>\n      <th>26019</th>\n      <td>882225</td>\n      <td>30761181</td>\n      <td>200000.0</td>\n      <td>RUR</td>\n      <td>2023-02-08 17:24:21</td>\n      <td>2023-02-08</td>\n    </tr>\n    <tr>\n      <th>26020</th>\n      <td>4705291</td>\n      <td>5499669</td>\n      <td>200.0</td>\n      <td>RUR</td>\n      <td>2023-02-06 10:48:22</td>\n      <td>2023-02-06</td>\n    </tr>\n  </tbody>\n</table>\n<p>26021 rows × 6 columns</p>\n</div>"
     },
     "execution_count": 32,
     "metadata": {},
     "output_type": "execute_result"
    }
   ],
   "source": [
    "incomes"
   ],
   "metadata": {
    "collapsed": false,
    "ExecuteTime": {
     "end_time": "2023-10-22T10:57:28.903408300Z",
     "start_time": "2023-10-22T10:57:28.870836600Z"
    }
   }
  },
  {
   "cell_type": "code",
   "execution_count": 33,
   "id": "6638bbd8",
   "metadata": {
    "ExecuteTime": {
     "end_time": "2023-10-22T10:59:29.273669800Z",
     "start_time": "2023-10-22T10:59:29.249407Z"
    }
   },
   "outputs": [],
   "source": [
    "#фильтруем\n",
    "incomes_later_8_feb_usd = incomes[\n",
    "    (incomes['operation_date'] >= pd.Timestamp('2023-02-08')) & (incomes['currency'] == 'USD')\n",
    "]"
   ]
  },
  {
   "cell_type": "code",
   "execution_count": 26,
   "id": "befe35b0",
   "metadata": {
    "ExecuteTime": {
     "end_time": "2023-10-22T10:55:46.244758800Z",
     "start_time": "2023-10-22T10:55:46.227039600Z"
    }
   },
   "outputs": [
    {
     "data": {
      "text/plain": "1800000.0"
     },
     "execution_count": 26,
     "metadata": {},
     "output_type": "execute_result"
    }
   ],
   "source": [
    "# аксимальный рамер пополнения - ответ на 1 упражнение\n",
    "incomes_later_8_feb_usd['volume'].max()"
   ]
  },
  {
   "cell_type": "markdown",
   "id": "fb7576b2",
   "metadata": {},
   "source": [
    "# 2) Выведите средний размер пополнений за февраль подневно, в разбивке по валютам\n",
    "### Результатом должна быть таблица формата \"дата, валюта и размер пополнения\" (с округлением до целого числа).\n",
    "Шаги\n",
    "1- взять все данные за февраль\n",
    "2- группируем по дате и валюте\n",
    "3- получаем среднюю сумму пополнений и округляем до целого"
   ]
  },
  {
   "cell_type": "code",
   "execution_count": 34,
   "id": "3abc1857",
   "metadata": {
    "ExecuteTime": {
     "end_time": "2023-10-22T11:02:14.924640Z",
     "start_time": "2023-10-22T11:02:14.644282500Z"
    }
   },
   "outputs": [
    {
     "data": {
      "text/plain": "<Axes: >"
     },
     "execution_count": 34,
     "metadata": {},
     "output_type": "execute_result"
    },
    {
     "data": {
      "text/plain": "<Figure size 640x480 with 1 Axes>",
      "image/png": "[encoded data removed]"
     },
     "metadata": {},
     "output_type": "display_data"
    }
   ],
   "source": [
    "incomes['operation_date'].hist() #все данные из таблицы и так за февраль"
   ]
  },
  {
   "cell_type": "code",
   "execution_count": 34,
   "id": "624b4a70",
   "metadata": {},
   "outputs": [],
   "source": [
    "#делаем группировку подневно и повалютно, берем среднюю сумму от всех пополнений\n",
    "#группировочные поля подаем как список\n",
    "#reset_index -чтобы получить более читаемый формат\n",
    "mean_volume_per_curency_daily = incomes.groupby(['operation_date', 'currency'])['volume'].mean().reset_index()"
   ]
  },
  {
   "cell_type": "code",
   "execution_count": 38,
   "id": "02332431",
   "metadata": {},
   "outputs": [],
   "source": [
    "#округляем до целого числа\n",
    "mean_volume_per_curency_daily['volume'] = round(mean_volume_per_curency_daily['volume']).astype(int)"
   ]
  },
  {
   "cell_type": "code",
   "execution_count": 65,
   "id": "c589ee19",
   "metadata": {},
   "outputs": [
    {
     "data": {
      "text/html": [
       "<div>\n",
       "<style scoped>\n",
       "    .dataframe tbody tr th:only-of-type {\n",
       "        vertical-align: middle;\n",
       "    }\n",
       "\n",
       "    .dataframe tbody tr th {\n",
       "        vertical-align: top;\n",
       "    }\n",
       "\n",
       "    .dataframe thead th {\n",
       "        text-align: right;\n",
       "    }\n",
       "</style>\n",
       "<table border=\"1\" class=\"dataframe\">\n",
       "  <thead>\n",
       "    <tr style=\"text-align: right;\">\n",
       "      <th></th>\n",
       "      <th>operation_date</th>\n",
       "      <th>currency</th>\n",
       "      <th>volume</th>\n",
       "    </tr>\n",
       "  </thead>\n",
       "  <tbody>\n",
       "    <tr>\n",
       "      <th>0</th>\n",
       "      <td>2023-02-06</td>\n",
       "      <td>CNY</td>\n",
       "      <td>31461</td>\n",
       "    </tr>\n",
       "    <tr>\n",
       "      <th>1</th>\n",
       "      <td>2023-02-06</td>\n",
       "      <td>EUR</td>\n",
       "      <td>8611</td>\n",
       "    </tr>\n",
       "    <tr>\n",
       "      <th>2</th>\n",
       "      <td>2023-02-06</td>\n",
       "      <td>RUR</td>\n",
       "      <td>1654025</td>\n",
       "    </tr>\n",
       "    <tr>\n",
       "      <th>3</th>\n",
       "      <td>2023-02-06</td>\n",
       "      <td>USD</td>\n",
       "      <td>3750</td>\n",
       "    </tr>\n",
       "    <tr>\n",
       "      <th>4</th>\n",
       "      <td>2023-02-07</td>\n",
       "      <td>CNY</td>\n",
       "      <td>24572</td>\n",
       "    </tr>\n",
       "    <tr>\n",
       "      <th>5</th>\n",
       "      <td>2023-02-07</td>\n",
       "      <td>EUR</td>\n",
       "      <td>5060</td>\n",
       "    </tr>\n",
       "    <tr>\n",
       "      <th>6</th>\n",
       "      <td>2023-02-07</td>\n",
       "      <td>RUR</td>\n",
       "      <td>1567446</td>\n",
       "    </tr>\n",
       "    <tr>\n",
       "      <th>7</th>\n",
       "      <td>2023-02-07</td>\n",
       "      <td>USD</td>\n",
       "      <td>5902</td>\n",
       "    </tr>\n",
       "    <tr>\n",
       "      <th>8</th>\n",
       "      <td>2023-02-08</td>\n",
       "      <td>CNY</td>\n",
       "      <td>82000</td>\n",
       "    </tr>\n",
       "    <tr>\n",
       "      <th>9</th>\n",
       "      <td>2023-02-08</td>\n",
       "      <td>EUR</td>\n",
       "      <td>3909</td>\n",
       "    </tr>\n",
       "    <tr>\n",
       "      <th>10</th>\n",
       "      <td>2023-02-08</td>\n",
       "      <td>RUR</td>\n",
       "      <td>1436882</td>\n",
       "    </tr>\n",
       "    <tr>\n",
       "      <th>11</th>\n",
       "      <td>2023-02-08</td>\n",
       "      <td>USD</td>\n",
       "      <td>4640</td>\n",
       "    </tr>\n",
       "    <tr>\n",
       "      <th>12</th>\n",
       "      <td>2023-02-09</td>\n",
       "      <td>CNY</td>\n",
       "      <td>17576</td>\n",
       "    </tr>\n",
       "    <tr>\n",
       "      <th>13</th>\n",
       "      <td>2023-02-09</td>\n",
       "      <td>EUR</td>\n",
       "      <td>8984</td>\n",
       "    </tr>\n",
       "    <tr>\n",
       "      <th>14</th>\n",
       "      <td>2023-02-09</td>\n",
       "      <td>RUR</td>\n",
       "      <td>1506067</td>\n",
       "    </tr>\n",
       "    <tr>\n",
       "      <th>15</th>\n",
       "      <td>2023-02-09</td>\n",
       "      <td>USD</td>\n",
       "      <td>4561</td>\n",
       "    </tr>\n",
       "    <tr>\n",
       "      <th>16</th>\n",
       "      <td>2023-02-10</td>\n",
       "      <td>CNY</td>\n",
       "      <td>8053</td>\n",
       "    </tr>\n",
       "    <tr>\n",
       "      <th>17</th>\n",
       "      <td>2023-02-10</td>\n",
       "      <td>EUR</td>\n",
       "      <td>11400</td>\n",
       "    </tr>\n",
       "    <tr>\n",
       "      <th>18</th>\n",
       "      <td>2023-02-10</td>\n",
       "      <td>RUR</td>\n",
       "      <td>1404119</td>\n",
       "    </tr>\n",
       "    <tr>\n",
       "      <th>19</th>\n",
       "      <td>2023-02-10</td>\n",
       "      <td>USD</td>\n",
       "      <td>4832</td>\n",
       "    </tr>\n",
       "    <tr>\n",
       "      <th>20</th>\n",
       "      <td>2023-02-11</td>\n",
       "      <td>RUR</td>\n",
       "      <td>2900000</td>\n",
       "    </tr>\n",
       "    <tr>\n",
       "      <th>21</th>\n",
       "      <td>2023-02-11</td>\n",
       "      <td>USD</td>\n",
       "      <td>3996</td>\n",
       "    </tr>\n",
       "  </tbody>\n",
       "</table>\n",
       "</div>"
      ],
      "text/plain": [
       "   operation_date currency   volume\n",
       "0      2023-02-06      CNY    31461\n",
       "1      2023-02-06      EUR     8611\n",
       "2      2023-02-06      RUR  1654025\n",
       "3      2023-02-06      USD     3750\n",
       "4      2023-02-07      CNY    24572\n",
       "5      2023-02-07      EUR     5060\n",
       "6      2023-02-07      RUR  1567446\n",
       "7      2023-02-07      USD     5902\n",
       "8      2023-02-08      CNY    82000\n",
       "9      2023-02-08      EUR     3909\n",
       "10     2023-02-08      RUR  1436882\n",
       "11     2023-02-08      USD     4640\n",
       "12     2023-02-09      CNY    17576\n",
       "13     2023-02-09      EUR     8984\n",
       "14     2023-02-09      RUR  1506067\n",
       "15     2023-02-09      USD     4561\n",
       "16     2023-02-10      CNY     8053\n",
       "17     2023-02-10      EUR    11400\n",
       "18     2023-02-10      RUR  1404119\n",
       "19     2023-02-10      USD     4832\n",
       "20     2023-02-11      RUR  2900000\n",
       "21     2023-02-11      USD     3996"
      ]
     },
     "execution_count": 65,
     "metadata": {},
     "output_type": "execute_result"
    }
   ],
   "source": [
    "# ответ на 2 упражнение\n",
    "mean_volume_per_curency_daily"
   ]
  },
  {
   "cell_type": "markdown",
   "id": "d205e5f8",
   "metadata": {},
   "source": [
    "# 3) Посчитайте долю клиентов, у которых были пополнения в нескольких валютах. Ответ округлите до десятых процента."
   ]
  },
  {
   "cell_type": "markdown",
   "id": "e015bb6d",
   "metadata": {},
   "source": [
    "1) Получим клиентов с больше чем одной транзакцией пополнения\n",
    "2) Из этого количества\n",
    "3) Берем это количество клиентов и делим на всех клиентов"
   ]
  },
  {
   "cell_type": "code",
   "execution_count": 43,
   "id": "627aac29",
   "metadata": {
    "ExecuteTime": {
     "end_time": "2023-10-22T11:08:32.962200600Z",
     "start_time": "2023-10-22T11:08:32.931776100Z"
    }
   },
   "outputs": [],
   "source": [
    "user_transaction_count = incomes.groupby('user_id')['volume'].count().reset_index()"
   ]
  },
  {
   "cell_type": "code",
   "execution_count": 44,
   "id": "013dbbcf",
   "metadata": {
    "ExecuteTime": {
     "end_time": "2023-10-22T11:08:33.115738600Z",
     "start_time": "2023-10-22T11:08:33.106363400Z"
    }
   },
   "outputs": [
    {
     "data": {
      "text/plain": "         user_id  volume\n0           1403       1\n1           3311       1\n2           3594       1\n3           3816       1\n4           3893       1\n...          ...     ...\n24087  123081660       1\n24088  123081824       1\n24089  123083740       1\n24090  123086476       1\n24091  123091068       1\n\n[24092 rows x 2 columns]",
      "text/html": "<div>\n<style scoped>\n    .dataframe tbody tr th:only-of-type {\n        vertical-align: middle;\n    }\n\n    .dataframe tbody tr th {\n        vertical-align: top;\n    }\n\n    .dataframe thead th {\n        text-align: right;\n    }\n</style>\n<table border=\"1\" class=\"dataframe\">\n  <thead>\n    <tr style=\"text-align: right;\">\n      <th></th>\n      <th>user_id</th>\n      <th>volume</th>\n    </tr>\n  </thead>\n  <tbody>\n    <tr>\n      <th>0</th>\n      <td>1403</td>\n      <td>1</td>\n    </tr>\n    <tr>\n      <th>1</th>\n      <td>3311</td>\n      <td>1</td>\n    </tr>\n    <tr>\n      <th>2</th>\n      <td>3594</td>\n      <td>1</td>\n    </tr>\n    <tr>\n      <th>3</th>\n      <td>3816</td>\n      <td>1</td>\n    </tr>\n    <tr>\n      <th>4</th>\n      <td>3893</td>\n      <td>1</td>\n    </tr>\n    <tr>\n      <th>...</th>\n      <td>...</td>\n      <td>...</td>\n    </tr>\n    <tr>\n      <th>24087</th>\n      <td>123081660</td>\n      <td>1</td>\n    </tr>\n    <tr>\n      <th>24088</th>\n      <td>123081824</td>\n      <td>1</td>\n    </tr>\n    <tr>\n      <th>24089</th>\n      <td>123083740</td>\n      <td>1</td>\n    </tr>\n    <tr>\n      <th>24090</th>\n      <td>123086476</td>\n      <td>1</td>\n    </tr>\n    <tr>\n      <th>24091</th>\n      <td>123091068</td>\n      <td>1</td>\n    </tr>\n  </tbody>\n</table>\n<p>24092 rows × 2 columns</p>\n</div>"
     },
     "execution_count": 44,
     "metadata": {},
     "output_type": "execute_result"
    }
   ],
   "source": [
    "user_transaction_count"
   ]
  },
  {
   "cell_type": "code",
   "execution_count": 45,
   "id": "804ce9d7",
   "metadata": {
    "ExecuteTime": {
     "end_time": "2023-10-22T11:08:38.361833600Z",
     "start_time": "2023-10-22T11:08:38.334291600Z"
    }
   },
   "outputs": [],
   "source": [
    "users_transactions_more_than_one = user_transaction_count[user_transaction_count['volume'] > 1]['user_id']"
   ]
  },
  {
   "cell_type": "code",
   "execution_count": 46,
   "id": "0eea2afe",
   "metadata": {
    "ExecuteTime": {
     "end_time": "2023-10-22T11:08:39.687305300Z",
     "start_time": "2023-10-22T11:08:39.623928800Z"
    }
   },
   "outputs": [
    {
     "data": {
      "text/plain": "23           13027\n66           38439\n84           46330\n99           50918\n184          84281\n           ...    \n24002    122665840\n24016    122749808\n24045    122998292\n24057    123024856\n24081    123068648\nName: user_id, Length: 1639, dtype: int64"
     },
     "execution_count": 46,
     "metadata": {},
     "output_type": "execute_result"
    }
   ],
   "source": [
    "users_transactions_more_than_one"
   ]
  },
  {
   "cell_type": "code",
   "execution_count": 58,
   "id": "572cc1e7",
   "metadata": {
    "ExecuteTime": {
     "end_time": "2023-10-22T11:45:21.484262100Z",
     "start_time": "2023-10-22T11:45:21.455924100Z"
    }
   },
   "outputs": [
    {
     "data": {
      "text/plain": "        user_id  currency\n0         13027         1\n1         38439         1\n2         46330         1\n3         50918         1\n4         84281         1\n...         ...       ...\n1634  122665840         1\n1635  122749808         1\n1636  122998292         1\n1637  123024856         1\n1638  123068648         1\n\n[1639 rows x 2 columns]",
      "text/html": "<div>\n<style scoped>\n    .dataframe tbody tr th:only-of-type {\n        vertical-align: middle;\n    }\n\n    .dataframe tbody tr th {\n        vertical-align: top;\n    }\n\n    .dataframe thead th {\n        text-align: right;\n    }\n</style>\n<table border=\"1\" class=\"dataframe\">\n  <thead>\n    <tr style=\"text-align: right;\">\n      <th></th>\n      <th>user_id</th>\n      <th>currency</th>\n    </tr>\n  </thead>\n  <tbody>\n    <tr>\n      <th>0</th>\n      <td>13027</td>\n      <td>1</td>\n    </tr>\n    <tr>\n      <th>1</th>\n      <td>38439</td>\n      <td>1</td>\n    </tr>\n    <tr>\n      <th>2</th>\n      <td>46330</td>\n      <td>1</td>\n    </tr>\n    <tr>\n      <th>3</th>\n      <td>50918</td>\n      <td>1</td>\n    </tr>\n    <tr>\n      <th>4</th>\n      <td>84281</td>\n      <td>1</td>\n    </tr>\n    <tr>\n      <th>...</th>\n      <td>...</td>\n      <td>...</td>\n    </tr>\n    <tr>\n      <th>1634</th>\n      <td>122665840</td>\n      <td>1</td>\n    </tr>\n    <tr>\n      <th>1635</th>\n      <td>122749808</td>\n      <td>1</td>\n    </tr>\n    <tr>\n      <th>1636</th>\n      <td>122998292</td>\n      <td>1</td>\n    </tr>\n    <tr>\n      <th>1637</th>\n      <td>123024856</td>\n      <td>1</td>\n    </tr>\n    <tr>\n      <th>1638</th>\n      <td>123068648</td>\n      <td>1</td>\n    </tr>\n  </tbody>\n</table>\n<p>1639 rows × 2 columns</p>\n</div>"
     },
     "execution_count": 58,
     "metadata": {},
     "output_type": "execute_result"
    }
   ],
   "source": [
    "#фильтрация на множественный список делается через isin. Взяли уникальную валюту\n",
    "incomes_users_transactions_more_than_one_unique_cur = incomes[incomes['user_id'].isin(users_transactions_more_than_one)].groupby('user_id')['currency'].nunique().reset_index()\n",
    "incomes_users_transactions_more_than_one_unique_cur"
   ]
  },
  {
   "cell_type": "code",
   "execution_count": 59,
   "id": "6e39b3ae",
   "metadata": {
    "ExecuteTime": {
     "end_time": "2023-10-22T11:46:25.070479600Z",
     "start_time": "2023-10-22T11:46:25.061008300Z"
    }
   },
   "outputs": [
    {
     "data": {
      "text/plain": "73"
     },
     "execution_count": 59,
     "metadata": {},
     "output_type": "execute_result"
    }
   ],
   "source": [
    "#нам надо, чтобы было несколько валют, поэтому больше, чем один\n",
    "users_transactions_more_than_one_unique_cur_count = incomes_users_transactions_more_than_one_unique_cur[\n",
    "    incomes_users_transactions_more_than_one_unique_cur['currency'] > 1\n",
    "].shape[0]\n",
    "users_transactions_more_than_one_unique_cur_count"
   ]
  },
  {
   "cell_type": "code",
   "execution_count": 64,
   "id": "bc937d58",
   "metadata": {},
   "outputs": [
    {
     "data": {
      "text/plain": [
       "0.3"
      ]
     },
     "execution_count": 64,
     "metadata": {},
     "output_type": "execute_result"
    }
   ],
   "source": [
    "# осталось поделить на общее количество пользователей = ответ на 3 упражнение\n",
    "round(users_transactions_more_than_one_unique_cur_count / user_transaction_count.shape[0] * 100, 1)"
   ]
  },
  {
   "cell_type": "markdown",
   "id": "f8057698",
   "metadata": {},
   "source": [
    "# 4) По каждому клиенту вывести дату первого пополнения, валюту, сумму в рублях (используйте вторую таблицу). Ответом выведите общую сумму в рублях по всем клиентам."
   ]
  },
  {
   "cell_type": "code",
   "execution_count": 73,
   "id": "9573a3b5",
   "metadata": {
    "ExecuteTime": {
     "end_time": "2023-10-22T11:59:48.251019700Z",
     "start_time": "2023-10-22T11:59:48.217070300Z"
    }
   },
   "outputs": [
    {
     "data": {
      "text/plain": "       operation_id   user_id    volume currency  operation_datetime  \\\n0           6935122  29282488   25000.0      RUR 2023-02-07 11:17:28   \n1           5201349  82189896  600000.0      RUR 2023-02-06 14:39:08   \n2           6935148   9959035   51596.0      USD 2023-02-08 16:07:21   \n3           1733794  30118944       2.5      USD 2023-02-06 15:22:53   \n4           3467597  26949080     346.7      RUR 2023-02-09 13:31:38   \n...             ...       ...       ...      ...                 ...   \n26016       1764422  28342244    2666.7      RUR 2023-02-10 23:23:23   \n26017       2646644  14987932    6000.0      USD 2023-02-07 15:31:19   \n26018       3528874  10041206      75.0      RUR 2023-02-09 15:36:53   \n26019        882225  30761181  200000.0      RUR 2023-02-08 17:24:21   \n26020       4705291   5499669     200.0      RUR 2023-02-06 10:48:22   \n\n      operation_date  \n0         2023-02-07  \n1         2023-02-06  \n2         2023-02-08  \n3         2023-02-06  \n4         2023-02-09  \n...              ...  \n26016     2023-02-10  \n26017     2023-02-07  \n26018     2023-02-09  \n26019     2023-02-08  \n26020     2023-02-06  \n\n[26021 rows x 6 columns]",
      "text/html": "<div>\n<style scoped>\n    .dataframe tbody tr th:only-of-type {\n        vertical-align: middle;\n    }\n\n    .dataframe tbody tr th {\n        vertical-align: top;\n    }\n\n    .dataframe thead th {\n        text-align: right;\n    }\n</style>\n<table border=\"1\" class=\"dataframe\">\n  <thead>\n    <tr style=\"text-align: right;\">\n      <th></th>\n      <th>operation_id</th>\n      <th>user_id</th>\n      <th>volume</th>\n      <th>currency</th>\n      <th>operation_datetime</th>\n      <th>operation_date</th>\n    </tr>\n  </thead>\n  <tbody>\n    <tr>\n      <th>0</th>\n      <td>6935122</td>\n      <td>29282488</td>\n      <td>25000.0</td>\n      <td>RUR</td>\n      <td>2023-02-07 11:17:28</td>\n      <td>2023-02-07</td>\n    </tr>\n    <tr>\n      <th>1</th>\n      <td>5201349</td>\n      <td>82189896</td>\n      <td>600000.0</td>\n      <td>RUR</td>\n      <td>2023-02-06 14:39:08</td>\n      <td>2023-02-06</td>\n    </tr>\n    <tr>\n      <th>2</th>\n      <td>6935148</td>\n      <td>9959035</td>\n      <td>51596.0</td>\n      <td>USD</td>\n      <td>2023-02-08 16:07:21</td>\n      <td>2023-02-08</td>\n    </tr>\n    <tr>\n      <th>3</th>\n      <td>1733794</td>\n      <td>30118944</td>\n      <td>2.5</td>\n      <td>USD</td>\n      <td>2023-02-06 15:22:53</td>\n      <td>2023-02-06</td>\n    </tr>\n    <tr>\n      <th>4</th>\n      <td>3467597</td>\n      <td>26949080</td>\n      <td>346.7</td>\n      <td>RUR</td>\n      <td>2023-02-09 13:31:38</td>\n      <td>2023-02-09</td>\n    </tr>\n    <tr>\n      <th>...</th>\n      <td>...</td>\n      <td>...</td>\n      <td>...</td>\n      <td>...</td>\n      <td>...</td>\n      <td>...</td>\n    </tr>\n    <tr>\n      <th>26016</th>\n      <td>1764422</td>\n      <td>28342244</td>\n      <td>2666.7</td>\n      <td>RUR</td>\n      <td>2023-02-10 23:23:23</td>\n      <td>2023-02-10</td>\n    </tr>\n    <tr>\n      <th>26017</th>\n      <td>2646644</td>\n      <td>14987932</td>\n      <td>6000.0</td>\n      <td>USD</td>\n      <td>2023-02-07 15:31:19</td>\n      <td>2023-02-07</td>\n    </tr>\n    <tr>\n      <th>26018</th>\n      <td>3528874</td>\n      <td>10041206</td>\n      <td>75.0</td>\n      <td>RUR</td>\n      <td>2023-02-09 15:36:53</td>\n      <td>2023-02-09</td>\n    </tr>\n    <tr>\n      <th>26019</th>\n      <td>882225</td>\n      <td>30761181</td>\n      <td>200000.0</td>\n      <td>RUR</td>\n      <td>2023-02-08 17:24:21</td>\n      <td>2023-02-08</td>\n    </tr>\n    <tr>\n      <th>26020</th>\n      <td>4705291</td>\n      <td>5499669</td>\n      <td>200.0</td>\n      <td>RUR</td>\n      <td>2023-02-06 10:48:22</td>\n      <td>2023-02-06</td>\n    </tr>\n  </tbody>\n</table>\n<p>26021 rows × 6 columns</p>\n</div>"
     },
     "execution_count": 73,
     "metadata": {},
     "output_type": "execute_result"
    }
   ],
   "source": [
    "incomes"
   ]
  },
  {
   "cell_type": "code",
   "execution_count": 74,
   "id": "c016f7ce",
   "metadata": {
    "ExecuteTime": {
     "end_time": "2023-10-22T11:59:48.835295200Z",
     "start_time": "2023-10-22T11:59:48.815547500Z"
    }
   },
   "outputs": [
    {
     "data": {
      "text/plain": "   rate_currency rate_countercurrency           rate_value  rate_date\n0            CNY                  RUB  4217-10-01 00:00:00 2023-02-06\n1            EUR                  RUB              76.7344 2023-02-06\n2            GEL                  RUB              26.5863 2023-02-06\n3            USD                  RUB              70.3847 2023-02-06\n4            CNY                  RUB  3815-10-01 00:00:00 2023-02-07\n5            EUR                  RUB              76.0347 2023-02-07\n6            GEL                  RUB              26.7006 2023-02-07\n7            USD                  RUB              70.5991 2023-02-07\n8            CNY                  RUB  4331-10-01 00:00:00 2023-02-08\n9            EUR                  RUB              75.9087 2023-02-08\n10           GEL                  RUB              26.8288 2023-02-08\n11           USD                  RUB              70.8924 2023-02-08\n12           CNY                  RUB  5391-10-01 00:00:00 2023-02-09\n13           EUR                  RUB              76.8344 2023-02-09\n14           GEL                  RUB              27.0518 2023-02-09\n15           USD                  RUB              71.5763 2023-02-09\n16           CNY                  RUB  7524-10-01 00:00:00 2023-02-10\n17           EUR                  RUB              78.3223 2023-02-10\n18           GEL                  RUB              27.4474 2023-02-10\n19           USD                  RUB              72.8949 2023-02-10\n20           CNY                  RUB  6916-10-01 00:00:00 2023-02-11\n21           EUR                  RUB              78.0542 2023-02-11\n22           GEL                  RUB               27.261 2023-02-11\n23           USD                  RUB              72.7923 2023-02-11\n24           CNY                  RUB  6916-10-01 00:00:00 2023-02-12\n25           EUR                  RUB              78.0542 2023-02-12\n26           GEL                  RUB               27.261 2023-02-12\n27           USD                  RUB              72.7923 2023-02-12",
      "text/html": "<div>\n<style scoped>\n    .dataframe tbody tr th:only-of-type {\n        vertical-align: middle;\n    }\n\n    .dataframe tbody tr th {\n        vertical-align: top;\n    }\n\n    .dataframe thead th {\n        text-align: right;\n    }\n</style>\n<table border=\"1\" class=\"dataframe\">\n  <thead>\n    <tr style=\"text-align: right;\">\n      <th></th>\n      <th>rate_currency</th>\n      <th>rate_countercurrency</th>\n      <th>rate_value</th>\n      <th>rate_date</th>\n    </tr>\n  </thead>\n  <tbody>\n    <tr>\n      <th>0</th>\n      <td>CNY</td>\n      <td>RUB</td>\n      <td>4217-10-01 00:00:00</td>\n      <td>2023-02-06</td>\n    </tr>\n    <tr>\n      <th>1</th>\n      <td>EUR</td>\n      <td>RUB</td>\n      <td>76.7344</td>\n      <td>2023-02-06</td>\n    </tr>\n    <tr>\n      <th>2</th>\n      <td>GEL</td>\n      <td>RUB</td>\n      <td>26.5863</td>\n      <td>2023-02-06</td>\n    </tr>\n    <tr>\n      <th>3</th>\n      <td>USD</td>\n      <td>RUB</td>\n      <td>70.3847</td>\n      <td>2023-02-06</td>\n    </tr>\n    <tr>\n      <th>4</th>\n      <td>CNY</td>\n      <td>RUB</td>\n      <td>3815-10-01 00:00:00</td>\n      <td>2023-02-07</td>\n    </tr>\n    <tr>\n      <th>5</th>\n      <td>EUR</td>\n      <td>RUB</td>\n      <td>76.0347</td>\n      <td>2023-02-07</td>\n    </tr>\n    <tr>\n      <th>6</th>\n      <td>GEL</td>\n      <td>RUB</td>\n      <td>26.7006</td>\n      <td>2023-02-07</td>\n    </tr>\n    <tr>\n      <th>7</th>\n      <td>USD</td>\n      <td>RUB</td>\n      <td>70.5991</td>\n      <td>2023-02-07</td>\n    </tr>\n    <tr>\n      <th>8</th>\n      <td>CNY</td>\n      <td>RUB</td>\n      <td>4331-10-01 00:00:00</td>\n      <td>2023-02-08</td>\n    </tr>\n    <tr>\n      <th>9</th>\n      <td>EUR</td>\n      <td>RUB</td>\n      <td>75.9087</td>\n      <td>2023-02-08</td>\n    </tr>\n    <tr>\n      <th>10</th>\n      <td>GEL</td>\n      <td>RUB</td>\n      <td>26.8288</td>\n      <td>2023-02-08</td>\n    </tr>\n    <tr>\n      <th>11</th>\n      <td>USD</td>\n      <td>RUB</td>\n      <td>70.8924</td>\n      <td>2023-02-08</td>\n    </tr>\n    <tr>\n      <th>12</th>\n      <td>CNY</td>\n      <td>RUB</td>\n      <td>5391-10-01 00:00:00</td>\n      <td>2023-02-09</td>\n    </tr>\n    <tr>\n      <th>13</th>\n      <td>EUR</td>\n      <td>RUB</td>\n      <td>76.8344</td>\n      <td>2023-02-09</td>\n    </tr>\n    <tr>\n      <th>14</th>\n      <td>GEL</td>\n      <td>RUB</td>\n      <td>27.0518</td>\n      <td>2023-02-09</td>\n    </tr>\n    <tr>\n      <th>15</th>\n      <td>USD</td>\n      <td>RUB</td>\n      <td>71.5763</td>\n      <td>2023-02-09</td>\n    </tr>\n    <tr>\n      <th>16</th>\n      <td>CNY</td>\n      <td>RUB</td>\n      <td>7524-10-01 00:00:00</td>\n      <td>2023-02-10</td>\n    </tr>\n    <tr>\n      <th>17</th>\n      <td>EUR</td>\n      <td>RUB</td>\n      <td>78.3223</td>\n      <td>2023-02-10</td>\n    </tr>\n    <tr>\n      <th>18</th>\n      <td>GEL</td>\n      <td>RUB</td>\n      <td>27.4474</td>\n      <td>2023-02-10</td>\n    </tr>\n    <tr>\n      <th>19</th>\n      <td>USD</td>\n      <td>RUB</td>\n      <td>72.8949</td>\n      <td>2023-02-10</td>\n    </tr>\n    <tr>\n      <th>20</th>\n      <td>CNY</td>\n      <td>RUB</td>\n      <td>6916-10-01 00:00:00</td>\n      <td>2023-02-11</td>\n    </tr>\n    <tr>\n      <th>21</th>\n      <td>EUR</td>\n      <td>RUB</td>\n      <td>78.0542</td>\n      <td>2023-02-11</td>\n    </tr>\n    <tr>\n      <th>22</th>\n      <td>GEL</td>\n      <td>RUB</td>\n      <td>27.261</td>\n      <td>2023-02-11</td>\n    </tr>\n    <tr>\n      <th>23</th>\n      <td>USD</td>\n      <td>RUB</td>\n      <td>72.7923</td>\n      <td>2023-02-11</td>\n    </tr>\n    <tr>\n      <th>24</th>\n      <td>CNY</td>\n      <td>RUB</td>\n      <td>6916-10-01 00:00:00</td>\n      <td>2023-02-12</td>\n    </tr>\n    <tr>\n      <th>25</th>\n      <td>EUR</td>\n      <td>RUB</td>\n      <td>78.0542</td>\n      <td>2023-02-12</td>\n    </tr>\n    <tr>\n      <th>26</th>\n      <td>GEL</td>\n      <td>RUB</td>\n      <td>27.261</td>\n      <td>2023-02-12</td>\n    </tr>\n    <tr>\n      <th>27</th>\n      <td>USD</td>\n      <td>RUB</td>\n      <td>72.7923</td>\n      <td>2023-02-12</td>\n    </tr>\n  </tbody>\n</table>\n</div>"
     },
     "execution_count": 74,
     "metadata": {},
     "output_type": "execute_result"
    }
   ],
   "source": [
    "currencies #видим datetime в cny"
   ]
  },
  {
   "cell_type": "code",
   "execution_count": 75,
   "id": "ed64cdfc",
   "metadata": {
    "ExecuteTime": {
     "end_time": "2023-10-22T11:59:49.783741100Z",
     "start_time": "2023-10-22T11:59:49.757418900Z"
    }
   },
   "outputs": [
    {
     "data": {
      "text/plain": "datetime.datetime(4217, 10, 1, 0, 0)"
     },
     "execution_count": 75,
     "metadata": {},
     "output_type": "execute_result"
    }
   ],
   "source": [
    "currencies['rate_value'][0]  #подтвердили datetime в cny"
   ]
  },
  {
   "cell_type": "code",
   "execution_count": 76,
   "id": "b4522915",
   "metadata": {
    "ExecuteTime": {
     "end_time": "2023-10-22T11:59:50.570855900Z",
     "start_time": "2023-10-22T11:59:50.539640400Z"
    }
   },
   "outputs": [
    {
     "data": {
      "text/plain": "   rate_currency rate_countercurrency           rate_value  rate_date\n0            CNY                  RUB  4217-10-01 00:00:00 2023-02-06\n4            CNY                  RUB  3815-10-01 00:00:00 2023-02-07\n8            CNY                  RUB  4331-10-01 00:00:00 2023-02-08\n12           CNY                  RUB  5391-10-01 00:00:00 2023-02-09\n16           CNY                  RUB  7524-10-01 00:00:00 2023-02-10\n20           CNY                  RUB  6916-10-01 00:00:00 2023-02-11\n24           CNY                  RUB  6916-10-01 00:00:00 2023-02-12",
      "text/html": "<div>\n<style scoped>\n    .dataframe tbody tr th:only-of-type {\n        vertical-align: middle;\n    }\n\n    .dataframe tbody tr th {\n        vertical-align: top;\n    }\n\n    .dataframe thead th {\n        text-align: right;\n    }\n</style>\n<table border=\"1\" class=\"dataframe\">\n  <thead>\n    <tr style=\"text-align: right;\">\n      <th></th>\n      <th>rate_currency</th>\n      <th>rate_countercurrency</th>\n      <th>rate_value</th>\n      <th>rate_date</th>\n    </tr>\n  </thead>\n  <tbody>\n    <tr>\n      <th>0</th>\n      <td>CNY</td>\n      <td>RUB</td>\n      <td>4217-10-01 00:00:00</td>\n      <td>2023-02-06</td>\n    </tr>\n    <tr>\n      <th>4</th>\n      <td>CNY</td>\n      <td>RUB</td>\n      <td>3815-10-01 00:00:00</td>\n      <td>2023-02-07</td>\n    </tr>\n    <tr>\n      <th>8</th>\n      <td>CNY</td>\n      <td>RUB</td>\n      <td>4331-10-01 00:00:00</td>\n      <td>2023-02-08</td>\n    </tr>\n    <tr>\n      <th>12</th>\n      <td>CNY</td>\n      <td>RUB</td>\n      <td>5391-10-01 00:00:00</td>\n      <td>2023-02-09</td>\n    </tr>\n    <tr>\n      <th>16</th>\n      <td>CNY</td>\n      <td>RUB</td>\n      <td>7524-10-01 00:00:00</td>\n      <td>2023-02-10</td>\n    </tr>\n    <tr>\n      <th>20</th>\n      <td>CNY</td>\n      <td>RUB</td>\n      <td>6916-10-01 00:00:00</td>\n      <td>2023-02-11</td>\n    </tr>\n    <tr>\n      <th>24</th>\n      <td>CNY</td>\n      <td>RUB</td>\n      <td>6916-10-01 00:00:00</td>\n      <td>2023-02-12</td>\n    </tr>\n  </tbody>\n</table>\n</div>"
     },
     "execution_count": 76,
     "metadata": {},
     "output_type": "execute_result"
    }
   ],
   "source": [
    "currencies[currencies['rate_currency'] == 'CNY']"
   ]
  },
  {
   "cell_type": "code",
   "execution_count": 77,
   "id": "37a4f7dd",
   "metadata": {
    "ExecuteTime": {
     "end_time": "2023-10-22T11:59:51.721424500Z",
     "start_time": "2023-10-22T11:59:51.690928300Z"
    }
   },
   "outputs": [],
   "source": [
    "#при помощи лямбда - функции для каждого элемента поместили число 10 перед первыми четырьмя символами\n",
    "currencies.loc[currencies['rate_currency'] == 'CNY', 'rate_value']\\\n",
    "    = currencies.loc[currencies['rate_currency'] == 'CNY', 'rate_value'].astype(str)\\\n",
    "    .apply(lambda x: f'{x[5:7]}.{x[:4]}').astype(float)"
   ]
  },
  {
   "cell_type": "code",
   "execution_count": 78,
   "id": "714a4eb3",
   "metadata": {
    "ExecuteTime": {
     "end_time": "2023-10-22T11:59:53.541973300Z",
     "start_time": "2023-10-22T11:59:53.493263500Z"
    }
   },
   "outputs": [
    {
     "data": {
      "text/plain": "       operation_id   user_id    volume currency  operation_datetime  \\\n0           6935122  29282488   25000.0      RUR 2023-02-07 11:17:28   \n1           5201349  82189896  600000.0      RUR 2023-02-06 14:39:08   \n2           6935148   9959035   51596.0      USD 2023-02-08 16:07:21   \n3           1733794  30118944       2.5      USD 2023-02-06 15:22:53   \n4           3467597  26949080     346.7      RUR 2023-02-09 13:31:38   \n...             ...       ...       ...      ...                 ...   \n26016       1764422  28342244    2666.7      RUR 2023-02-10 23:23:23   \n26017       2646644  14987932    6000.0      USD 2023-02-07 15:31:19   \n26018       3528874  10041206      75.0      RUR 2023-02-09 15:36:53   \n26019        882225  30761181  200000.0      RUR 2023-02-08 17:24:21   \n26020       4705291   5499669     200.0      RUR 2023-02-06 10:48:22   \n\n      operation_date  \n0         2023-02-07  \n1         2023-02-06  \n2         2023-02-08  \n3         2023-02-06  \n4         2023-02-09  \n...              ...  \n26016     2023-02-10  \n26017     2023-02-07  \n26018     2023-02-09  \n26019     2023-02-08  \n26020     2023-02-06  \n\n[26021 rows x 6 columns]",
      "text/html": "<div>\n<style scoped>\n    .dataframe tbody tr th:only-of-type {\n        vertical-align: middle;\n    }\n\n    .dataframe tbody tr th {\n        vertical-align: top;\n    }\n\n    .dataframe thead th {\n        text-align: right;\n    }\n</style>\n<table border=\"1\" class=\"dataframe\">\n  <thead>\n    <tr style=\"text-align: right;\">\n      <th></th>\n      <th>operation_id</th>\n      <th>user_id</th>\n      <th>volume</th>\n      <th>currency</th>\n      <th>operation_datetime</th>\n      <th>operation_date</th>\n    </tr>\n  </thead>\n  <tbody>\n    <tr>\n      <th>0</th>\n      <td>6935122</td>\n      <td>29282488</td>\n      <td>25000.0</td>\n      <td>RUR</td>\n      <td>2023-02-07 11:17:28</td>\n      <td>2023-02-07</td>\n    </tr>\n    <tr>\n      <th>1</th>\n      <td>5201349</td>\n      <td>82189896</td>\n      <td>600000.0</td>\n      <td>RUR</td>\n      <td>2023-02-06 14:39:08</td>\n      <td>2023-02-06</td>\n    </tr>\n    <tr>\n      <th>2</th>\n      <td>6935148</td>\n      <td>9959035</td>\n      <td>51596.0</td>\n      <td>USD</td>\n      <td>2023-02-08 16:07:21</td>\n      <td>2023-02-08</td>\n    </tr>\n    <tr>\n      <th>3</th>\n      <td>1733794</td>\n      <td>30118944</td>\n      <td>2.5</td>\n      <td>USD</td>\n      <td>2023-02-06 15:22:53</td>\n      <td>2023-02-06</td>\n    </tr>\n    <tr>\n      <th>4</th>\n      <td>3467597</td>\n      <td>26949080</td>\n      <td>346.7</td>\n      <td>RUR</td>\n      <td>2023-02-09 13:31:38</td>\n      <td>2023-02-09</td>\n    </tr>\n    <tr>\n      <th>...</th>\n      <td>...</td>\n      <td>...</td>\n      <td>...</td>\n      <td>...</td>\n      <td>...</td>\n      <td>...</td>\n    </tr>\n    <tr>\n      <th>26016</th>\n      <td>1764422</td>\n      <td>28342244</td>\n      <td>2666.7</td>\n      <td>RUR</td>\n      <td>2023-02-10 23:23:23</td>\n      <td>2023-02-10</td>\n    </tr>\n    <tr>\n      <th>26017</th>\n      <td>2646644</td>\n      <td>14987932</td>\n      <td>6000.0</td>\n      <td>USD</td>\n      <td>2023-02-07 15:31:19</td>\n      <td>2023-02-07</td>\n    </tr>\n    <tr>\n      <th>26018</th>\n      <td>3528874</td>\n      <td>10041206</td>\n      <td>75.0</td>\n      <td>RUR</td>\n      <td>2023-02-09 15:36:53</td>\n      <td>2023-02-09</td>\n    </tr>\n    <tr>\n      <th>26019</th>\n      <td>882225</td>\n      <td>30761181</td>\n      <td>200000.0</td>\n      <td>RUR</td>\n      <td>2023-02-08 17:24:21</td>\n      <td>2023-02-08</td>\n    </tr>\n    <tr>\n      <th>26020</th>\n      <td>4705291</td>\n      <td>5499669</td>\n      <td>200.0</td>\n      <td>RUR</td>\n      <td>2023-02-06 10:48:22</td>\n      <td>2023-02-06</td>\n    </tr>\n  </tbody>\n</table>\n<p>26021 rows × 6 columns</p>\n</div>"
     },
     "execution_count": 78,
     "metadata": {},
     "output_type": "execute_result"
    }
   ],
   "source": [
    "incomes"
   ]
  },
  {
   "cell_type": "code",
   "execution_count": 93,
   "id": "121e34f5",
   "metadata": {},
   "outputs": [
    {
     "data": {
      "text/html": [
       "<div>\n",
       "<style scoped>\n",
       "    .dataframe tbody tr th:only-of-type {\n",
       "        vertical-align: middle;\n",
       "    }\n",
       "\n",
       "    .dataframe tbody tr th {\n",
       "        vertical-align: top;\n",
       "    }\n",
       "\n",
       "    .dataframe thead th {\n",
       "        text-align: right;\n",
       "    }\n",
       "</style>\n",
       "<table border=\"1\" class=\"dataframe\">\n",
       "  <thead>\n",
       "    <tr style=\"text-align: right;\">\n",
       "      <th></th>\n",
       "      <th>rate_currency</th>\n",
       "      <th>rate_countercurrency</th>\n",
       "      <th>rate_value</th>\n",
       "      <th>rate_date</th>\n",
       "    </tr>\n",
       "  </thead>\n",
       "  <tbody>\n",
       "    <tr>\n",
       "      <th>0</th>\n",
       "      <td>CNY</td>\n",
       "      <td>RUB</td>\n",
       "      <td>10.4217</td>\n",
       "      <td>2023-02-06</td>\n",
       "    </tr>\n",
       "    <tr>\n",
       "      <th>1</th>\n",
       "      <td>EUR</td>\n",
       "      <td>RUB</td>\n",
       "      <td>76.7344</td>\n",
       "      <td>2023-02-06</td>\n",
       "    </tr>\n",
       "    <tr>\n",
       "      <th>2</th>\n",
       "      <td>GEL</td>\n",
       "      <td>RUB</td>\n",
       "      <td>26.5863</td>\n",
       "      <td>2023-02-06</td>\n",
       "    </tr>\n",
       "    <tr>\n",
       "      <th>3</th>\n",
       "      <td>USD</td>\n",
       "      <td>RUB</td>\n",
       "      <td>70.3847</td>\n",
       "      <td>2023-02-06</td>\n",
       "    </tr>\n",
       "    <tr>\n",
       "      <th>4</th>\n",
       "      <td>CNY</td>\n",
       "      <td>RUB</td>\n",
       "      <td>10.3815</td>\n",
       "      <td>2023-02-07</td>\n",
       "    </tr>\n",
       "    <tr>\n",
       "      <th>5</th>\n",
       "      <td>EUR</td>\n",
       "      <td>RUB</td>\n",
       "      <td>76.0347</td>\n",
       "      <td>2023-02-07</td>\n",
       "    </tr>\n",
       "    <tr>\n",
       "      <th>6</th>\n",
       "      <td>GEL</td>\n",
       "      <td>RUB</td>\n",
       "      <td>26.7006</td>\n",
       "      <td>2023-02-07</td>\n",
       "    </tr>\n",
       "    <tr>\n",
       "      <th>7</th>\n",
       "      <td>USD</td>\n",
       "      <td>RUB</td>\n",
       "      <td>70.5991</td>\n",
       "      <td>2023-02-07</td>\n",
       "    </tr>\n",
       "    <tr>\n",
       "      <th>8</th>\n",
       "      <td>CNY</td>\n",
       "      <td>RUB</td>\n",
       "      <td>10.4331</td>\n",
       "      <td>2023-02-08</td>\n",
       "    </tr>\n",
       "    <tr>\n",
       "      <th>9</th>\n",
       "      <td>EUR</td>\n",
       "      <td>RUB</td>\n",
       "      <td>75.9087</td>\n",
       "      <td>2023-02-08</td>\n",
       "    </tr>\n",
       "    <tr>\n",
       "      <th>10</th>\n",
       "      <td>GEL</td>\n",
       "      <td>RUB</td>\n",
       "      <td>26.8288</td>\n",
       "      <td>2023-02-08</td>\n",
       "    </tr>\n",
       "    <tr>\n",
       "      <th>11</th>\n",
       "      <td>USD</td>\n",
       "      <td>RUB</td>\n",
       "      <td>70.8924</td>\n",
       "      <td>2023-02-08</td>\n",
       "    </tr>\n",
       "    <tr>\n",
       "      <th>12</th>\n",
       "      <td>CNY</td>\n",
       "      <td>RUB</td>\n",
       "      <td>10.5391</td>\n",
       "      <td>2023-02-09</td>\n",
       "    </tr>\n",
       "    <tr>\n",
       "      <th>13</th>\n",
       "      <td>EUR</td>\n",
       "      <td>RUB</td>\n",
       "      <td>76.8344</td>\n",
       "      <td>2023-02-09</td>\n",
       "    </tr>\n",
       "    <tr>\n",
       "      <th>14</th>\n",
       "      <td>GEL</td>\n",
       "      <td>RUB</td>\n",
       "      <td>27.0518</td>\n",
       "      <td>2023-02-09</td>\n",
       "    </tr>\n",
       "    <tr>\n",
       "      <th>15</th>\n",
       "      <td>USD</td>\n",
       "      <td>RUB</td>\n",
       "      <td>71.5763</td>\n",
       "      <td>2023-02-09</td>\n",
       "    </tr>\n",
       "    <tr>\n",
       "      <th>16</th>\n",
       "      <td>CNY</td>\n",
       "      <td>RUB</td>\n",
       "      <td>10.7524</td>\n",
       "      <td>2023-02-10</td>\n",
       "    </tr>\n",
       "    <tr>\n",
       "      <th>17</th>\n",
       "      <td>EUR</td>\n",
       "      <td>RUB</td>\n",
       "      <td>78.3223</td>\n",
       "      <td>2023-02-10</td>\n",
       "    </tr>\n",
       "    <tr>\n",
       "      <th>18</th>\n",
       "      <td>GEL</td>\n",
       "      <td>RUB</td>\n",
       "      <td>27.4474</td>\n",
       "      <td>2023-02-10</td>\n",
       "    </tr>\n",
       "    <tr>\n",
       "      <th>19</th>\n",
       "      <td>USD</td>\n",
       "      <td>RUB</td>\n",
       "      <td>72.8949</td>\n",
       "      <td>2023-02-10</td>\n",
       "    </tr>\n",
       "    <tr>\n",
       "      <th>20</th>\n",
       "      <td>CNY</td>\n",
       "      <td>RUB</td>\n",
       "      <td>10.6916</td>\n",
       "      <td>2023-02-11</td>\n",
       "    </tr>\n",
       "    <tr>\n",
       "      <th>21</th>\n",
       "      <td>EUR</td>\n",
       "      <td>RUB</td>\n",
       "      <td>78.0542</td>\n",
       "      <td>2023-02-11</td>\n",
       "    </tr>\n",
       "    <tr>\n",
       "      <th>22</th>\n",
       "      <td>GEL</td>\n",
       "      <td>RUB</td>\n",
       "      <td>27.261</td>\n",
       "      <td>2023-02-11</td>\n",
       "    </tr>\n",
       "    <tr>\n",
       "      <th>23</th>\n",
       "      <td>USD</td>\n",
       "      <td>RUB</td>\n",
       "      <td>72.7923</td>\n",
       "      <td>2023-02-11</td>\n",
       "    </tr>\n",
       "    <tr>\n",
       "      <th>24</th>\n",
       "      <td>CNY</td>\n",
       "      <td>RUB</td>\n",
       "      <td>10.6916</td>\n",
       "      <td>2023-02-12</td>\n",
       "    </tr>\n",
       "    <tr>\n",
       "      <th>25</th>\n",
       "      <td>EUR</td>\n",
       "      <td>RUB</td>\n",
       "      <td>78.0542</td>\n",
       "      <td>2023-02-12</td>\n",
       "    </tr>\n",
       "    <tr>\n",
       "      <th>26</th>\n",
       "      <td>GEL</td>\n",
       "      <td>RUB</td>\n",
       "      <td>27.261</td>\n",
       "      <td>2023-02-12</td>\n",
       "    </tr>\n",
       "    <tr>\n",
       "      <th>27</th>\n",
       "      <td>USD</td>\n",
       "      <td>RUB</td>\n",
       "      <td>72.7923</td>\n",
       "      <td>2023-02-12</td>\n",
       "    </tr>\n",
       "  </tbody>\n",
       "</table>\n",
       "</div>"
      ],
      "text/plain": [
       "   rate_currency rate_countercurrency rate_value  rate_date\n",
       "0            CNY                  RUB    10.4217 2023-02-06\n",
       "1            EUR                  RUB    76.7344 2023-02-06\n",
       "2            GEL                  RUB    26.5863 2023-02-06\n",
       "3            USD                  RUB    70.3847 2023-02-06\n",
       "4            CNY                  RUB    10.3815 2023-02-07\n",
       "5            EUR                  RUB    76.0347 2023-02-07\n",
       "6            GEL                  RUB    26.7006 2023-02-07\n",
       "7            USD                  RUB    70.5991 2023-02-07\n",
       "8            CNY                  RUB    10.4331 2023-02-08\n",
       "9            EUR                  RUB    75.9087 2023-02-08\n",
       "10           GEL                  RUB    26.8288 2023-02-08\n",
       "11           USD                  RUB    70.8924 2023-02-08\n",
       "12           CNY                  RUB    10.5391 2023-02-09\n",
       "13           EUR                  RUB    76.8344 2023-02-09\n",
       "14           GEL                  RUB    27.0518 2023-02-09\n",
       "15           USD                  RUB    71.5763 2023-02-09\n",
       "16           CNY                  RUB    10.7524 2023-02-10\n",
       "17           EUR                  RUB    78.3223 2023-02-10\n",
       "18           GEL                  RUB    27.4474 2023-02-10\n",
       "19           USD                  RUB    72.8949 2023-02-10\n",
       "20           CNY                  RUB    10.6916 2023-02-11\n",
       "21           EUR                  RUB    78.0542 2023-02-11\n",
       "22           GEL                  RUB     27.261 2023-02-11\n",
       "23           USD                  RUB    72.7923 2023-02-11\n",
       "24           CNY                  RUB    10.6916 2023-02-12\n",
       "25           EUR                  RUB    78.0542 2023-02-12\n",
       "26           GEL                  RUB     27.261 2023-02-12\n",
       "27           USD                  RUB    72.7923 2023-02-12"
      ]
     },
     "execution_count": 93,
     "metadata": {},
     "output_type": "execute_result"
    }
   ],
   "source": [
    "currencies #нормальные курсы валют без битых записей"
   ]
  },
  {
   "cell_type": "code",
   "execution_count": 79,
   "id": "1611c1dc",
   "metadata": {
    "ExecuteTime": {
     "end_time": "2023-10-22T12:01:06.482156Z",
     "start_time": "2023-10-22T12:01:06.457166900Z"
    }
   },
   "outputs": [],
   "source": [
    "#джойним дату на дату, валюту на валюту, left join - т.к есть рублевая валюта, которой не присвоено значения для конвертации\n",
    "incomes_with_currencies = incomes.merge(\n",
    "    currencies,\n",
    "    left_on=['operation_date', 'currency'],\n",
    "    right_on=['rate_date', 'rate_currency'],\n",
    "    how='left'\n",
    ")"
   ]
  },
  {
   "cell_type": "code",
   "execution_count": 80,
   "id": "1e9d92c4",
   "metadata": {
    "ExecuteTime": {
     "end_time": "2023-10-22T12:01:43.074411800Z",
     "start_time": "2023-10-22T12:01:43.033378800Z"
    }
   },
   "outputs": [
    {
     "data": {
      "text/plain": "       operation_id   user_id    volume currency  operation_datetime  \\\n0           6935122  29282488   25000.0      RUR 2023-02-07 11:17:28   \n1           5201349  82189896  600000.0      RUR 2023-02-06 14:39:08   \n2           6935148   9959035   51596.0      USD 2023-02-08 16:07:21   \n3           1733794  30118944       2.5      USD 2023-02-06 15:22:53   \n4           3467597  26949080     346.7      RUR 2023-02-09 13:31:38   \n...             ...       ...       ...      ...                 ...   \n26016       1764422  28342244    2666.7      RUR 2023-02-10 23:23:23   \n26017       2646644  14987932    6000.0      USD 2023-02-07 15:31:19   \n26018       3528874  10041206      75.0      RUR 2023-02-09 15:36:53   \n26019        882225  30761181  200000.0      RUR 2023-02-08 17:24:21   \n26020       4705291   5499669     200.0      RUR 2023-02-06 10:48:22   \n\n      operation_date rate_currency rate_countercurrency rate_value  rate_date  \n0         2023-02-07           NaN                  NaN        NaN        NaT  \n1         2023-02-06           NaN                  NaN        NaN        NaT  \n2         2023-02-08           USD                  RUB    70.8924 2023-02-08  \n3         2023-02-06           USD                  RUB    70.3847 2023-02-06  \n4         2023-02-09           NaN                  NaN        NaN        NaT  \n...              ...           ...                  ...        ...        ...  \n26016     2023-02-10           NaN                  NaN        NaN        NaT  \n26017     2023-02-07           USD                  RUB    70.5991 2023-02-07  \n26018     2023-02-09           NaN                  NaN        NaN        NaT  \n26019     2023-02-08           NaN                  NaN        NaN        NaT  \n26020     2023-02-06           NaN                  NaN        NaN        NaT  \n\n[26021 rows x 10 columns]",
      "text/html": "<div>\n<style scoped>\n    .dataframe tbody tr th:only-of-type {\n        vertical-align: middle;\n    }\n\n    .dataframe tbody tr th {\n        vertical-align: top;\n    }\n\n    .dataframe thead th {\n        text-align: right;\n    }\n</style>\n<table border=\"1\" class=\"dataframe\">\n  <thead>\n    <tr style=\"text-align: right;\">\n      <th></th>\n      <th>operation_id</th>\n      <th>user_id</th>\n      <th>volume</th>\n      <th>currency</th>\n      <th>operation_datetime</th>\n      <th>operation_date</th>\n      <th>rate_currency</th>\n      <th>rate_countercurrency</th>\n      <th>rate_value</th>\n      <th>rate_date</th>\n    </tr>\n  </thead>\n  <tbody>\n    <tr>\n      <th>0</th>\n      <td>6935122</td>\n      <td>29282488</td>\n      <td>25000.0</td>\n      <td>RUR</td>\n      <td>2023-02-07 11:17:28</td>\n      <td>2023-02-07</td>\n      <td>NaN</td>\n      <td>NaN</td>\n      <td>NaN</td>\n      <td>NaT</td>\n    </tr>\n    <tr>\n      <th>1</th>\n      <td>5201349</td>\n      <td>82189896</td>\n      <td>600000.0</td>\n      <td>RUR</td>\n      <td>2023-02-06 14:39:08</td>\n      <td>2023-02-06</td>\n      <td>NaN</td>\n      <td>NaN</td>\n      <td>NaN</td>\n      <td>NaT</td>\n    </tr>\n    <tr>\n      <th>2</th>\n      <td>6935148</td>\n      <td>9959035</td>\n      <td>51596.0</td>\n      <td>USD</td>\n      <td>2023-02-08 16:07:21</td>\n      <td>2023-02-08</td>\n      <td>USD</td>\n      <td>RUB</td>\n      <td>70.8924</td>\n      <td>2023-02-08</td>\n    </tr>\n    <tr>\n      <th>3</th>\n      <td>1733794</td>\n      <td>30118944</td>\n      <td>2.5</td>\n      <td>USD</td>\n      <td>2023-02-06 15:22:53</td>\n      <td>2023-02-06</td>\n      <td>USD</td>\n      <td>RUB</td>\n      <td>70.3847</td>\n      <td>2023-02-06</td>\n    </tr>\n    <tr>\n      <th>4</th>\n      <td>3467597</td>\n      <td>26949080</td>\n      <td>346.7</td>\n      <td>RUR</td>\n      <td>2023-02-09 13:31:38</td>\n      <td>2023-02-09</td>\n      <td>NaN</td>\n      <td>NaN</td>\n      <td>NaN</td>\n      <td>NaT</td>\n    </tr>\n    <tr>\n      <th>...</th>\n      <td>...</td>\n      <td>...</td>\n      <td>...</td>\n      <td>...</td>\n      <td>...</td>\n      <td>...</td>\n      <td>...</td>\n      <td>...</td>\n      <td>...</td>\n      <td>...</td>\n    </tr>\n    <tr>\n      <th>26016</th>\n      <td>1764422</td>\n      <td>28342244</td>\n      <td>2666.7</td>\n      <td>RUR</td>\n      <td>2023-02-10 23:23:23</td>\n      <td>2023-02-10</td>\n      <td>NaN</td>\n      <td>NaN</td>\n      <td>NaN</td>\n      <td>NaT</td>\n    </tr>\n    <tr>\n      <th>26017</th>\n      <td>2646644</td>\n      <td>14987932</td>\n      <td>6000.0</td>\n      <td>USD</td>\n      <td>2023-02-07 15:31:19</td>\n      <td>2023-02-07</td>\n      <td>USD</td>\n      <td>RUB</td>\n      <td>70.5991</td>\n      <td>2023-02-07</td>\n    </tr>\n    <tr>\n      <th>26018</th>\n      <td>3528874</td>\n      <td>10041206</td>\n      <td>75.0</td>\n      <td>RUR</td>\n      <td>2023-02-09 15:36:53</td>\n      <td>2023-02-09</td>\n      <td>NaN</td>\n      <td>NaN</td>\n      <td>NaN</td>\n      <td>NaT</td>\n    </tr>\n    <tr>\n      <th>26019</th>\n      <td>882225</td>\n      <td>30761181</td>\n      <td>200000.0</td>\n      <td>RUR</td>\n      <td>2023-02-08 17:24:21</td>\n      <td>2023-02-08</td>\n      <td>NaN</td>\n      <td>NaN</td>\n      <td>NaN</td>\n      <td>NaT</td>\n    </tr>\n    <tr>\n      <th>26020</th>\n      <td>4705291</td>\n      <td>5499669</td>\n      <td>200.0</td>\n      <td>RUR</td>\n      <td>2023-02-06 10:48:22</td>\n      <td>2023-02-06</td>\n      <td>NaN</td>\n      <td>NaN</td>\n      <td>NaN</td>\n      <td>NaT</td>\n    </tr>\n  </tbody>\n</table>\n<p>26021 rows × 10 columns</p>\n</div>"
     },
     "execution_count": 80,
     "metadata": {},
     "output_type": "execute_result"
    }
   ],
   "source": [
    "incomes_with_currencies"
   ]
  },
  {
   "cell_type": "code",
   "execution_count": 82,
   "id": "89d43215",
   "metadata": {
    "ExecuteTime": {
     "end_time": "2023-10-22T12:03:16.630391100Z",
     "start_time": "2023-10-22T12:03:16.597342100Z"
    }
   },
   "outputs": [],
   "source": [
    "#заполняем пустые значения значения валют единицами для рублей\n",
    "incomes_with_currencies['rate_value'] = incomes_with_currencies['rate_value'].fillna(1.0)"
   ]
  },
  {
   "cell_type": "code",
   "execution_count": 83,
   "id": "175147e9",
   "metadata": {
    "ExecuteTime": {
     "end_time": "2023-10-22T12:03:17.558392100Z",
     "start_time": "2023-10-22T12:03:17.528139700Z"
    }
   },
   "outputs": [],
   "source": [
    "incomes_with_currencies['rate_value'] = incomes_with_currencies['rate_value'].astype(float)"
   ]
  },
  {
   "cell_type": "code",
   "execution_count": 84,
   "id": "cd9ed8ea",
   "metadata": {
    "ExecuteTime": {
     "end_time": "2023-10-22T12:03:18.608670900Z",
     "start_time": "2023-10-22T12:03:18.602070300Z"
    }
   },
   "outputs": [],
   "source": [
    "incomes_with_currencies['volume'] = incomes_with_currencies['volume'].astype(float)"
   ]
  },
  {
   "cell_type": "code",
   "execution_count": 85,
   "id": "45449a55",
   "metadata": {
    "ExecuteTime": {
     "end_time": "2023-10-22T12:03:21.089326200Z",
     "start_time": "2023-10-22T12:03:21.084026200Z"
    }
   },
   "outputs": [],
   "source": [
    "# конвертируем\n",
    "incomes_with_currencies['volume_rub'] = incomes_with_currencies['rate_value'] * incomes_with_currencies['volume']"
   ]
  },
  {
   "cell_type": "code",
   "execution_count": 86,
   "id": "af7fb687",
   "metadata": {
    "ExecuteTime": {
     "end_time": "2023-10-22T12:03:24.697411800Z",
     "start_time": "2023-10-22T12:03:24.634457400Z"
    }
   },
   "outputs": [
    {
     "data": {
      "text/plain": "       operation_id   user_id    volume currency  operation_datetime  \\\n0           6935122  29282488   25000.0      RUR 2023-02-07 11:17:28   \n1           5201349  82189896  600000.0      RUR 2023-02-06 14:39:08   \n2           6935148   9959035   51596.0      USD 2023-02-08 16:07:21   \n3           1733794  30118944       2.5      USD 2023-02-06 15:22:53   \n4           3467597  26949080     346.7      RUR 2023-02-09 13:31:38   \n...             ...       ...       ...      ...                 ...   \n26016       1764422  28342244    2666.7      RUR 2023-02-10 23:23:23   \n26017       2646644  14987932    6000.0      USD 2023-02-07 15:31:19   \n26018       3528874  10041206      75.0      RUR 2023-02-09 15:36:53   \n26019        882225  30761181  200000.0      RUR 2023-02-08 17:24:21   \n26020       4705291   5499669     200.0      RUR 2023-02-06 10:48:22   \n\n      operation_date rate_currency rate_countercurrency  rate_value  \\\n0         2023-02-07           NaN                  NaN      1.0000   \n1         2023-02-06           NaN                  NaN      1.0000   \n2         2023-02-08           USD                  RUB     70.8924   \n3         2023-02-06           USD                  RUB     70.3847   \n4         2023-02-09           NaN                  NaN      1.0000   \n...              ...           ...                  ...         ...   \n26016     2023-02-10           NaN                  NaN      1.0000   \n26017     2023-02-07           USD                  RUB     70.5991   \n26018     2023-02-09           NaN                  NaN      1.0000   \n26019     2023-02-08           NaN                  NaN      1.0000   \n26020     2023-02-06           NaN                  NaN      1.0000   \n\n       rate_date    volume_rub  \n0            NaT  2.500000e+04  \n1            NaT  6.000000e+05  \n2     2023-02-08  3.657764e+06  \n3     2023-02-06  1.759617e+02  \n4            NaT  3.467000e+02  \n...          ...           ...  \n26016        NaT  2.666700e+03  \n26017 2023-02-07  4.235946e+05  \n26018        NaT  7.500000e+01  \n26019        NaT  2.000000e+05  \n26020        NaT  2.000000e+02  \n\n[26021 rows x 11 columns]",
      "text/html": "<div>\n<style scoped>\n    .dataframe tbody tr th:only-of-type {\n        vertical-align: middle;\n    }\n\n    .dataframe tbody tr th {\n        vertical-align: top;\n    }\n\n    .dataframe thead th {\n        text-align: right;\n    }\n</style>\n<table border=\"1\" class=\"dataframe\">\n  <thead>\n    <tr style=\"text-align: right;\">\n      <th></th>\n      <th>operation_id</th>\n      <th>user_id</th>\n      <th>volume</th>\n      <th>currency</th>\n      <th>operation_datetime</th>\n      <th>operation_date</th>\n      <th>rate_currency</th>\n      <th>rate_countercurrency</th>\n      <th>rate_value</th>\n      <th>rate_date</th>\n      <th>volume_rub</th>\n    </tr>\n  </thead>\n  <tbody>\n    <tr>\n      <th>0</th>\n      <td>6935122</td>\n      <td>29282488</td>\n      <td>25000.0</td>\n      <td>RUR</td>\n      <td>2023-02-07 11:17:28</td>\n      <td>2023-02-07</td>\n      <td>NaN</td>\n      <td>NaN</td>\n      <td>1.0000</td>\n      <td>NaT</td>\n      <td>2.500000e+04</td>\n    </tr>\n    <tr>\n      <th>1</th>\n      <td>5201349</td>\n      <td>82189896</td>\n      <td>600000.0</td>\n      <td>RUR</td>\n      <td>2023-02-06 14:39:08</td>\n      <td>2023-02-06</td>\n      <td>NaN</td>\n      <td>NaN</td>\n      <td>1.0000</td>\n      <td>NaT</td>\n      <td>6.000000e+05</td>\n    </tr>\n    <tr>\n      <th>2</th>\n      <td>6935148</td>\n      <td>9959035</td>\n      <td>51596.0</td>\n      <td>USD</td>\n      <td>2023-02-08 16:07:21</td>\n      <td>2023-02-08</td>\n      <td>USD</td>\n      <td>RUB</td>\n      <td>70.8924</td>\n      <td>2023-02-08</td>\n      <td>3.657764e+06</td>\n    </tr>\n    <tr>\n      <th>3</th>\n      <td>1733794</td>\n      <td>30118944</td>\n      <td>2.5</td>\n      <td>USD</td>\n      <td>2023-02-06 15:22:53</td>\n      <td>2023-02-06</td>\n      <td>USD</td>\n      <td>RUB</td>\n      <td>70.3847</td>\n      <td>2023-02-06</td>\n      <td>1.759617e+02</td>\n    </tr>\n    <tr>\n      <th>4</th>\n      <td>3467597</td>\n      <td>26949080</td>\n      <td>346.7</td>\n      <td>RUR</td>\n      <td>2023-02-09 13:31:38</td>\n      <td>2023-02-09</td>\n      <td>NaN</td>\n      <td>NaN</td>\n      <td>1.0000</td>\n      <td>NaT</td>\n      <td>3.467000e+02</td>\n    </tr>\n    <tr>\n      <th>...</th>\n      <td>...</td>\n      <td>...</td>\n      <td>...</td>\n      <td>...</td>\n      <td>...</td>\n      <td>...</td>\n      <td>...</td>\n      <td>...</td>\n      <td>...</td>\n      <td>...</td>\n      <td>...</td>\n    </tr>\n    <tr>\n      <th>26016</th>\n      <td>1764422</td>\n      <td>28342244</td>\n      <td>2666.7</td>\n      <td>RUR</td>\n      <td>2023-02-10 23:23:23</td>\n      <td>2023-02-10</td>\n      <td>NaN</td>\n      <td>NaN</td>\n      <td>1.0000</td>\n      <td>NaT</td>\n      <td>2.666700e+03</td>\n    </tr>\n    <tr>\n      <th>26017</th>\n      <td>2646644</td>\n      <td>14987932</td>\n      <td>6000.0</td>\n      <td>USD</td>\n      <td>2023-02-07 15:31:19</td>\n      <td>2023-02-07</td>\n      <td>USD</td>\n      <td>RUB</td>\n      <td>70.5991</td>\n      <td>2023-02-07</td>\n      <td>4.235946e+05</td>\n    </tr>\n    <tr>\n      <th>26018</th>\n      <td>3528874</td>\n      <td>10041206</td>\n      <td>75.0</td>\n      <td>RUR</td>\n      <td>2023-02-09 15:36:53</td>\n      <td>2023-02-09</td>\n      <td>NaN</td>\n      <td>NaN</td>\n      <td>1.0000</td>\n      <td>NaT</td>\n      <td>7.500000e+01</td>\n    </tr>\n    <tr>\n      <th>26019</th>\n      <td>882225</td>\n      <td>30761181</td>\n      <td>200000.0</td>\n      <td>RUR</td>\n      <td>2023-02-08 17:24:21</td>\n      <td>2023-02-08</td>\n      <td>NaN</td>\n      <td>NaN</td>\n      <td>1.0000</td>\n      <td>NaT</td>\n      <td>2.000000e+05</td>\n    </tr>\n    <tr>\n      <th>26020</th>\n      <td>4705291</td>\n      <td>5499669</td>\n      <td>200.0</td>\n      <td>RUR</td>\n      <td>2023-02-06 10:48:22</td>\n      <td>2023-02-06</td>\n      <td>NaN</td>\n      <td>NaN</td>\n      <td>1.0000</td>\n      <td>NaT</td>\n      <td>2.000000e+02</td>\n    </tr>\n  </tbody>\n</table>\n<p>26021 rows × 11 columns</p>\n</div>"
     },
     "execution_count": 86,
     "metadata": {},
     "output_type": "execute_result"
    }
   ],
   "source": [
    "incomes_with_currencies"
   ]
  },
  {
   "cell_type": "code",
   "execution_count": 87,
   "id": "904f2820",
   "metadata": {
    "ExecuteTime": {
     "end_time": "2023-10-22T12:04:50.151169100Z",
     "start_time": "2023-10-22T12:04:50.128112100Z"
    }
   },
   "outputs": [],
   "source": [
    "# ищем первое пополнение\n",
    "users_first_incomes = incomes_with_currencies.groupby('user_id')['operation_datetime'].min().reset_index()"
   ]
  },
  {
   "cell_type": "code",
   "execution_count": 113,
   "id": "f0e1b3cd",
   "metadata": {},
   "outputs": [],
   "source": [
    "# inner - берем только тех, у кого первое пополнение\n",
    "incomes_with_currencies_users_first_incomes = incomes_with_currencies.merge(\n",
    "    users_first_incomes,\n",
    "    on=['user_id', 'operation_datetime'],\n",
    "    how='inner')"
   ]
  },
  {
   "cell_type": "code",
   "execution_count": 116,
   "id": "64b06dc4",
   "metadata": {},
   "outputs": [
    {
     "data": {
      "text/plain": [
       "26114821150.3513"
      ]
     },
     "execution_count": 116,
     "metadata": {},
     "output_type": "execute_result"
    }
   ],
   "source": [
    "# ответ на 4 вопрос\n",
    "incomes_with_currencies_users_first_incomes['volume_rub'].sum()"
   ]
  },
  {
   "cell_type": "markdown",
   "id": "64103c50",
   "metadata": {},
   "source": [
    "# 5) Посчитайте по каждому клиенту среднюю разницу в днях между его пополнениями, выведите медианное значение по всем клиентам.\n",
    "Шаги\n",
    "1- Не интересуют те, кто транзачили только один раз\n",
    "2- Отсортировать датафрейм по пользователям Asc\n",
    "3- Будем смотреть актуальные лаги по времени"
   ]
  },
  {
   "cell_type": "code",
   "execution_count": 88,
   "id": "c4287512",
   "metadata": {
    "ExecuteTime": {
     "end_time": "2023-10-22T12:19:04.405141200Z",
     "start_time": "2023-10-22T12:19:04.370811800Z"
    }
   },
   "outputs": [],
   "source": [
    "incomes_users_transactions_more_than_one = incomes[incomes['user_id'].isin(users_transactions_more_than_one)].copy(deep=True)"
   ]
  },
  {
   "cell_type": "code",
   "execution_count": 91,
   "id": "f5719ae1",
   "metadata": {
    "ExecuteTime": {
     "end_time": "2023-10-22T12:19:16.929611100Z",
     "start_time": "2023-10-22T12:19:16.852425900Z"
    }
   },
   "outputs": [
    {
     "data": {
      "text/plain": "       operation_id    user_id     volume currency  operation_datetime  \\\n25633       3522176      13027     1724.6      USD 2023-02-08 11:09:39   \n5961        3472673      13027     1161.8      USD 2023-02-10 11:11:25   \n2193        1158517      38439  1401488.0      RUR 2023-02-08 22:23:32   \n3343        3475880      38439     5000.0      RUR 2023-02-10 14:18:28   \n24337       1760638      46330   105000.0      RUR 2023-02-08 11:11:26   \n...             ...        ...        ...      ...                 ...   \n19521       3508539  122998292    40000.0      RUR 2023-02-06 17:02:33   \n20803        877660  123024856   225000.0      RUR 2023-02-06 15:01:14   \n25335       4693705  123024856   278000.0      RUR 2023-02-07 19:26:09   \n17600       7030872  123068648     3333.3      RUR 2023-02-07 11:22:25   \n21756       3520656  123068648   300000.0      RUR 2023-02-10 18:33:48   \n\n      operation_date  \n25633     2023-02-08  \n5961      2023-02-10  \n2193      2023-02-08  \n3343      2023-02-10  \n24337     2023-02-08  \n...              ...  \n19521     2023-02-06  \n20803     2023-02-06  \n25335     2023-02-07  \n17600     2023-02-07  \n21756     2023-02-10  \n\n[3568 rows x 6 columns]",
      "text/html": "<div>\n<style scoped>\n    .dataframe tbody tr th:only-of-type {\n        vertical-align: middle;\n    }\n\n    .dataframe tbody tr th {\n        vertical-align: top;\n    }\n\n    .dataframe thead th {\n        text-align: right;\n    }\n</style>\n<table border=\"1\" class=\"dataframe\">\n  <thead>\n    <tr style=\"text-align: right;\">\n      <th></th>\n      <th>operation_id</th>\n      <th>user_id</th>\n      <th>volume</th>\n      <th>currency</th>\n      <th>operation_datetime</th>\n      <th>operation_date</th>\n    </tr>\n  </thead>\n  <tbody>\n    <tr>\n      <th>25633</th>\n      <td>3522176</td>\n      <td>13027</td>\n      <td>1724.6</td>\n      <td>USD</td>\n      <td>2023-02-08 11:09:39</td>\n      <td>2023-02-08</td>\n    </tr>\n    <tr>\n      <th>5961</th>\n      <td>3472673</td>\n      <td>13027</td>\n      <td>1161.8</td>\n      <td>USD</td>\n      <td>2023-02-10 11:11:25</td>\n      <td>2023-02-10</td>\n    </tr>\n    <tr>\n      <th>2193</th>\n      <td>1158517</td>\n      <td>38439</td>\n      <td>1401488.0</td>\n      <td>RUR</td>\n      <td>2023-02-08 22:23:32</td>\n      <td>2023-02-08</td>\n    </tr>\n    <tr>\n      <th>3343</th>\n      <td>3475880</td>\n      <td>38439</td>\n      <td>5000.0</td>\n      <td>RUR</td>\n      <td>2023-02-10 14:18:28</td>\n      <td>2023-02-10</td>\n    </tr>\n    <tr>\n      <th>24337</th>\n      <td>1760638</td>\n      <td>46330</td>\n      <td>105000.0</td>\n      <td>RUR</td>\n      <td>2023-02-08 11:11:26</td>\n      <td>2023-02-08</td>\n    </tr>\n    <tr>\n      <th>...</th>\n      <td>...</td>\n      <td>...</td>\n      <td>...</td>\n      <td>...</td>\n      <td>...</td>\n      <td>...</td>\n    </tr>\n    <tr>\n      <th>19521</th>\n      <td>3508539</td>\n      <td>122998292</td>\n      <td>40000.0</td>\n      <td>RUR</td>\n      <td>2023-02-06 17:02:33</td>\n      <td>2023-02-06</td>\n    </tr>\n    <tr>\n      <th>20803</th>\n      <td>877660</td>\n      <td>123024856</td>\n      <td>225000.0</td>\n      <td>RUR</td>\n      <td>2023-02-06 15:01:14</td>\n      <td>2023-02-06</td>\n    </tr>\n    <tr>\n      <th>25335</th>\n      <td>4693705</td>\n      <td>123024856</td>\n      <td>278000.0</td>\n      <td>RUR</td>\n      <td>2023-02-07 19:26:09</td>\n      <td>2023-02-07</td>\n    </tr>\n    <tr>\n      <th>17600</th>\n      <td>7030872</td>\n      <td>123068648</td>\n      <td>3333.3</td>\n      <td>RUR</td>\n      <td>2023-02-07 11:22:25</td>\n      <td>2023-02-07</td>\n    </tr>\n    <tr>\n      <th>21756</th>\n      <td>3520656</td>\n      <td>123068648</td>\n      <td>300000.0</td>\n      <td>RUR</td>\n      <td>2023-02-10 18:33:48</td>\n      <td>2023-02-10</td>\n    </tr>\n  </tbody>\n</table>\n<p>3568 rows × 6 columns</p>\n</div>"
     },
     "execution_count": 91,
     "metadata": {},
     "output_type": "execute_result"
    }
   ],
   "source": [
    "incomes_users_transactions_more_than_one_sorted = incomes_users_transactions_more_than_one.sort_values(['user_id', 'operation_datetime'])\n",
    "incomes_users_transactions_more_than_one_sorted"
   ]
  },
  {
   "cell_type": "code",
   "execution_count": 93,
   "id": "9aff454c",
   "metadata": {
    "ExecuteTime": {
     "end_time": "2023-10-22T13:04:36.870373400Z",
     "start_time": "2023-10-22T13:04:36.773692400Z"
    }
   },
   "outputs": [
    {
     "data": {
      "text/plain": "       operation_id    user_id     volume currency  operation_datetime  \\\n25633       3522176      13027     1724.6      USD 2023-02-08 11:09:39   \n5961        3472673      13027     1161.8      USD 2023-02-10 11:11:25   \n2193        1158517      38439  1401488.0      RUR 2023-02-08 22:23:32   \n3343        3475880      38439     5000.0      RUR 2023-02-10 14:18:28   \n24337       1760638      46330   105000.0      RUR 2023-02-08 11:11:26   \n...             ...        ...        ...      ...                 ...   \n19521       3508539  122998292    40000.0      RUR 2023-02-06 17:02:33   \n20803        877660  123024856   225000.0      RUR 2023-02-06 15:01:14   \n25335       4693705  123024856   278000.0      RUR 2023-02-07 19:26:09   \n17600       7030872  123068648     3333.3      RUR 2023-02-07 11:22:25   \n21756       3520656  123068648   300000.0      RUR 2023-02-10 18:33:48   \n\n      operation_date operation_datetime_lag  \n25633     2023-02-08                    NaT  \n5961      2023-02-10    2023-02-08 11:09:39  \n2193      2023-02-08                    NaT  \n3343      2023-02-10    2023-02-08 22:23:32  \n24337     2023-02-08                    NaT  \n...              ...                    ...  \n19521     2023-02-06    2023-02-06 16:08:15  \n20803     2023-02-06                    NaT  \n25335     2023-02-07    2023-02-06 15:01:14  \n17600     2023-02-07                    NaT  \n21756     2023-02-10    2023-02-07 11:22:25  \n\n[3568 rows x 7 columns]",
      "text/html": "<div>\n<style scoped>\n    .dataframe tbody tr th:only-of-type {\n        vertical-align: middle;\n    }\n\n    .dataframe tbody tr th {\n        vertical-align: top;\n    }\n\n    .dataframe thead th {\n        text-align: right;\n    }\n</style>\n<table border=\"1\" class=\"dataframe\">\n  <thead>\n    <tr style=\"text-align: right;\">\n      <th></th>\n      <th>operation_id</th>\n      <th>user_id</th>\n      <th>volume</th>\n      <th>currency</th>\n      <th>operation_datetime</th>\n      <th>operation_date</th>\n      <th>operation_datetime_lag</th>\n    </tr>\n  </thead>\n  <tbody>\n    <tr>\n      <th>25633</th>\n      <td>3522176</td>\n      <td>13027</td>\n      <td>1724.6</td>\n      <td>USD</td>\n      <td>2023-02-08 11:09:39</td>\n      <td>2023-02-08</td>\n      <td>NaT</td>\n    </tr>\n    <tr>\n      <th>5961</th>\n      <td>3472673</td>\n      <td>13027</td>\n      <td>1161.8</td>\n      <td>USD</td>\n      <td>2023-02-10 11:11:25</td>\n      <td>2023-02-10</td>\n      <td>2023-02-08 11:09:39</td>\n    </tr>\n    <tr>\n      <th>2193</th>\n      <td>1158517</td>\n      <td>38439</td>\n      <td>1401488.0</td>\n      <td>RUR</td>\n      <td>2023-02-08 22:23:32</td>\n      <td>2023-02-08</td>\n      <td>NaT</td>\n    </tr>\n    <tr>\n      <th>3343</th>\n      <td>3475880</td>\n      <td>38439</td>\n      <td>5000.0</td>\n      <td>RUR</td>\n      <td>2023-02-10 14:18:28</td>\n      <td>2023-02-10</td>\n      <td>2023-02-08 22:23:32</td>\n    </tr>\n    <tr>\n      <th>24337</th>\n      <td>1760638</td>\n      <td>46330</td>\n      <td>105000.0</td>\n      <td>RUR</td>\n      <td>2023-02-08 11:11:26</td>\n      <td>2023-02-08</td>\n      <td>NaT</td>\n    </tr>\n    <tr>\n      <th>...</th>\n      <td>...</td>\n      <td>...</td>\n      <td>...</td>\n      <td>...</td>\n      <td>...</td>\n      <td>...</td>\n      <td>...</td>\n    </tr>\n    <tr>\n      <th>19521</th>\n      <td>3508539</td>\n      <td>122998292</td>\n      <td>40000.0</td>\n      <td>RUR</td>\n      <td>2023-02-06 17:02:33</td>\n      <td>2023-02-06</td>\n      <td>2023-02-06 16:08:15</td>\n    </tr>\n    <tr>\n      <th>20803</th>\n      <td>877660</td>\n      <td>123024856</td>\n      <td>225000.0</td>\n      <td>RUR</td>\n      <td>2023-02-06 15:01:14</td>\n      <td>2023-02-06</td>\n      <td>NaT</td>\n    </tr>\n    <tr>\n      <th>25335</th>\n      <td>4693705</td>\n      <td>123024856</td>\n      <td>278000.0</td>\n      <td>RUR</td>\n      <td>2023-02-07 19:26:09</td>\n      <td>2023-02-07</td>\n      <td>2023-02-06 15:01:14</td>\n    </tr>\n    <tr>\n      <th>17600</th>\n      <td>7030872</td>\n      <td>123068648</td>\n      <td>3333.3</td>\n      <td>RUR</td>\n      <td>2023-02-07 11:22:25</td>\n      <td>2023-02-07</td>\n      <td>NaT</td>\n    </tr>\n    <tr>\n      <th>21756</th>\n      <td>3520656</td>\n      <td>123068648</td>\n      <td>300000.0</td>\n      <td>RUR</td>\n      <td>2023-02-10 18:33:48</td>\n      <td>2023-02-10</td>\n      <td>2023-02-07 11:22:25</td>\n    </tr>\n  </tbody>\n</table>\n<p>3568 rows × 7 columns</p>\n</div>"
     },
     "execution_count": 93,
     "metadata": {},
     "output_type": "execute_result"
    }
   ],
   "source": [
    "#оконная функция = 1. отсортировали по времени, 2. берем предыдущее значение по времени\n",
    "incomes_users_transactions_more_than_one_sorted['operation_datetime_lag'] = incomes_users_transactions_more_than_one_sorted.groupby('user_id')['operation_datetime'].shift(1)\n",
    "incomes_users_transactions_more_than_one_sorted"
   ]
  },
  {
   "cell_type": "code",
   "execution_count": 94,
   "outputs": [
    {
     "data": {
      "text/plain": "25633     True\n5961     False\n2193      True\n3343     False\n24337     True\n         ...  \n19521    False\n20803     True\n25335    False\n17600     True\n21756    False\nName: operation_datetime_lag, Length: 3568, dtype: bool"
     },
     "execution_count": 94,
     "metadata": {},
     "output_type": "execute_result"
    }
   ],
   "source": [
    "# выкинем NaT, подготавливаем маску\n",
    "incomes_users_transactions_more_than_one_sorted['operation_datetime_lag'].isna()"
   ],
   "metadata": {
    "collapsed": false,
    "ExecuteTime": {
     "end_time": "2023-10-22T13:06:02.715203200Z",
     "start_time": "2023-10-22T13:06:02.637293300Z"
    }
   }
  },
  {
   "cell_type": "code",
   "execution_count": 98,
   "id": "21e19b04",
   "metadata": {
    "ExecuteTime": {
     "end_time": "2023-10-22T13:09:07.203409500Z",
     "start_time": "2023-10-22T13:09:07.152719200Z"
    }
   },
   "outputs": [
    {
     "data": {
      "text/plain": "       operation_id    user_id     volume currency  operation_datetime  \\\n5961        3472673      13027     1161.8      USD 2023-02-10 11:11:25   \n3343        3475880      38439     5000.0      RUR 2023-02-10 14:18:28   \n14824       6992512      46330    20000.0      RUR 2023-02-10 14:28:15   \n15865        876508      50918    15000.0      RUR 2023-02-09 09:03:23   \n5634        5212268      84281   150000.0      RUR 2023-02-06 17:47:31   \n...             ...        ...        ...      ...                 ...   \n7066        3487541  122665840   255000.0      RUR 2023-02-10 11:42:24   \n25639       7045286  122749808  3134333.3      RUR 2023-02-10 13:36:06   \n19521       3508539  122998292    40000.0      RUR 2023-02-06 17:02:33   \n25335       4693705  123024856   278000.0      RUR 2023-02-07 19:26:09   \n21756       3520656  123068648   300000.0      RUR 2023-02-10 18:33:48   \n\n      operation_date operation_datetime_lag  \n5961      2023-02-10    2023-02-08 11:09:39  \n3343      2023-02-10    2023-02-08 22:23:32  \n14824     2023-02-10    2023-02-08 11:11:26  \n15865     2023-02-09    2023-02-06 08:41:36  \n5634      2023-02-06    2023-02-06 13:08:22  \n...              ...                    ...  \n7066      2023-02-10    2023-02-06 14:11:44  \n25639     2023-02-10    2023-02-07 18:00:29  \n19521     2023-02-06    2023-02-06 16:08:15  \n25335     2023-02-07    2023-02-06 15:01:14  \n21756     2023-02-10    2023-02-07 11:22:25  \n\n[1929 rows x 7 columns]",
      "text/html": "<div>\n<style scoped>\n    .dataframe tbody tr th:only-of-type {\n        vertical-align: middle;\n    }\n\n    .dataframe tbody tr th {\n        vertical-align: top;\n    }\n\n    .dataframe thead th {\n        text-align: right;\n    }\n</style>\n<table border=\"1\" class=\"dataframe\">\n  <thead>\n    <tr style=\"text-align: right;\">\n      <th></th>\n      <th>operation_id</th>\n      <th>user_id</th>\n      <th>volume</th>\n      <th>currency</th>\n      <th>operation_datetime</th>\n      <th>operation_date</th>\n      <th>operation_datetime_lag</th>\n    </tr>\n  </thead>\n  <tbody>\n    <tr>\n      <th>5961</th>\n      <td>3472673</td>\n      <td>13027</td>\n      <td>1161.8</td>\n      <td>USD</td>\n      <td>2023-02-10 11:11:25</td>\n      <td>2023-02-10</td>\n      <td>2023-02-08 11:09:39</td>\n    </tr>\n    <tr>\n      <th>3343</th>\n      <td>3475880</td>\n      <td>38439</td>\n      <td>5000.0</td>\n      <td>RUR</td>\n      <td>2023-02-10 14:18:28</td>\n      <td>2023-02-10</td>\n      <td>2023-02-08 22:23:32</td>\n    </tr>\n    <tr>\n      <th>14824</th>\n      <td>6992512</td>\n      <td>46330</td>\n      <td>20000.0</td>\n      <td>RUR</td>\n      <td>2023-02-10 14:28:15</td>\n      <td>2023-02-10</td>\n      <td>2023-02-08 11:11:26</td>\n    </tr>\n    <tr>\n      <th>15865</th>\n      <td>876508</td>\n      <td>50918</td>\n      <td>15000.0</td>\n      <td>RUR</td>\n      <td>2023-02-09 09:03:23</td>\n      <td>2023-02-09</td>\n      <td>2023-02-06 08:41:36</td>\n    </tr>\n    <tr>\n      <th>5634</th>\n      <td>5212268</td>\n      <td>84281</td>\n      <td>150000.0</td>\n      <td>RUR</td>\n      <td>2023-02-06 17:47:31</td>\n      <td>2023-02-06</td>\n      <td>2023-02-06 13:08:22</td>\n    </tr>\n    <tr>\n      <th>...</th>\n      <td>...</td>\n      <td>...</td>\n      <td>...</td>\n      <td>...</td>\n      <td>...</td>\n      <td>...</td>\n      <td>...</td>\n    </tr>\n    <tr>\n      <th>7066</th>\n      <td>3487541</td>\n      <td>122665840</td>\n      <td>255000.0</td>\n      <td>RUR</td>\n      <td>2023-02-10 11:42:24</td>\n      <td>2023-02-10</td>\n      <td>2023-02-06 14:11:44</td>\n    </tr>\n    <tr>\n      <th>25639</th>\n      <td>7045286</td>\n      <td>122749808</td>\n      <td>3134333.3</td>\n      <td>RUR</td>\n      <td>2023-02-10 13:36:06</td>\n      <td>2023-02-10</td>\n      <td>2023-02-07 18:00:29</td>\n    </tr>\n    <tr>\n      <th>19521</th>\n      <td>3508539</td>\n      <td>122998292</td>\n      <td>40000.0</td>\n      <td>RUR</td>\n      <td>2023-02-06 17:02:33</td>\n      <td>2023-02-06</td>\n      <td>2023-02-06 16:08:15</td>\n    </tr>\n    <tr>\n      <th>25335</th>\n      <td>4693705</td>\n      <td>123024856</td>\n      <td>278000.0</td>\n      <td>RUR</td>\n      <td>2023-02-07 19:26:09</td>\n      <td>2023-02-07</td>\n      <td>2023-02-06 15:01:14</td>\n    </tr>\n    <tr>\n      <th>21756</th>\n      <td>3520656</td>\n      <td>123068648</td>\n      <td>300000.0</td>\n      <td>RUR</td>\n      <td>2023-02-10 18:33:48</td>\n      <td>2023-02-10</td>\n      <td>2023-02-07 11:22:25</td>\n    </tr>\n  </tbody>\n</table>\n<p>1929 rows × 7 columns</p>\n</div>"
     },
     "execution_count": 98,
     "metadata": {},
     "output_type": "execute_result"
    }
   ],
   "source": [
    "# Тильда ~ знак инверсии\n",
    "incomes_users_transactions_more_than_one_sorted_only_lags = incomes_users_transactions_more_than_one_sorted[\n",
    "    ~incomes_users_transactions_more_than_one_sorted['operation_datetime_lag'].isna()]\n",
    "incomes_users_transactions_more_than_one_sorted_only_lags"
   ]
  },
  {
   "cell_type": "code",
   "execution_count": null,
   "id": "b882523f",
   "metadata": {},
   "outputs": [],
   "source": [
    "# \\ знак экранирования\n",
    "# дельта по времени\n",
    "incomes_users_transactions_more_than_one_sorted_only_lags['operation_datetime_delta'] \\\n",
    "    = incomes_users_transactions_more_than_one_sorted_only_lags['operation_datetime'] \\\n",
    "    - incomes_users_transactions_more_than_one_sorted_only_lags['operation_datetime_lag']"
   ]
  },
  {
   "cell_type": "code",
   "execution_count": 101,
   "id": "dffa0de7",
   "metadata": {
    "ExecuteTime": {
     "end_time": "2023-10-22T13:13:16.299293100Z",
     "start_time": "2023-10-22T13:13:16.168506600Z"
    }
   },
   "outputs": [
    {
     "data": {
      "text/plain": "        user_id operation_datetime_delta\n0         13027          2 days 00:01:46\n1         38439          1 days 15:54:56\n2         46330          2 days 03:16:49\n3         50918          3 days 00:21:47\n4         84281          0 days 04:39:09\n...         ...                      ...\n1634  122665840          3 days 21:30:40\n1635  122749808          2 days 19:35:37\n1636  122998292          0 days 00:54:18\n1637  123024856          1 days 04:24:55\n1638  123068648          3 days 07:11:23\n\n[1639 rows x 2 columns]",
      "text/html": "<div>\n<style scoped>\n    .dataframe tbody tr th:only-of-type {\n        vertical-align: middle;\n    }\n\n    .dataframe tbody tr th {\n        vertical-align: top;\n    }\n\n    .dataframe thead th {\n        text-align: right;\n    }\n</style>\n<table border=\"1\" class=\"dataframe\">\n  <thead>\n    <tr style=\"text-align: right;\">\n      <th></th>\n      <th>user_id</th>\n      <th>operation_datetime_delta</th>\n    </tr>\n  </thead>\n  <tbody>\n    <tr>\n      <th>0</th>\n      <td>13027</td>\n      <td>2 days 00:01:46</td>\n    </tr>\n    <tr>\n      <th>1</th>\n      <td>38439</td>\n      <td>1 days 15:54:56</td>\n    </tr>\n    <tr>\n      <th>2</th>\n      <td>46330</td>\n      <td>2 days 03:16:49</td>\n    </tr>\n    <tr>\n      <th>3</th>\n      <td>50918</td>\n      <td>3 days 00:21:47</td>\n    </tr>\n    <tr>\n      <th>4</th>\n      <td>84281</td>\n      <td>0 days 04:39:09</td>\n    </tr>\n    <tr>\n      <th>...</th>\n      <td>...</td>\n      <td>...</td>\n    </tr>\n    <tr>\n      <th>1634</th>\n      <td>122665840</td>\n      <td>3 days 21:30:40</td>\n    </tr>\n    <tr>\n      <th>1635</th>\n      <td>122749808</td>\n      <td>2 days 19:35:37</td>\n    </tr>\n    <tr>\n      <th>1636</th>\n      <td>122998292</td>\n      <td>0 days 00:54:18</td>\n    </tr>\n    <tr>\n      <th>1637</th>\n      <td>123024856</td>\n      <td>1 days 04:24:55</td>\n    </tr>\n    <tr>\n      <th>1638</th>\n      <td>123068648</td>\n      <td>3 days 07:11:23</td>\n    </tr>\n  </tbody>\n</table>\n<p>1639 rows × 2 columns</p>\n</div>"
     },
     "execution_count": 101,
     "metadata": {},
     "output_type": "execute_result"
    }
   ],
   "source": [
    "user_operation_datetime_delta = incomes_users_transactions_more_than_one_sorted_only_lags.groupby('user_id')['operation_datetime_delta'].mean().reset_index()\n",
    "user_operation_datetime_delta\n",
    "#собрано среднее время между пополнениями"
   ]
  },
  {
   "cell_type": "code",
   "execution_count": 102,
   "id": "192bbe51",
   "metadata": {
    "ExecuteTime": {
     "end_time": "2023-10-22T13:14:21.392536400Z",
     "start_time": "2023-10-22T13:14:21.279136900Z"
    }
   },
   "outputs": [
    {
     "data": {
      "text/plain": "1.0"
     },
     "execution_count": 102,
     "metadata": {},
     "output_type": "execute_result"
    }
   ],
   "source": [
    "# получаем дни и берем медианное время = ответ на 5 вопрос\n",
    "np.median(user_operation_datetime_delta['operation_datetime_delta'].dt.days)"
   ]
  }
 ],
 "metadata": {
  "kernelspec": {
   "display_name": "Python 3 (ipykernel)",
   "language": "python",
   "name": "python3"
  },
  "language_info": {
   "codemirror_mode": {
    "name": "ipython",
    "version": 3
   },
   "file_extension": ".py",
   "mimetype": "text/x-python",
   "name": "python",
   "nbconvert_exporter": "python",
   "pygments_lexer": "ipython3",
   "version": "3.10.9"
  }
 },
 "nbformat": 4,
 "nbformat_minor": 5
}
